{
 "cells": [
  {
   "cell_type": "markdown",
   "id": "dbd7e79d-3a0e-43fd-8193-8d9f96f7dc25",
   "metadata": {},
   "source": [
    "# Problem Set 1 (PS1): A Deeper Dive into Malkiel's Theorem 4\n",
    "Malkiel proposed five theorems that govern the price of fixed-income debt securities, e.g., Treasury Bills, Notes, and Bonds, as a function of duration, yield, and coupon (interest) rate values:\n",
    "\n",
    "> [Malkiel, B. G. (1962). Expectations, Bond Prices, and the Term Structure of Interest Rates. The Quarterly Journal of Economics, 76(2), 197–218. https://doi.org/10.2307/1880816](https://www.jstor.org/stable/1880816)\n",
    "\n",
    "In class, we showed (by simulation) that we could observe the essential stipulation of `Theorem 4`: Price movements resulting from equal absolute increases and decreases in yield are asymmetric; i.e., decreasing yields raise bond prices more than the same increase in yields lowers prices. However, during the discussion of the simulation results, we encountered an interesting question: \n",
    "> __Question__: Would you expect the price asymmetry to increase or decrease with the duration of the note or bond?\n",
    "\n",
    "### Tasks\n",
    "The objective of this problem set is to explore the price asymmetry question we introduced in the lecture by simulating price changes in different instruments resulting from changes in $\\bar{r}$.\n",
    "* __Setup, Data and Prerequisites__: Load the Treasury auction dataset. We load some data and set up components that we use below. There is nothing to do in the __prerequisite__ section, but check it out if you are curious.\n",
    "* __Task 1__: Compute prices for a Bill, Note, and Bond to check our implementation. We've selected some Treasury securities from the dataset, but we must build models and compute prices (and other data). In this task, you will create (and populate) models of a Bill, a Note, and a Bond and compare the computed price with the price observed at auction.\n",
    "* __Task 2__: In class, we showed that notes (and, by extension, bonds) show price change asymmetry. However, we have not explored whether Bills also have this property. In this task, you'll use the treasury bill model we created above and explore the price asymmetry question by simulation.\n",
    "* __Task 3__: Finally, in class, we showed that coupon securities exhibited price asymmetry, i.e., the absolute percentage change in price was larger for decreases in $\\bar{r}\\downarrow$ compared to the response when $\\bar{r}\\uparrow$ increases. However, are longer-maturity instruments more sensitive to this effect, i.e., do they exhibit larger asymmetry? Let's do some calculations to explore this question.\n",
    "\n",
    "Let's get started!\n",
    "___"
   ]
  },
  {
   "cell_type": "markdown",
   "id": "5f650607-3f7e-4e24-a680-2fabf9c2f3e4",
   "metadata": {},
   "source": [
    "## Setup, Data, and Prerequisites\n",
    "We set up the computational environment by including the `Include.jl` file, loading any needed resources, such as sample datasets, and setting up any required constants. \n",
    "\n",
    "> __Include:__ The [include(...) function](https://docs.julialang.org/en/v1/base/base/#include) is a convenient way to load Julia code from another file. The `Include.jl` file is a Julia file that loads external packages and various functions that we will use in the exercise. It checks for a `Manifest.toml` file; if it finds one, packages are loaded. Otherwise, packages are downloaded and then loaded.\n",
    "\n",
    "Set up your computational environment by running the code cell below."
   ]
  },
  {
   "cell_type": "code",
   "execution_count": null,
   "id": "1e9d8a32-05e3-4688-b67e-4e66737fe4fd",
   "metadata": {},
   "outputs": [],
   "source": [
    "include(joinpath(@__DIR__, \"Include.jl\")); # this sets up the environment, we'll do this all the time, on everything we do"
   ]
  },
  {
   "cell_type": "markdown",
   "id": "e5fe360d",
   "metadata": {},
   "source": [
    "For additional information on functions and types used in this material, see the [Julia programming language documentation](https://docs.julialang.org/en/v1/) and the [VLQuantitativeFinancePackage.jl documentation](https://github.com/varnerlab/VLQuantitativeFinancePackage.jl)."
   ]
  },
  {
   "cell_type": "markdown",
   "id": "de0a2e1b-295c-4514-a9f5-ace350f7ea2c",
   "metadata": {},
   "source": [
    "### Data\n",
    "We'll explore `T-bill,` `T-note,` and `T-bond` prices from United States Treasury auctions between March 2020 and September 2024, downloaded as a `CSV` file using the [Auction query functionality of TreasuryDirect.gov](https://www.treasurydirect.gov/auctions/auction-query/). We load the `CSV` dataset using the local [`MyTreasuryBillsNotesAndBondsDataSet()` function](src/Files.jl), which returns the auction data as [the `dataset::DataFrame`](https://dataframes.juliadata.org/stable/) variable."
   ]
  },
  {
   "cell_type": "code",
   "execution_count": 2,
   "id": "5279a66f-574d-4a93-8dc6-cec8c3ea10c3",
   "metadata": {},
   "outputs": [
    {
     "data": {
      "text/html": [
       "<div><div style = \"float: left;\"><span>1819×11 DataFrame</span></div><div style = \"float: right;\"><span style = \"font-style: italic;\">1794 rows omitted</span></div><div style = \"clear: both;\"></div></div><div class = \"data-frame\" style = \"overflow-x: scroll;\"><table class = \"data-frame\" style = \"margin-bottom: 6px;\"><thead><tr class = \"header\"><th class = \"rowNumber\" style = \"font-weight: bold; text-align: right;\">Row</th><th style = \"text-align: left;\">CUSIP</th><th style = \"text-align: left;\">Security Type</th><th style = \"text-align: left;\">Security Term</th><th style = \"text-align: left;\">Auction Date</th><th style = \"text-align: left;\">Issue Date</th><th style = \"text-align: left;\">Maturity Date</th><th style = \"text-align: left;\">Price</th><th style = \"text-align: left;\">Investment Rate</th><th style = \"text-align: left;\">High Yield</th><th style = \"text-align: left;\">Interest Payment Frequency</th><th style = \"text-align: left;\">Interest Rate</th></tr><tr class = \"subheader headerLastRow\"><th class = \"rowNumber\" style = \"font-weight: bold; text-align: right;\"></th><th title = \"String15\" style = \"text-align: left;\">String15</th><th title = \"String7\" style = \"text-align: left;\">String7</th><th title = \"String7\" style = \"text-align: left;\">String7</th><th title = \"String15\" style = \"text-align: left;\">String15</th><th title = \"String15\" style = \"text-align: left;\">String15</th><th title = \"String15\" style = \"text-align: left;\">String15</th><th title = \"Float64\" style = \"text-align: left;\">Float64</th><th title = \"Union{Missing, Float64}\" style = \"text-align: left;\">Float64?</th><th title = \"Union{Missing, Float64}\" style = \"text-align: left;\">Float64?</th><th title = \"String15\" style = \"text-align: left;\">String15</th><th title = \"Union{Missing, Float64}\" style = \"text-align: left;\">Float64?</th></tr></thead><tbody><tr><td class = \"rowNumber\" style = \"font-weight: bold; text-align: right;\">1</td><td style = \"text-align: left;\">912797LS4</td><td style = \"text-align: left;\">Bill</td><td style = \"text-align: left;\">4-Week</td><td style = \"text-align: left;\">09/05/2024</td><td style = \"text-align: left;\">09/10/2024</td><td style = \"text-align: left;\">10/08/2024</td><td style = \"text-align: right;\">99.6049</td><td style = \"text-align: right;\">0.05171</td><td style = \"font-style: italic; text-align: right;\">missing</td><td style = \"text-align: left;\">None</td><td style = \"font-style: italic; text-align: right;\">missing</td></tr><tr><td class = \"rowNumber\" style = \"font-weight: bold; text-align: right;\">2</td><td style = \"text-align: left;\">912797MA2</td><td style = \"text-align: left;\">Bill</td><td style = \"text-align: left;\">8-Week</td><td style = \"text-align: left;\">09/05/2024</td><td style = \"text-align: left;\">09/10/2024</td><td style = \"text-align: left;\">11/05/2024</td><td style = \"text-align: right;\">99.216</td><td style = \"text-align: right;\">0.0515</td><td style = \"font-style: italic; text-align: right;\">missing</td><td style = \"text-align: left;\">None</td><td style = \"font-style: italic; text-align: right;\">missing</td></tr><tr><td class = \"rowNumber\" style = \"font-weight: bold; text-align: right;\">3</td><td style = \"text-align: left;\">912797MW4</td><td style = \"text-align: left;\">Bill</td><td style = \"text-align: left;\">17-Week</td><td style = \"text-align: left;\">09/04/2024</td><td style = \"text-align: left;\">09/10/2024</td><td style = \"text-align: left;\">01/07/2025</td><td style = \"text-align: right;\">98.41</td><td style = \"text-align: right;\">0.04956</td><td style = \"font-style: italic; text-align: right;\">missing</td><td style = \"text-align: left;\">None</td><td style = \"font-style: italic; text-align: right;\">missing</td></tr><tr><td class = \"rowNumber\" style = \"font-weight: bold; text-align: right;\">4</td><td style = \"text-align: left;\">912797KU0</td><td style = \"text-align: left;\">Bill</td><td style = \"text-align: left;\">42-Day</td><td style = \"text-align: left;\">09/03/2024</td><td style = \"text-align: left;\">09/05/2024</td><td style = \"text-align: left;\">10/17/2024</td><td style = \"text-align: right;\">99.4027</td><td style = \"text-align: right;\">0.05222</td><td style = \"font-style: italic; text-align: right;\">missing</td><td style = \"text-align: left;\">None</td><td style = \"font-style: italic; text-align: right;\">missing</td></tr><tr><td class = \"rowNumber\" style = \"font-weight: bold; text-align: right;\">5</td><td style = \"text-align: left;\">912797LF2</td><td style = \"text-align: left;\">Bill</td><td style = \"text-align: left;\">13-Week</td><td style = \"text-align: left;\">09/03/2024</td><td style = \"text-align: left;\">09/05/2024</td><td style = \"text-align: left;\">12/05/2024</td><td style = \"text-align: right;\">98.7437</td><td style = \"text-align: right;\">0.05103</td><td style = \"font-style: italic; text-align: right;\">missing</td><td style = \"text-align: left;\">None</td><td style = \"font-style: italic; text-align: right;\">missing</td></tr><tr><td class = \"rowNumber\" style = \"font-weight: bold; text-align: right;\">6</td><td style = \"text-align: left;\">912797MM6</td><td style = \"text-align: left;\">Bill</td><td style = \"text-align: left;\">26-Week</td><td style = \"text-align: left;\">09/03/2024</td><td style = \"text-align: left;\">09/05/2024</td><td style = \"text-align: left;\">03/06/2025</td><td style = \"text-align: right;\">97.6517</td><td style = \"text-align: right;\">0.04823</td><td style = \"font-style: italic; text-align: right;\">missing</td><td style = \"text-align: left;\">None</td><td style = \"font-style: italic; text-align: right;\">missing</td></tr><tr><td class = \"rowNumber\" style = \"font-weight: bold; text-align: right;\">7</td><td style = \"text-align: left;\">912797MH7</td><td style = \"text-align: left;\">Bill</td><td style = \"text-align: left;\">52-Week</td><td style = \"text-align: left;\">09/03/2024</td><td style = \"text-align: left;\">09/05/2024</td><td style = \"text-align: left;\">09/04/2025</td><td style = \"text-align: right;\">95.8039</td><td style = \"text-align: right;\">0.04345</td><td style = \"font-style: italic; text-align: right;\">missing</td><td style = \"text-align: left;\">None</td><td style = \"font-style: italic; text-align: right;\">missing</td></tr><tr><td class = \"rowNumber\" style = \"font-weight: bold; text-align: right;\">8</td><td style = \"text-align: left;\">912797LK1</td><td style = \"text-align: left;\">Bill</td><td style = \"text-align: left;\">4-Week</td><td style = \"text-align: left;\">08/29/2024</td><td style = \"text-align: left;\">09/03/2024</td><td style = \"text-align: left;\">10/01/2024</td><td style = \"text-align: right;\">99.5979</td><td style = \"text-align: right;\">0.05263</td><td style = \"font-style: italic; text-align: right;\">missing</td><td style = \"text-align: left;\">None</td><td style = \"font-style: italic; text-align: right;\">missing</td></tr><tr><td class = \"rowNumber\" style = \"font-weight: bold; text-align: right;\">9</td><td style = \"text-align: left;\">912797LV7</td><td style = \"text-align: left;\">Bill</td><td style = \"text-align: left;\">8-Week</td><td style = \"text-align: left;\">08/29/2024</td><td style = \"text-align: left;\">09/03/2024</td><td style = \"text-align: left;\">10/29/2024</td><td style = \"text-align: right;\">99.2067</td><td style = \"text-align: right;\">0.05212</td><td style = \"font-style: italic; text-align: right;\">missing</td><td style = \"text-align: left;\">None</td><td style = \"font-style: italic; text-align: right;\">missing</td></tr><tr><td class = \"rowNumber\" style = \"font-weight: bold; text-align: right;\">10</td><td style = \"text-align: left;\">91282CLJ8</td><td style = \"text-align: left;\">Note</td><td style = \"text-align: left;\">7-Year</td><td style = \"text-align: left;\">08/29/2024</td><td style = \"text-align: left;\">09/03/2024</td><td style = \"text-align: left;\">08/31/2031</td><td style = \"text-align: right;\">99.8775</td><td style = \"font-style: italic; text-align: right;\">missing</td><td style = \"text-align: right;\">0.0377</td><td style = \"text-align: left;\">Semi-Annual</td><td style = \"text-align: right;\">0.0375</td></tr><tr><td class = \"rowNumber\" style = \"font-weight: bold; text-align: right;\">11</td><td style = \"text-align: left;\">912797MR5</td><td style = \"text-align: left;\">Bill</td><td style = \"text-align: left;\">17-Week</td><td style = \"text-align: left;\">08/28/2024</td><td style = \"text-align: left;\">09/03/2024</td><td style = \"text-align: left;\">12/31/2024</td><td style = \"text-align: right;\">98.3902</td><td style = \"text-align: right;\">0.05018</td><td style = \"font-style: italic; text-align: right;\">missing</td><td style = \"text-align: left;\">None</td><td style = \"font-style: italic; text-align: right;\">missing</td></tr><tr><td class = \"rowNumber\" style = \"font-weight: bold; text-align: right;\">12</td><td style = \"text-align: left;\">91282CLK5</td><td style = \"text-align: left;\">Note</td><td style = \"text-align: left;\">5-Year</td><td style = \"text-align: left;\">08/28/2024</td><td style = \"text-align: left;\">09/03/2024</td><td style = \"text-align: left;\">08/31/2029</td><td style = \"text-align: right;\">99.9089</td><td style = \"font-style: italic; text-align: right;\">missing</td><td style = \"text-align: right;\">0.03645</td><td style = \"text-align: left;\">Semi-Annual</td><td style = \"text-align: right;\">0.03625</td></tr><tr><td class = \"rowNumber\" style = \"font-weight: bold; text-align: right;\">13</td><td style = \"text-align: left;\">91282CLH2</td><td style = \"text-align: left;\">Note</td><td style = \"text-align: left;\">2-Year</td><td style = \"text-align: left;\">08/27/2024</td><td style = \"text-align: left;\">09/03/2024</td><td style = \"text-align: left;\">08/31/2026</td><td style = \"text-align: right;\">99.7639</td><td style = \"font-style: italic; text-align: right;\">missing</td><td style = \"text-align: right;\">0.03874</td><td style = \"text-align: left;\">Semi-Annual</td><td style = \"text-align: right;\">0.0375</td></tr><tr><td style = \"text-align: right;\">&vellip;</td><td style = \"text-align: right;\">&vellip;</td><td style = \"text-align: right;\">&vellip;</td><td style = \"text-align: right;\">&vellip;</td><td style = \"text-align: right;\">&vellip;</td><td style = \"text-align: right;\">&vellip;</td><td style = \"text-align: right;\">&vellip;</td><td style = \"text-align: right;\">&vellip;</td><td style = \"text-align: right;\">&vellip;</td><td style = \"text-align: right;\">&vellip;</td><td style = \"text-align: right;\">&vellip;</td><td style = \"text-align: right;\">&vellip;</td></tr><tr><td class = \"rowNumber\" style = \"font-weight: bold; text-align: right;\">1808</td><td style = \"text-align: left;\">912828ZE3</td><td style = \"text-align: left;\">Note</td><td style = \"text-align: left;\">7-Year</td><td style = \"text-align: left;\">03/26/2020</td><td style = \"text-align: left;\">03/31/2020</td><td style = \"text-align: left;\">03/31/2027</td><td style = \"text-align: right;\">99.6246</td><td style = \"font-style: italic; text-align: right;\">missing</td><td style = \"text-align: right;\">0.0068</td><td style = \"text-align: left;\">Semi-Annual</td><td style = \"text-align: right;\">0.00625</td></tr><tr><td class = \"rowNumber\" style = \"font-weight: bold; text-align: right;\">1809</td><td style = \"text-align: left;\">912828ZF0</td><td style = \"text-align: left;\">Note</td><td style = \"text-align: left;\">5-Year</td><td style = \"text-align: left;\">03/25/2020</td><td style = \"text-align: left;\">03/31/2020</td><td style = \"text-align: left;\">03/31/2025</td><td style = \"text-align: right;\">99.8275</td><td style = \"font-style: italic; text-align: right;\">missing</td><td style = \"text-align: right;\">0.00535</td><td style = \"text-align: left;\">Semi-Annual</td><td style = \"text-align: right;\">0.005</td></tr><tr><td class = \"rowNumber\" style = \"font-weight: bold; text-align: right;\">1810</td><td style = \"text-align: left;\">912828ZG8</td><td style = \"text-align: left;\">Note</td><td style = \"text-align: left;\">2-Year</td><td style = \"text-align: left;\">03/24/2020</td><td style = \"text-align: left;\">03/31/2020</td><td style = \"text-align: left;\">03/31/2022</td><td style = \"text-align: right;\">99.9542</td><td style = \"font-style: italic; text-align: right;\">missing</td><td style = \"text-align: right;\">0.00398</td><td style = \"text-align: left;\">Semi-Annual</td><td style = \"text-align: right;\">0.00375</td></tr><tr><td class = \"rowNumber\" style = \"font-weight: bold; text-align: right;\">1811</td><td style = \"text-align: left;\">9127962F5</td><td style = \"text-align: left;\">Bill</td><td style = \"text-align: left;\">52-Week</td><td style = \"text-align: left;\">03/24/2020</td><td style = \"text-align: left;\">03/26/2020</td><td style = \"text-align: left;\">03/25/2021</td><td style = \"text-align: right;\">99.7371</td><td style = \"text-align: right;\">0.00264</td><td style = \"font-style: italic; text-align: right;\">missing</td><td style = \"text-align: left;\">None</td><td style = \"font-style: italic; text-align: right;\">missing</td></tr><tr><td class = \"rowNumber\" style = \"font-weight: bold; text-align: right;\">1812</td><td style = \"text-align: left;\">912796UA5</td><td style = \"text-align: left;\">Bill</td><td style = \"text-align: left;\">13-Week</td><td style = \"text-align: left;\">03/23/2020</td><td style = \"text-align: left;\">03/26/2020</td><td style = \"text-align: left;\">06/25/2020</td><td style = \"text-align: right;\">100.0</td><td style = \"text-align: right;\">0.0</td><td style = \"font-style: italic; text-align: right;\">missing</td><td style = \"text-align: left;\">None</td><td style = \"font-style: italic; text-align: right;\">missing</td></tr><tr><td class = \"rowNumber\" style = \"font-weight: bold; text-align: right;\">1813</td><td style = \"text-align: left;\">9127962H1</td><td style = \"text-align: left;\">Bill</td><td style = \"text-align: left;\">26-Week</td><td style = \"text-align: left;\">03/23/2020</td><td style = \"text-align: left;\">03/26/2020</td><td style = \"text-align: left;\">09/24/2020</td><td style = \"text-align: right;\">99.9596</td><td style = \"text-align: right;\">0.00081</td><td style = \"font-style: italic; text-align: right;\">missing</td><td style = \"text-align: left;\">None</td><td style = \"font-style: italic; text-align: right;\">missing</td></tr><tr><td class = \"rowNumber\" style = \"font-weight: bold; text-align: right;\">1814</td><td style = \"text-align: left;\">9127962C2</td><td style = \"text-align: left;\">Bill</td><td style = \"text-align: left;\">4-Week</td><td style = \"text-align: left;\">03/19/2020</td><td style = \"text-align: left;\">03/24/2020</td><td style = \"text-align: left;\">04/21/2020</td><td style = \"text-align: right;\">99.9977</td><td style = \"text-align: right;\">0.0003</td><td style = \"font-style: italic; text-align: right;\">missing</td><td style = \"text-align: left;\">None</td><td style = \"font-style: italic; text-align: right;\">missing</td></tr><tr><td class = \"rowNumber\" style = \"font-weight: bold; text-align: right;\">1815</td><td style = \"text-align: left;\">9127962M0</td><td style = \"text-align: left;\">Bill</td><td style = \"text-align: left;\">8-Week</td><td style = \"text-align: left;\">03/19/2020</td><td style = \"text-align: left;\">03/24/2020</td><td style = \"text-align: left;\">05/19/2020</td><td style = \"text-align: right;\">99.9953</td><td style = \"text-align: right;\">0.0003</td><td style = \"font-style: italic; text-align: right;\">missing</td><td style = \"text-align: left;\">None</td><td style = \"font-style: italic; text-align: right;\">missing</td></tr><tr><td class = \"rowNumber\" style = \"font-weight: bold; text-align: right;\">1816</td><td style = \"text-align: left;\">912796TZ2</td><td style = \"text-align: left;\">Bill</td><td style = \"text-align: left;\">79-Day</td><td style = \"text-align: left;\">03/19/2020</td><td style = \"text-align: left;\">03/24/2020</td><td style = \"text-align: left;\">06/11/2020</td><td style = \"text-align: right;\">99.989</td><td style = \"text-align: right;\">0.00051</td><td style = \"font-style: italic; text-align: right;\">missing</td><td style = \"text-align: left;\">None</td><td style = \"font-style: italic; text-align: right;\">missing</td></tr><tr><td class = \"rowNumber\" style = \"font-weight: bold; text-align: right;\">1817</td><td style = \"text-align: left;\">912796SV2</td><td style = \"text-align: left;\">Bill</td><td style = \"text-align: left;\">13-Week</td><td style = \"text-align: left;\">03/16/2020</td><td style = \"text-align: left;\">03/19/2020</td><td style = \"text-align: left;\">06/18/2020</td><td style = \"text-align: right;\">99.9267</td><td style = \"text-align: right;\">0.00294</td><td style = \"font-style: italic; text-align: right;\">missing</td><td style = \"text-align: left;\">None</td><td style = \"font-style: italic; text-align: right;\">missing</td></tr><tr><td class = \"rowNumber\" style = \"font-weight: bold; text-align: right;\">1818</td><td style = \"text-align: left;\">9127962G3</td><td style = \"text-align: left;\">Bill</td><td style = \"text-align: left;\">26-Week</td><td style = \"text-align: left;\">03/16/2020</td><td style = \"text-align: left;\">03/19/2020</td><td style = \"text-align: left;\">09/17/2020</td><td style = \"text-align: right;\">99.8483</td><td style = \"text-align: right;\">0.00305</td><td style = \"font-style: italic; text-align: right;\">missing</td><td style = \"text-align: left;\">None</td><td style = \"font-style: italic; text-align: right;\">missing</td></tr><tr><td class = \"rowNumber\" style = \"font-weight: bold; text-align: right;\">1819</td><td style = \"text-align: left;\">9127962B4</td><td style = \"text-align: left;\">Bill</td><td style = \"text-align: left;\">4-Week</td><td style = \"text-align: left;\">03/12/2020</td><td style = \"text-align: left;\">03/17/2020</td><td style = \"text-align: left;\">04/14/2020</td><td style = \"text-align: right;\">99.9693</td><td style = \"text-align: right;\">0.00401</td><td style = \"font-style: italic; text-align: right;\">missing</td><td style = \"text-align: left;\">None</td><td style = \"font-style: italic; text-align: right;\">missing</td></tr></tbody></table></div>"
      ],
      "text/latex": [
       "\\begin{tabular}{r|ccccccc}\n",
       "\t& CUSIP & Security Type & Security Term & Auction Date & Issue Date & Maturity Date & \\\\\n",
       "\t\\hline\n",
       "\t& String15 & String7 & String7 & String15 & String15 & String15 & \\\\\n",
       "\t\\hline\n",
       "\t1 & 912797LS4 & Bill & 4-Week & 09/05/2024 & 09/10/2024 & 10/08/2024 & $\\dots$ \\\\\n",
       "\t2 & 912797MA2 & Bill & 8-Week & 09/05/2024 & 09/10/2024 & 11/05/2024 & $\\dots$ \\\\\n",
       "\t3 & 912797MW4 & Bill & 17-Week & 09/04/2024 & 09/10/2024 & 01/07/2025 & $\\dots$ \\\\\n",
       "\t4 & 912797KU0 & Bill & 42-Day & 09/03/2024 & 09/05/2024 & 10/17/2024 & $\\dots$ \\\\\n",
       "\t5 & 912797LF2 & Bill & 13-Week & 09/03/2024 & 09/05/2024 & 12/05/2024 & $\\dots$ \\\\\n",
       "\t6 & 912797MM6 & Bill & 26-Week & 09/03/2024 & 09/05/2024 & 03/06/2025 & $\\dots$ \\\\\n",
       "\t7 & 912797MH7 & Bill & 52-Week & 09/03/2024 & 09/05/2024 & 09/04/2025 & $\\dots$ \\\\\n",
       "\t8 & 912797LK1 & Bill & 4-Week & 08/29/2024 & 09/03/2024 & 10/01/2024 & $\\dots$ \\\\\n",
       "\t9 & 912797LV7 & Bill & 8-Week & 08/29/2024 & 09/03/2024 & 10/29/2024 & $\\dots$ \\\\\n",
       "\t10 & 91282CLJ8 & Note & 7-Year & 08/29/2024 & 09/03/2024 & 08/31/2031 & $\\dots$ \\\\\n",
       "\t11 & 912797MR5 & Bill & 17-Week & 08/28/2024 & 09/03/2024 & 12/31/2024 & $\\dots$ \\\\\n",
       "\t12 & 91282CLK5 & Note & 5-Year & 08/28/2024 & 09/03/2024 & 08/31/2029 & $\\dots$ \\\\\n",
       "\t13 & 91282CLH2 & Note & 2-Year & 08/27/2024 & 09/03/2024 & 08/31/2026 & $\\dots$ \\\\\n",
       "\t14 & 912797KT3 & Bill & 42-Day & 08/27/2024 & 08/29/2024 & 10/10/2024 & $\\dots$ \\\\\n",
       "\t15 & 912797HP5 & Bill & 13-Week & 08/26/2024 & 08/29/2024 & 11/29/2024 & $\\dots$ \\\\\n",
       "\t16 & 912797ML8 & Bill & 26-Week & 08/26/2024 & 08/29/2024 & 02/27/2025 & $\\dots$ \\\\\n",
       "\t17 & 912797LJ4 & Bill & 4-Week & 08/22/2024 & 08/27/2024 & 09/24/2024 & $\\dots$ \\\\\n",
       "\t18 & 912797LU9 & Bill & 8-Week & 08/22/2024 & 08/27/2024 & 10/22/2024 & $\\dots$ \\\\\n",
       "\t19 & 912810UD8 & Bond & 20-Year & 08/21/2024 & 09/03/2024 & 08/15/2044 & $\\dots$ \\\\\n",
       "\t20 & 912797KK2 & Bill & 16-Day & 08/21/2024 & 08/27/2024 & 09/12/2024 & $\\dots$ \\\\\n",
       "\t21 & 912797MQ7 & Bill & 17-Week & 08/21/2024 & 08/27/2024 & 12/24/2024 & $\\dots$ \\\\\n",
       "\t22 & 912797GW1 & Bill & 42-Day & 08/20/2024 & 08/22/2024 & 10/03/2024 & $\\dots$ \\\\\n",
       "\t23 & 912797LE5 & Bill & 13-Week & 08/19/2024 & 08/22/2024 & 11/21/2024 & $\\dots$ \\\\\n",
       "\t24 & 912797KA4 & Bill & 26-Week & 08/19/2024 & 08/22/2024 & 02/20/2025 & $\\dots$ \\\\\n",
       "\t$\\dots$ & $\\dots$ & $\\dots$ & $\\dots$ & $\\dots$ & $\\dots$ & $\\dots$ &  \\\\\n",
       "\\end{tabular}\n"
      ],
      "text/plain": [
       "\u001b[1m1819×11 DataFrame\u001b[0m\n",
       "\u001b[1m  Row \u001b[0m│\u001b[1m CUSIP     \u001b[0m\u001b[1m Security Type \u001b[0m\u001b[1m Security Term \u001b[0m\u001b[1m Auction Date \u001b[0m\u001b[1m Issue Date \u001b[0m\u001b[1m Mat\u001b[0m ⋯\n",
       "      │\u001b[90m String15  \u001b[0m\u001b[90m String7       \u001b[0m\u001b[90m String7       \u001b[0m\u001b[90m String15     \u001b[0m\u001b[90m String15   \u001b[0m\u001b[90m Str\u001b[0m ⋯\n",
       "──────┼─────────────────────────────────────────────────────────────────────────\n",
       "    1 │ 912797LS4  Bill           4-Week         09/05/2024    09/10/2024  10/ ⋯\n",
       "    2 │ 912797MA2  Bill           8-Week         09/05/2024    09/10/2024  11/\n",
       "    3 │ 912797MW4  Bill           17-Week        09/04/2024    09/10/2024  01/\n",
       "    4 │ 912797KU0  Bill           42-Day         09/03/2024    09/05/2024  10/\n",
       "    5 │ 912797LF2  Bill           13-Week        09/03/2024    09/05/2024  12/ ⋯\n",
       "    6 │ 912797MM6  Bill           26-Week        09/03/2024    09/05/2024  03/\n",
       "    7 │ 912797MH7  Bill           52-Week        09/03/2024    09/05/2024  09/\n",
       "    8 │ 912797LK1  Bill           4-Week         08/29/2024    09/03/2024  10/\n",
       "  ⋮   │     ⋮            ⋮              ⋮             ⋮            ⋮           ⋱\n",
       " 1813 │ 9127962H1  Bill           26-Week        03/23/2020    03/26/2020  09/ ⋯\n",
       " 1814 │ 9127962C2  Bill           4-Week         03/19/2020    03/24/2020  04/\n",
       " 1815 │ 9127962M0  Bill           8-Week         03/19/2020    03/24/2020  05/\n",
       " 1816 │ 912796TZ2  Bill           79-Day         03/19/2020    03/24/2020  06/\n",
       " 1817 │ 912796SV2  Bill           13-Week        03/16/2020    03/19/2020  06/ ⋯\n",
       " 1818 │ 9127962G3  Bill           26-Week        03/16/2020    03/19/2020  09/\n",
       " 1819 │ 9127962B4  Bill           4-Week         03/12/2020    03/17/2020  04/\n",
       "\u001b[36m                                                 6 columns and 1804 rows omitted\u001b[0m"
      ]
     },
     "metadata": {},
     "output_type": "display_data"
    }
   ],
   "source": [
    "dataset = MyTreasuryBillsNotesAndBondsDataSet()"
   ]
  },
  {
   "cell_type": "markdown",
   "id": "3d3dc225-45cf-478a-956d-65fc9e6f1ece",
   "metadata": {},
   "source": [
    "To help below, let's use [the `filter!(...)` method exported by the DataFrames.jl package](https://dataframes.juliadata.org/stable/lib/functions/#Base.filter) to collect only the data for the bills; we save this to the `bills_dataset::DataFrame` variable."
   ]
  },
  {
   "cell_type": "code",
   "execution_count": 3,
   "id": "c9330cc6-f9ce-46d3-b363-22701a6c2a66",
   "metadata": {},
   "outputs": [
    {
     "data": {
      "text/html": [
       "<div><div style = \"float: left;\"><span>1510×11 DataFrame</span></div><div style = \"float: right;\"><span style = \"font-style: italic;\">1485 rows omitted</span></div><div style = \"clear: both;\"></div></div><div class = \"data-frame\" style = \"overflow-x: scroll;\"><table class = \"data-frame\" style = \"margin-bottom: 6px;\"><thead><tr class = \"header\"><th class = \"rowNumber\" style = \"font-weight: bold; text-align: right;\">Row</th><th style = \"text-align: left;\">CUSIP</th><th style = \"text-align: left;\">Security Type</th><th style = \"text-align: left;\">Security Term</th><th style = \"text-align: left;\">Auction Date</th><th style = \"text-align: left;\">Issue Date</th><th style = \"text-align: left;\">Maturity Date</th><th style = \"text-align: left;\">Price</th><th style = \"text-align: left;\">Investment Rate</th><th style = \"text-align: left;\">High Yield</th><th style = \"text-align: left;\">Interest Payment Frequency</th><th style = \"text-align: left;\">Interest Rate</th></tr><tr class = \"subheader headerLastRow\"><th class = \"rowNumber\" style = \"font-weight: bold; text-align: right;\"></th><th title = \"String15\" style = \"text-align: left;\">String15</th><th title = \"String7\" style = \"text-align: left;\">String7</th><th title = \"String7\" style = \"text-align: left;\">String7</th><th title = \"String15\" style = \"text-align: left;\">String15</th><th title = \"String15\" style = \"text-align: left;\">String15</th><th title = \"String15\" style = \"text-align: left;\">String15</th><th title = \"Float64\" style = \"text-align: left;\">Float64</th><th title = \"Union{Missing, Float64}\" style = \"text-align: left;\">Float64?</th><th title = \"Union{Missing, Float64}\" style = \"text-align: left;\">Float64?</th><th title = \"String15\" style = \"text-align: left;\">String15</th><th title = \"Union{Missing, Float64}\" style = \"text-align: left;\">Float64?</th></tr></thead><tbody><tr><td class = \"rowNumber\" style = \"font-weight: bold; text-align: right;\">1</td><td style = \"text-align: left;\">912797LS4</td><td style = \"text-align: left;\">Bill</td><td style = \"text-align: left;\">4-Week</td><td style = \"text-align: left;\">09/05/2024</td><td style = \"text-align: left;\">09/10/2024</td><td style = \"text-align: left;\">10/08/2024</td><td style = \"text-align: right;\">99.6049</td><td style = \"text-align: right;\">0.05171</td><td style = \"font-style: italic; text-align: right;\">missing</td><td style = \"text-align: left;\">None</td><td style = \"font-style: italic; text-align: right;\">missing</td></tr><tr><td class = \"rowNumber\" style = \"font-weight: bold; text-align: right;\">2</td><td style = \"text-align: left;\">912797MA2</td><td style = \"text-align: left;\">Bill</td><td style = \"text-align: left;\">8-Week</td><td style = \"text-align: left;\">09/05/2024</td><td style = \"text-align: left;\">09/10/2024</td><td style = \"text-align: left;\">11/05/2024</td><td style = \"text-align: right;\">99.216</td><td style = \"text-align: right;\">0.0515</td><td style = \"font-style: italic; text-align: right;\">missing</td><td style = \"text-align: left;\">None</td><td style = \"font-style: italic; text-align: right;\">missing</td></tr><tr><td class = \"rowNumber\" style = \"font-weight: bold; text-align: right;\">3</td><td style = \"text-align: left;\">912797MW4</td><td style = \"text-align: left;\">Bill</td><td style = \"text-align: left;\">17-Week</td><td style = \"text-align: left;\">09/04/2024</td><td style = \"text-align: left;\">09/10/2024</td><td style = \"text-align: left;\">01/07/2025</td><td style = \"text-align: right;\">98.41</td><td style = \"text-align: right;\">0.04956</td><td style = \"font-style: italic; text-align: right;\">missing</td><td style = \"text-align: left;\">None</td><td style = \"font-style: italic; text-align: right;\">missing</td></tr><tr><td class = \"rowNumber\" style = \"font-weight: bold; text-align: right;\">4</td><td style = \"text-align: left;\">912797KU0</td><td style = \"text-align: left;\">Bill</td><td style = \"text-align: left;\">42-Day</td><td style = \"text-align: left;\">09/03/2024</td><td style = \"text-align: left;\">09/05/2024</td><td style = \"text-align: left;\">10/17/2024</td><td style = \"text-align: right;\">99.4027</td><td style = \"text-align: right;\">0.05222</td><td style = \"font-style: italic; text-align: right;\">missing</td><td style = \"text-align: left;\">None</td><td style = \"font-style: italic; text-align: right;\">missing</td></tr><tr><td class = \"rowNumber\" style = \"font-weight: bold; text-align: right;\">5</td><td style = \"text-align: left;\">912797LF2</td><td style = \"text-align: left;\">Bill</td><td style = \"text-align: left;\">13-Week</td><td style = \"text-align: left;\">09/03/2024</td><td style = \"text-align: left;\">09/05/2024</td><td style = \"text-align: left;\">12/05/2024</td><td style = \"text-align: right;\">98.7437</td><td style = \"text-align: right;\">0.05103</td><td style = \"font-style: italic; text-align: right;\">missing</td><td style = \"text-align: left;\">None</td><td style = \"font-style: italic; text-align: right;\">missing</td></tr><tr><td class = \"rowNumber\" style = \"font-weight: bold; text-align: right;\">6</td><td style = \"text-align: left;\">912797MM6</td><td style = \"text-align: left;\">Bill</td><td style = \"text-align: left;\">26-Week</td><td style = \"text-align: left;\">09/03/2024</td><td style = \"text-align: left;\">09/05/2024</td><td style = \"text-align: left;\">03/06/2025</td><td style = \"text-align: right;\">97.6517</td><td style = \"text-align: right;\">0.04823</td><td style = \"font-style: italic; text-align: right;\">missing</td><td style = \"text-align: left;\">None</td><td style = \"font-style: italic; text-align: right;\">missing</td></tr><tr><td class = \"rowNumber\" style = \"font-weight: bold; text-align: right;\">7</td><td style = \"text-align: left;\">912797MH7</td><td style = \"text-align: left;\">Bill</td><td style = \"text-align: left;\">52-Week</td><td style = \"text-align: left;\">09/03/2024</td><td style = \"text-align: left;\">09/05/2024</td><td style = \"text-align: left;\">09/04/2025</td><td style = \"text-align: right;\">95.8039</td><td style = \"text-align: right;\">0.04345</td><td style = \"font-style: italic; text-align: right;\">missing</td><td style = \"text-align: left;\">None</td><td style = \"font-style: italic; text-align: right;\">missing</td></tr><tr><td class = \"rowNumber\" style = \"font-weight: bold; text-align: right;\">8</td><td style = \"text-align: left;\">912797LK1</td><td style = \"text-align: left;\">Bill</td><td style = \"text-align: left;\">4-Week</td><td style = \"text-align: left;\">08/29/2024</td><td style = \"text-align: left;\">09/03/2024</td><td style = \"text-align: left;\">10/01/2024</td><td style = \"text-align: right;\">99.5979</td><td style = \"text-align: right;\">0.05263</td><td style = \"font-style: italic; text-align: right;\">missing</td><td style = \"text-align: left;\">None</td><td style = \"font-style: italic; text-align: right;\">missing</td></tr><tr><td class = \"rowNumber\" style = \"font-weight: bold; text-align: right;\">9</td><td style = \"text-align: left;\">912797LV7</td><td style = \"text-align: left;\">Bill</td><td style = \"text-align: left;\">8-Week</td><td style = \"text-align: left;\">08/29/2024</td><td style = \"text-align: left;\">09/03/2024</td><td style = \"text-align: left;\">10/29/2024</td><td style = \"text-align: right;\">99.2067</td><td style = \"text-align: right;\">0.05212</td><td style = \"font-style: italic; text-align: right;\">missing</td><td style = \"text-align: left;\">None</td><td style = \"font-style: italic; text-align: right;\">missing</td></tr><tr><td class = \"rowNumber\" style = \"font-weight: bold; text-align: right;\">10</td><td style = \"text-align: left;\">912797MR5</td><td style = \"text-align: left;\">Bill</td><td style = \"text-align: left;\">17-Week</td><td style = \"text-align: left;\">08/28/2024</td><td style = \"text-align: left;\">09/03/2024</td><td style = \"text-align: left;\">12/31/2024</td><td style = \"text-align: right;\">98.3902</td><td style = \"text-align: right;\">0.05018</td><td style = \"font-style: italic; text-align: right;\">missing</td><td style = \"text-align: left;\">None</td><td style = \"font-style: italic; text-align: right;\">missing</td></tr><tr><td class = \"rowNumber\" style = \"font-weight: bold; text-align: right;\">11</td><td style = \"text-align: left;\">912797KT3</td><td style = \"text-align: left;\">Bill</td><td style = \"text-align: left;\">42-Day</td><td style = \"text-align: left;\">08/27/2024</td><td style = \"text-align: left;\">08/29/2024</td><td style = \"text-align: left;\">10/10/2024</td><td style = \"text-align: right;\">99.3992</td><td style = \"text-align: right;\">0.05253</td><td style = \"font-style: italic; text-align: right;\">missing</td><td style = \"text-align: left;\">None</td><td style = \"font-style: italic; text-align: right;\">missing</td></tr><tr><td class = \"rowNumber\" style = \"font-weight: bold; text-align: right;\">12</td><td style = \"text-align: left;\">912797HP5</td><td style = \"text-align: left;\">Bill</td><td style = \"text-align: left;\">13-Week</td><td style = \"text-align: left;\">08/26/2024</td><td style = \"text-align: left;\">08/29/2024</td><td style = \"text-align: left;\">11/29/2024</td><td style = \"text-align: right;\">98.7273</td><td style = \"text-align: right;\">0.05114</td><td style = \"font-style: italic; text-align: right;\">missing</td><td style = \"text-align: left;\">None</td><td style = \"font-style: italic; text-align: right;\">missing</td></tr><tr><td class = \"rowNumber\" style = \"font-weight: bold; text-align: right;\">13</td><td style = \"text-align: left;\">912797ML8</td><td style = \"text-align: left;\">Bill</td><td style = \"text-align: left;\">26-Week</td><td style = \"text-align: left;\">08/26/2024</td><td style = \"text-align: left;\">08/29/2024</td><td style = \"text-align: left;\">02/27/2025</td><td style = \"text-align: right;\">97.6315</td><td style = \"text-align: right;\">0.04865</td><td style = \"font-style: italic; text-align: right;\">missing</td><td style = \"text-align: left;\">None</td><td style = \"font-style: italic; text-align: right;\">missing</td></tr><tr><td style = \"text-align: right;\">&vellip;</td><td style = \"text-align: right;\">&vellip;</td><td style = \"text-align: right;\">&vellip;</td><td style = \"text-align: right;\">&vellip;</td><td style = \"text-align: right;\">&vellip;</td><td style = \"text-align: right;\">&vellip;</td><td style = \"text-align: right;\">&vellip;</td><td style = \"text-align: right;\">&vellip;</td><td style = \"text-align: right;\">&vellip;</td><td style = \"text-align: right;\">&vellip;</td><td style = \"text-align: right;\">&vellip;</td><td style = \"text-align: right;\">&vellip;</td></tr><tr><td class = \"rowNumber\" style = \"font-weight: bold; text-align: right;\">1499</td><td style = \"text-align: left;\">912796TT6</td><td style = \"text-align: left;\">Bill</td><td style = \"text-align: left;\">37-Day</td><td style = \"text-align: left;\">03/30/2020</td><td style = \"text-align: left;\">03/31/2020</td><td style = \"text-align: left;\">05/07/2020</td><td style = \"text-align: right;\">99.9974</td><td style = \"text-align: right;\">0.00025</td><td style = \"font-style: italic; text-align: right;\">missing</td><td style = \"text-align: left;\">None</td><td style = \"font-style: italic; text-align: right;\">missing</td></tr><tr><td class = \"rowNumber\" style = \"font-weight: bold; text-align: right;\">1500</td><td style = \"text-align: left;\">9127962D0</td><td style = \"text-align: left;\">Bill</td><td style = \"text-align: left;\">4-Week</td><td style = \"text-align: left;\">03/26/2020</td><td style = \"text-align: left;\">03/31/2020</td><td style = \"text-align: left;\">04/28/2020</td><td style = \"text-align: right;\">100.0</td><td style = \"text-align: right;\">0.0</td><td style = \"font-style: italic; text-align: right;\">missing</td><td style = \"text-align: left;\">None</td><td style = \"font-style: italic; text-align: right;\">missing</td></tr><tr><td class = \"rowNumber\" style = \"font-weight: bold; text-align: right;\">1501</td><td style = \"text-align: left;\">9127962N8</td><td style = \"text-align: left;\">Bill</td><td style = \"text-align: left;\">8-Week</td><td style = \"text-align: left;\">03/26/2020</td><td style = \"text-align: left;\">03/31/2020</td><td style = \"text-align: left;\">05/26/2020</td><td style = \"text-align: right;\">100.0</td><td style = \"text-align: right;\">0.0</td><td style = \"font-style: italic; text-align: right;\">missing</td><td style = \"text-align: left;\">None</td><td style = \"font-style: italic; text-align: right;\">missing</td></tr><tr><td class = \"rowNumber\" style = \"font-weight: bold; text-align: right;\">1502</td><td style = \"text-align: left;\">9127962F5</td><td style = \"text-align: left;\">Bill</td><td style = \"text-align: left;\">52-Week</td><td style = \"text-align: left;\">03/24/2020</td><td style = \"text-align: left;\">03/26/2020</td><td style = \"text-align: left;\">03/25/2021</td><td style = \"text-align: right;\">99.7371</td><td style = \"text-align: right;\">0.00264</td><td style = \"font-style: italic; text-align: right;\">missing</td><td style = \"text-align: left;\">None</td><td style = \"font-style: italic; text-align: right;\">missing</td></tr><tr><td class = \"rowNumber\" style = \"font-weight: bold; text-align: right;\">1503</td><td style = \"text-align: left;\">912796UA5</td><td style = \"text-align: left;\">Bill</td><td style = \"text-align: left;\">13-Week</td><td style = \"text-align: left;\">03/23/2020</td><td style = \"text-align: left;\">03/26/2020</td><td style = \"text-align: left;\">06/25/2020</td><td style = \"text-align: right;\">100.0</td><td style = \"text-align: right;\">0.0</td><td style = \"font-style: italic; text-align: right;\">missing</td><td style = \"text-align: left;\">None</td><td style = \"font-style: italic; text-align: right;\">missing</td></tr><tr><td class = \"rowNumber\" style = \"font-weight: bold; text-align: right;\">1504</td><td style = \"text-align: left;\">9127962H1</td><td style = \"text-align: left;\">Bill</td><td style = \"text-align: left;\">26-Week</td><td style = \"text-align: left;\">03/23/2020</td><td style = \"text-align: left;\">03/26/2020</td><td style = \"text-align: left;\">09/24/2020</td><td style = \"text-align: right;\">99.9596</td><td style = \"text-align: right;\">0.00081</td><td style = \"font-style: italic; text-align: right;\">missing</td><td style = \"text-align: left;\">None</td><td style = \"font-style: italic; text-align: right;\">missing</td></tr><tr><td class = \"rowNumber\" style = \"font-weight: bold; text-align: right;\">1505</td><td style = \"text-align: left;\">9127962C2</td><td style = \"text-align: left;\">Bill</td><td style = \"text-align: left;\">4-Week</td><td style = \"text-align: left;\">03/19/2020</td><td style = \"text-align: left;\">03/24/2020</td><td style = \"text-align: left;\">04/21/2020</td><td style = \"text-align: right;\">99.9977</td><td style = \"text-align: right;\">0.0003</td><td style = \"font-style: italic; text-align: right;\">missing</td><td style = \"text-align: left;\">None</td><td style = \"font-style: italic; text-align: right;\">missing</td></tr><tr><td class = \"rowNumber\" style = \"font-weight: bold; text-align: right;\">1506</td><td style = \"text-align: left;\">9127962M0</td><td style = \"text-align: left;\">Bill</td><td style = \"text-align: left;\">8-Week</td><td style = \"text-align: left;\">03/19/2020</td><td style = \"text-align: left;\">03/24/2020</td><td style = \"text-align: left;\">05/19/2020</td><td style = \"text-align: right;\">99.9953</td><td style = \"text-align: right;\">0.0003</td><td style = \"font-style: italic; text-align: right;\">missing</td><td style = \"text-align: left;\">None</td><td style = \"font-style: italic; text-align: right;\">missing</td></tr><tr><td class = \"rowNumber\" style = \"font-weight: bold; text-align: right;\">1507</td><td style = \"text-align: left;\">912796TZ2</td><td style = \"text-align: left;\">Bill</td><td style = \"text-align: left;\">79-Day</td><td style = \"text-align: left;\">03/19/2020</td><td style = \"text-align: left;\">03/24/2020</td><td style = \"text-align: left;\">06/11/2020</td><td style = \"text-align: right;\">99.989</td><td style = \"text-align: right;\">0.00051</td><td style = \"font-style: italic; text-align: right;\">missing</td><td style = \"text-align: left;\">None</td><td style = \"font-style: italic; text-align: right;\">missing</td></tr><tr><td class = \"rowNumber\" style = \"font-weight: bold; text-align: right;\">1508</td><td style = \"text-align: left;\">912796SV2</td><td style = \"text-align: left;\">Bill</td><td style = \"text-align: left;\">13-Week</td><td style = \"text-align: left;\">03/16/2020</td><td style = \"text-align: left;\">03/19/2020</td><td style = \"text-align: left;\">06/18/2020</td><td style = \"text-align: right;\">99.9267</td><td style = \"text-align: right;\">0.00294</td><td style = \"font-style: italic; text-align: right;\">missing</td><td style = \"text-align: left;\">None</td><td style = \"font-style: italic; text-align: right;\">missing</td></tr><tr><td class = \"rowNumber\" style = \"font-weight: bold; text-align: right;\">1509</td><td style = \"text-align: left;\">9127962G3</td><td style = \"text-align: left;\">Bill</td><td style = \"text-align: left;\">26-Week</td><td style = \"text-align: left;\">03/16/2020</td><td style = \"text-align: left;\">03/19/2020</td><td style = \"text-align: left;\">09/17/2020</td><td style = \"text-align: right;\">99.8483</td><td style = \"text-align: right;\">0.00305</td><td style = \"font-style: italic; text-align: right;\">missing</td><td style = \"text-align: left;\">None</td><td style = \"font-style: italic; text-align: right;\">missing</td></tr><tr><td class = \"rowNumber\" style = \"font-weight: bold; text-align: right;\">1510</td><td style = \"text-align: left;\">9127962B4</td><td style = \"text-align: left;\">Bill</td><td style = \"text-align: left;\">4-Week</td><td style = \"text-align: left;\">03/12/2020</td><td style = \"text-align: left;\">03/17/2020</td><td style = \"text-align: left;\">04/14/2020</td><td style = \"text-align: right;\">99.9693</td><td style = \"text-align: right;\">0.00401</td><td style = \"font-style: italic; text-align: right;\">missing</td><td style = \"text-align: left;\">None</td><td style = \"font-style: italic; text-align: right;\">missing</td></tr></tbody></table></div>"
      ],
      "text/latex": [
       "\\begin{tabular}{r|ccccccc}\n",
       "\t& CUSIP & Security Type & Security Term & Auction Date & Issue Date & Maturity Date & \\\\\n",
       "\t\\hline\n",
       "\t& String15 & String7 & String7 & String15 & String15 & String15 & \\\\\n",
       "\t\\hline\n",
       "\t1 & 912797LS4 & Bill & 4-Week & 09/05/2024 & 09/10/2024 & 10/08/2024 & $\\dots$ \\\\\n",
       "\t2 & 912797MA2 & Bill & 8-Week & 09/05/2024 & 09/10/2024 & 11/05/2024 & $\\dots$ \\\\\n",
       "\t3 & 912797MW4 & Bill & 17-Week & 09/04/2024 & 09/10/2024 & 01/07/2025 & $\\dots$ \\\\\n",
       "\t4 & 912797KU0 & Bill & 42-Day & 09/03/2024 & 09/05/2024 & 10/17/2024 & $\\dots$ \\\\\n",
       "\t5 & 912797LF2 & Bill & 13-Week & 09/03/2024 & 09/05/2024 & 12/05/2024 & $\\dots$ \\\\\n",
       "\t6 & 912797MM6 & Bill & 26-Week & 09/03/2024 & 09/05/2024 & 03/06/2025 & $\\dots$ \\\\\n",
       "\t7 & 912797MH7 & Bill & 52-Week & 09/03/2024 & 09/05/2024 & 09/04/2025 & $\\dots$ \\\\\n",
       "\t8 & 912797LK1 & Bill & 4-Week & 08/29/2024 & 09/03/2024 & 10/01/2024 & $\\dots$ \\\\\n",
       "\t9 & 912797LV7 & Bill & 8-Week & 08/29/2024 & 09/03/2024 & 10/29/2024 & $\\dots$ \\\\\n",
       "\t10 & 912797MR5 & Bill & 17-Week & 08/28/2024 & 09/03/2024 & 12/31/2024 & $\\dots$ \\\\\n",
       "\t11 & 912797KT3 & Bill & 42-Day & 08/27/2024 & 08/29/2024 & 10/10/2024 & $\\dots$ \\\\\n",
       "\t12 & 912797HP5 & Bill & 13-Week & 08/26/2024 & 08/29/2024 & 11/29/2024 & $\\dots$ \\\\\n",
       "\t13 & 912797ML8 & Bill & 26-Week & 08/26/2024 & 08/29/2024 & 02/27/2025 & $\\dots$ \\\\\n",
       "\t14 & 912797LJ4 & Bill & 4-Week & 08/22/2024 & 08/27/2024 & 09/24/2024 & $\\dots$ \\\\\n",
       "\t15 & 912797LU9 & Bill & 8-Week & 08/22/2024 & 08/27/2024 & 10/22/2024 & $\\dots$ \\\\\n",
       "\t16 & 912797KK2 & Bill & 16-Day & 08/21/2024 & 08/27/2024 & 09/12/2024 & $\\dots$ \\\\\n",
       "\t17 & 912797MQ7 & Bill & 17-Week & 08/21/2024 & 08/27/2024 & 12/24/2024 & $\\dots$ \\\\\n",
       "\t18 & 912797GW1 & Bill & 42-Day & 08/20/2024 & 08/22/2024 & 10/03/2024 & $\\dots$ \\\\\n",
       "\t19 & 912797LE5 & Bill & 13-Week & 08/19/2024 & 08/22/2024 & 11/21/2024 & $\\dots$ \\\\\n",
       "\t20 & 912797KA4 & Bill & 26-Week & 08/19/2024 & 08/22/2024 & 02/20/2025 & $\\dots$ \\\\\n",
       "\t21 & 912797LH8 & Bill & 4-Week & 08/15/2024 & 08/20/2024 & 09/17/2024 & $\\dots$ \\\\\n",
       "\t22 & 912797LT2 & Bill & 8-Week & 08/15/2024 & 08/20/2024 & 10/15/2024 & $\\dots$ \\\\\n",
       "\t23 & 912797MP9 & Bill & 17-Week & 08/14/2024 & 08/20/2024 & 12/17/2024 & $\\dots$ \\\\\n",
       "\t24 & 912797KM8 & Bill & 42-Day & 08/13/2024 & 08/15/2024 & 09/26/2024 & $\\dots$ \\\\\n",
       "\t$\\dots$ & $\\dots$ & $\\dots$ & $\\dots$ & $\\dots$ & $\\dots$ & $\\dots$ &  \\\\\n",
       "\\end{tabular}\n"
      ],
      "text/plain": [
       "\u001b[1m1510×11 DataFrame\u001b[0m\n",
       "\u001b[1m  Row \u001b[0m│\u001b[1m CUSIP     \u001b[0m\u001b[1m Security Type \u001b[0m\u001b[1m Security Term \u001b[0m\u001b[1m Auction Date \u001b[0m\u001b[1m Issue Date \u001b[0m\u001b[1m Mat\u001b[0m ⋯\n",
       "      │\u001b[90m String15  \u001b[0m\u001b[90m String7       \u001b[0m\u001b[90m String7       \u001b[0m\u001b[90m String15     \u001b[0m\u001b[90m String15   \u001b[0m\u001b[90m Str\u001b[0m ⋯\n",
       "──────┼─────────────────────────────────────────────────────────────────────────\n",
       "    1 │ 912797LS4  Bill           4-Week         09/05/2024    09/10/2024  10/ ⋯\n",
       "    2 │ 912797MA2  Bill           8-Week         09/05/2024    09/10/2024  11/\n",
       "    3 │ 912797MW4  Bill           17-Week        09/04/2024    09/10/2024  01/\n",
       "    4 │ 912797KU0  Bill           42-Day         09/03/2024    09/05/2024  10/\n",
       "    5 │ 912797LF2  Bill           13-Week        09/03/2024    09/05/2024  12/ ⋯\n",
       "    6 │ 912797MM6  Bill           26-Week        09/03/2024    09/05/2024  03/\n",
       "    7 │ 912797MH7  Bill           52-Week        09/03/2024    09/05/2024  09/\n",
       "    8 │ 912797LK1  Bill           4-Week         08/29/2024    09/03/2024  10/\n",
       "  ⋮   │     ⋮            ⋮              ⋮             ⋮            ⋮           ⋱\n",
       " 1504 │ 9127962H1  Bill           26-Week        03/23/2020    03/26/2020  09/ ⋯\n",
       " 1505 │ 9127962C2  Bill           4-Week         03/19/2020    03/24/2020  04/\n",
       " 1506 │ 9127962M0  Bill           8-Week         03/19/2020    03/24/2020  05/\n",
       " 1507 │ 912796TZ2  Bill           79-Day         03/19/2020    03/24/2020  06/\n",
       " 1508 │ 912796SV2  Bill           13-Week        03/16/2020    03/19/2020  06/ ⋯\n",
       " 1509 │ 9127962G3  Bill           26-Week        03/16/2020    03/19/2020  09/\n",
       " 1510 │ 9127962B4  Bill           4-Week         03/12/2020    03/17/2020  04/\n",
       "\u001b[36m                                                 6 columns and 1495 rows omitted\u001b[0m"
      ]
     },
     "metadata": {},
     "output_type": "display_data"
    }
   ],
   "source": [
    "bills_dataset = filter(Symbol(\"Security Type\") => x-> x == \"Bill\", dataset)"
   ]
  },
  {
   "cell_type": "markdown",
   "id": "980bcb98-a80a-409b-b8d5-4df75b4f4a3e",
   "metadata": {},
   "source": [
    "Similarly, we use [the `filter!(...)` method exported by the DataFrames.jl package](https://dataframes.juliadata.org/stable/lib/functions/#Base.filter) to collect only the data for the notes and bonds; we save this to the `notes_bonds_dataset::DataFrame` variable."
   ]
  },
  {
   "cell_type": "code",
   "execution_count": 4,
   "id": "bd49e8bd-f20d-4722-a3a4-d0a8f7c417b1",
   "metadata": {},
   "outputs": [
    {
     "data": {
      "text/html": [
       "<div><div style = \"float: left;\"><span>309×11 DataFrame</span></div><div style = \"float: right;\"><span style = \"font-style: italic;\">284 rows omitted</span></div><div style = \"clear: both;\"></div></div><div class = \"data-frame\" style = \"overflow-x: scroll;\"><table class = \"data-frame\" style = \"margin-bottom: 6px;\"><thead><tr class = \"header\"><th class = \"rowNumber\" style = \"font-weight: bold; text-align: right;\">Row</th><th style = \"text-align: left;\">CUSIP</th><th style = \"text-align: left;\">Security Type</th><th style = \"text-align: left;\">Security Term</th><th style = \"text-align: left;\">Auction Date</th><th style = \"text-align: left;\">Issue Date</th><th style = \"text-align: left;\">Maturity Date</th><th style = \"text-align: left;\">Price</th><th style = \"text-align: left;\">Investment Rate</th><th style = \"text-align: left;\">High Yield</th><th style = \"text-align: left;\">Interest Payment Frequency</th><th style = \"text-align: left;\">Interest Rate</th></tr><tr class = \"subheader headerLastRow\"><th class = \"rowNumber\" style = \"font-weight: bold; text-align: right;\"></th><th title = \"String15\" style = \"text-align: left;\">String15</th><th title = \"String7\" style = \"text-align: left;\">String7</th><th title = \"String7\" style = \"text-align: left;\">String7</th><th title = \"String15\" style = \"text-align: left;\">String15</th><th title = \"String15\" style = \"text-align: left;\">String15</th><th title = \"String15\" style = \"text-align: left;\">String15</th><th title = \"Float64\" style = \"text-align: left;\">Float64</th><th title = \"Union{Missing, Float64}\" style = \"text-align: left;\">Float64?</th><th title = \"Union{Missing, Float64}\" style = \"text-align: left;\">Float64?</th><th title = \"String15\" style = \"text-align: left;\">String15</th><th title = \"Union{Missing, Float64}\" style = \"text-align: left;\">Float64?</th></tr></thead><tbody><tr><td class = \"rowNumber\" style = \"font-weight: bold; text-align: right;\">1</td><td style = \"text-align: left;\">91282CLJ8</td><td style = \"text-align: left;\">Note</td><td style = \"text-align: left;\">7-Year</td><td style = \"text-align: left;\">08/29/2024</td><td style = \"text-align: left;\">09/03/2024</td><td style = \"text-align: left;\">08/31/2031</td><td style = \"text-align: right;\">99.8775</td><td style = \"font-style: italic; text-align: right;\">missing</td><td style = \"text-align: right;\">0.0377</td><td style = \"text-align: left;\">Semi-Annual</td><td style = \"text-align: right;\">0.0375</td></tr><tr><td class = \"rowNumber\" style = \"font-weight: bold; text-align: right;\">2</td><td style = \"text-align: left;\">91282CLK5</td><td style = \"text-align: left;\">Note</td><td style = \"text-align: left;\">5-Year</td><td style = \"text-align: left;\">08/28/2024</td><td style = \"text-align: left;\">09/03/2024</td><td style = \"text-align: left;\">08/31/2029</td><td style = \"text-align: right;\">99.9089</td><td style = \"font-style: italic; text-align: right;\">missing</td><td style = \"text-align: right;\">0.03645</td><td style = \"text-align: left;\">Semi-Annual</td><td style = \"text-align: right;\">0.03625</td></tr><tr><td class = \"rowNumber\" style = \"font-weight: bold; text-align: right;\">3</td><td style = \"text-align: left;\">91282CLH2</td><td style = \"text-align: left;\">Note</td><td style = \"text-align: left;\">2-Year</td><td style = \"text-align: left;\">08/27/2024</td><td style = \"text-align: left;\">09/03/2024</td><td style = \"text-align: left;\">08/31/2026</td><td style = \"text-align: right;\">99.7639</td><td style = \"font-style: italic; text-align: right;\">missing</td><td style = \"text-align: right;\">0.03874</td><td style = \"text-align: left;\">Semi-Annual</td><td style = \"text-align: right;\">0.0375</td></tr><tr><td class = \"rowNumber\" style = \"font-weight: bold; text-align: right;\">4</td><td style = \"text-align: left;\">912810UD8</td><td style = \"text-align: left;\">Bond</td><td style = \"text-align: left;\">20-Year</td><td style = \"text-align: left;\">08/21/2024</td><td style = \"text-align: left;\">09/03/2024</td><td style = \"text-align: left;\">08/15/2044</td><td style = \"text-align: right;\">99.5248</td><td style = \"font-style: italic; text-align: right;\">missing</td><td style = \"text-align: right;\">0.0416</td><td style = \"text-align: left;\">Semi-Annual</td><td style = \"text-align: right;\">0.04125</td></tr><tr><td class = \"rowNumber\" style = \"font-weight: bold; text-align: right;\">5</td><td style = \"text-align: left;\">912810UC0</td><td style = \"text-align: left;\">Bond</td><td style = \"text-align: left;\">30-Year</td><td style = \"text-align: left;\">08/08/2024</td><td style = \"text-align: left;\">08/15/2024</td><td style = \"text-align: left;\">08/15/2054</td><td style = \"text-align: right;\">98.9288</td><td style = \"font-style: italic; text-align: right;\">missing</td><td style = \"text-align: right;\">0.04314</td><td style = \"text-align: left;\">Semi-Annual</td><td style = \"text-align: right;\">0.0425</td></tr><tr><td class = \"rowNumber\" style = \"font-weight: bold; text-align: right;\">6</td><td style = \"text-align: left;\">91282CLF6</td><td style = \"text-align: left;\">Note</td><td style = \"text-align: left;\">10-Year</td><td style = \"text-align: left;\">08/07/2024</td><td style = \"text-align: left;\">08/15/2024</td><td style = \"text-align: left;\">08/15/2034</td><td style = \"text-align: right;\">99.3037</td><td style = \"font-style: italic; text-align: right;\">missing</td><td style = \"text-align: right;\">0.0396</td><td style = \"text-align: left;\">Semi-Annual</td><td style = \"text-align: right;\">0.03875</td></tr><tr><td class = \"rowNumber\" style = \"font-weight: bold; text-align: right;\">7</td><td style = \"text-align: left;\">91282CLG4</td><td style = \"text-align: left;\">Note</td><td style = \"text-align: left;\">3-Year</td><td style = \"text-align: left;\">08/06/2024</td><td style = \"text-align: left;\">08/15/2024</td><td style = \"text-align: left;\">08/15/2027</td><td style = \"text-align: right;\">99.8314</td><td style = \"font-style: italic; text-align: right;\">missing</td><td style = \"text-align: right;\">0.0381</td><td style = \"text-align: left;\">Semi-Annual</td><td style = \"text-align: right;\">0.0375</td></tr><tr><td class = \"rowNumber\" style = \"font-weight: bold; text-align: right;\">8</td><td style = \"text-align: left;\">91282CLD1</td><td style = \"text-align: left;\">Note</td><td style = \"text-align: left;\">7-Year</td><td style = \"text-align: left;\">07/25/2024</td><td style = \"text-align: left;\">07/31/2024</td><td style = \"text-align: left;\">07/31/2031</td><td style = \"text-align: right;\">99.7773</td><td style = \"font-style: italic; text-align: right;\">missing</td><td style = \"text-align: right;\">0.04162</td><td style = \"text-align: left;\">Semi-Annual</td><td style = \"text-align: right;\">0.04125</td></tr><tr><td class = \"rowNumber\" style = \"font-weight: bold; text-align: right;\">9</td><td style = \"text-align: left;\">91282CLA7</td><td style = \"text-align: left;\">Note</td><td style = \"text-align: left;\">2-Year</td><td style = \"text-align: left;\">07/24/2024</td><td style = \"text-align: left;\">07/31/2024</td><td style = \"text-align: left;\">07/31/2026</td><td style = \"text-align: right;\">100.0</td><td style = \"font-style: italic; text-align: right;\">missing</td><td style = \"font-style: italic; text-align: right;\">missing</td><td style = \"text-align: left;\">Quarterly</td><td style = \"font-style: italic; text-align: right;\">missing</td></tr><tr><td class = \"rowNumber\" style = \"font-weight: bold; text-align: right;\">10</td><td style = \"text-align: left;\">91282CLC3</td><td style = \"text-align: left;\">Note</td><td style = \"text-align: left;\">5-Year</td><td style = \"text-align: left;\">07/24/2024</td><td style = \"text-align: left;\">07/31/2024</td><td style = \"text-align: left;\">07/31/2029</td><td style = \"text-align: right;\">99.4583</td><td style = \"font-style: italic; text-align: right;\">missing</td><td style = \"text-align: right;\">0.04121</td><td style = \"text-align: left;\">Semi-Annual</td><td style = \"text-align: right;\">0.04</td></tr><tr><td class = \"rowNumber\" style = \"font-weight: bold; text-align: right;\">11</td><td style = \"text-align: left;\">91282CLB5</td><td style = \"text-align: left;\">Note</td><td style = \"text-align: left;\">2-Year</td><td style = \"text-align: left;\">07/23/2024</td><td style = \"text-align: left;\">07/31/2024</td><td style = \"text-align: left;\">07/31/2026</td><td style = \"text-align: right;\">99.8883</td><td style = \"font-style: italic; text-align: right;\">missing</td><td style = \"text-align: right;\">0.04434</td><td style = \"text-align: left;\">Semi-Annual</td><td style = \"text-align: right;\">0.04375</td></tr><tr><td class = \"rowNumber\" style = \"font-weight: bold; text-align: right;\">12</td><td style = \"text-align: left;\">91282CLE9</td><td style = \"text-align: left;\">Note</td><td style = \"text-align: left;\">10-Year</td><td style = \"text-align: left;\">07/18/2024</td><td style = \"text-align: left;\">07/31/2024</td><td style = \"text-align: left;\">07/15/2034</td><td style = \"text-align: right;\">100.013</td><td style = \"font-style: italic; text-align: right;\">missing</td><td style = \"text-align: right;\">0.01883</td><td style = \"text-align: left;\">Semi-Annual</td><td style = \"text-align: right;\">0.01875</td></tr><tr><td class = \"rowNumber\" style = \"font-weight: bold; text-align: right;\">13</td><td style = \"text-align: left;\">91282CKZ3</td><td style = \"text-align: left;\">Note</td><td style = \"text-align: left;\">3-Year</td><td style = \"text-align: left;\">07/09/2024</td><td style = \"text-align: left;\">07/15/2024</td><td style = \"text-align: left;\">07/15/2027</td><td style = \"text-align: right;\">99.9332</td><td style = \"font-style: italic; text-align: right;\">missing</td><td style = \"text-align: right;\">0.04399</td><td style = \"text-align: left;\">Semi-Annual</td><td style = \"text-align: right;\">0.04375</td></tr><tr><td style = \"text-align: right;\">&vellip;</td><td style = \"text-align: right;\">&vellip;</td><td style = \"text-align: right;\">&vellip;</td><td style = \"text-align: right;\">&vellip;</td><td style = \"text-align: right;\">&vellip;</td><td style = \"text-align: right;\">&vellip;</td><td style = \"text-align: right;\">&vellip;</td><td style = \"text-align: right;\">&vellip;</td><td style = \"text-align: right;\">&vellip;</td><td style = \"text-align: right;\">&vellip;</td><td style = \"text-align: right;\">&vellip;</td><td style = \"text-align: right;\">&vellip;</td></tr><tr><td class = \"rowNumber\" style = \"font-weight: bold; text-align: right;\">298</td><td style = \"text-align: left;\">912810SN9</td><td style = \"text-align: left;\">Bond</td><td style = \"text-align: left;\">30-Year</td><td style = \"text-align: left;\">05/13/2020</td><td style = \"text-align: left;\">05/15/2020</td><td style = \"text-align: left;\">05/15/2050</td><td style = \"text-align: right;\">97.7341</td><td style = \"font-style: italic; text-align: right;\">missing</td><td style = \"text-align: right;\">0.01342</td><td style = \"text-align: left;\">Semi-Annual</td><td style = \"text-align: right;\">0.0125</td></tr><tr><td class = \"rowNumber\" style = \"font-weight: bold; text-align: right;\">299</td><td style = \"text-align: left;\">912828ZQ6</td><td style = \"text-align: left;\">Note</td><td style = \"text-align: left;\">10-Year</td><td style = \"text-align: left;\">05/12/2020</td><td style = \"text-align: left;\">05/15/2020</td><td style = \"text-align: left;\">05/15/2030</td><td style = \"text-align: right;\">99.2769</td><td style = \"font-style: italic; text-align: right;\">missing</td><td style = \"text-align: right;\">0.007</td><td style = \"text-align: left;\">Semi-Annual</td><td style = \"text-align: right;\">0.00625</td></tr><tr><td class = \"rowNumber\" style = \"font-weight: bold; text-align: right;\">300</td><td style = \"text-align: left;\">912828ZP8</td><td style = \"text-align: left;\">Note</td><td style = \"text-align: left;\">3-Year</td><td style = \"text-align: left;\">05/11/2020</td><td style = \"text-align: left;\">05/15/2020</td><td style = \"text-align: left;\">05/15/2023</td><td style = \"text-align: right;\">99.6863</td><td style = \"font-style: italic; text-align: right;\">missing</td><td style = \"text-align: right;\">0.0023</td><td style = \"text-align: left;\">Semi-Annual</td><td style = \"text-align: right;\">0.00125</td></tr><tr><td class = \"rowNumber\" style = \"font-weight: bold; text-align: right;\">301</td><td style = \"text-align: left;\">912828ZK9</td><td style = \"text-align: left;\">Note</td><td style = \"text-align: left;\">2-Year</td><td style = \"text-align: left;\">04/28/2020</td><td style = \"text-align: left;\">04/30/2020</td><td style = \"text-align: left;\">04/30/2022</td><td style = \"text-align: right;\">100.0</td><td style = \"font-style: italic; text-align: right;\">missing</td><td style = \"font-style: italic; text-align: right;\">missing</td><td style = \"text-align: left;\">Quarterly</td><td style = \"font-style: italic; text-align: right;\">missing</td></tr><tr><td class = \"rowNumber\" style = \"font-weight: bold; text-align: right;\">302</td><td style = \"text-align: left;\">912828ZN3</td><td style = \"text-align: left;\">Note</td><td style = \"text-align: left;\">7-Year</td><td style = \"text-align: left;\">04/28/2020</td><td style = \"text-align: left;\">04/30/2020</td><td style = \"text-align: left;\">04/30/2027</td><td style = \"text-align: right;\">99.8284</td><td style = \"font-style: italic; text-align: right;\">missing</td><td style = \"text-align: right;\">0.00525</td><td style = \"text-align: left;\">Semi-Annual</td><td style = \"text-align: right;\">0.005</td></tr><tr><td class = \"rowNumber\" style = \"font-weight: bold; text-align: right;\">303</td><td style = \"text-align: left;\">912828ZM5</td><td style = \"text-align: left;\">Note</td><td style = \"text-align: left;\">2-Year</td><td style = \"text-align: left;\">04/27/2020</td><td style = \"text-align: left;\">04/30/2020</td><td style = \"text-align: left;\">04/30/2022</td><td style = \"text-align: right;\">99.7926</td><td style = \"font-style: italic; text-align: right;\">missing</td><td style = \"text-align: right;\">0.00229</td><td style = \"text-align: left;\">Semi-Annual</td><td style = \"text-align: right;\">0.00125</td></tr><tr><td class = \"rowNumber\" style = \"font-weight: bold; text-align: right;\">304</td><td style = \"text-align: left;\">912828ZL7</td><td style = \"text-align: left;\">Note</td><td style = \"text-align: left;\">5-Year</td><td style = \"text-align: left;\">04/27/2020</td><td style = \"text-align: left;\">04/30/2020</td><td style = \"text-align: left;\">04/30/2025</td><td style = \"text-align: right;\">99.906</td><td style = \"font-style: italic; text-align: right;\">missing</td><td style = \"text-align: right;\">0.00394</td><td style = \"text-align: left;\">Semi-Annual</td><td style = \"text-align: right;\">0.00375</td></tr><tr><td class = \"rowNumber\" style = \"font-weight: bold; text-align: right;\">305</td><td style = \"text-align: left;\">912828ZJ2</td><td style = \"text-align: left;\">Note</td><td style = \"text-align: left;\">5-Year</td><td style = \"text-align: left;\">04/23/2020</td><td style = \"text-align: left;\">04/30/2020</td><td style = \"text-align: left;\">04/15/2025</td><td style = \"text-align: right;\">102.366</td><td style = \"font-style: italic; text-align: right;\">missing</td><td style = \"text-align: right;\">-0.0032</td><td style = \"text-align: left;\">Semi-Annual</td><td style = \"text-align: right;\">0.00125</td></tr><tr><td class = \"rowNumber\" style = \"font-weight: bold; text-align: right;\">306</td><td style = \"text-align: left;\">912828ZH6</td><td style = \"text-align: left;\">Note</td><td style = \"text-align: left;\">3-Year</td><td style = \"text-align: left;\">04/06/2020</td><td style = \"text-align: left;\">04/15/2020</td><td style = \"text-align: left;\">04/15/2023</td><td style = \"text-align: right;\">99.7078</td><td style = \"font-style: italic; text-align: right;\">missing</td><td style = \"text-align: right;\">0.00348</td><td style = \"text-align: left;\">Semi-Annual</td><td style = \"text-align: right;\">0.0025</td></tr><tr><td class = \"rowNumber\" style = \"font-weight: bold; text-align: right;\">307</td><td style = \"text-align: left;\">912828ZE3</td><td style = \"text-align: left;\">Note</td><td style = \"text-align: left;\">7-Year</td><td style = \"text-align: left;\">03/26/2020</td><td style = \"text-align: left;\">03/31/2020</td><td style = \"text-align: left;\">03/31/2027</td><td style = \"text-align: right;\">99.6246</td><td style = \"font-style: italic; text-align: right;\">missing</td><td style = \"text-align: right;\">0.0068</td><td style = \"text-align: left;\">Semi-Annual</td><td style = \"text-align: right;\">0.00625</td></tr><tr><td class = \"rowNumber\" style = \"font-weight: bold; text-align: right;\">308</td><td style = \"text-align: left;\">912828ZF0</td><td style = \"text-align: left;\">Note</td><td style = \"text-align: left;\">5-Year</td><td style = \"text-align: left;\">03/25/2020</td><td style = \"text-align: left;\">03/31/2020</td><td style = \"text-align: left;\">03/31/2025</td><td style = \"text-align: right;\">99.8275</td><td style = \"font-style: italic; text-align: right;\">missing</td><td style = \"text-align: right;\">0.00535</td><td style = \"text-align: left;\">Semi-Annual</td><td style = \"text-align: right;\">0.005</td></tr><tr><td class = \"rowNumber\" style = \"font-weight: bold; text-align: right;\">309</td><td style = \"text-align: left;\">912828ZG8</td><td style = \"text-align: left;\">Note</td><td style = \"text-align: left;\">2-Year</td><td style = \"text-align: left;\">03/24/2020</td><td style = \"text-align: left;\">03/31/2020</td><td style = \"text-align: left;\">03/31/2022</td><td style = \"text-align: right;\">99.9542</td><td style = \"font-style: italic; text-align: right;\">missing</td><td style = \"text-align: right;\">0.00398</td><td style = \"text-align: left;\">Semi-Annual</td><td style = \"text-align: right;\">0.00375</td></tr></tbody></table></div>"
      ],
      "text/latex": [
       "\\begin{tabular}{r|ccccccc}\n",
       "\t& CUSIP & Security Type & Security Term & Auction Date & Issue Date & Maturity Date & \\\\\n",
       "\t\\hline\n",
       "\t& String15 & String7 & String7 & String15 & String15 & String15 & \\\\\n",
       "\t\\hline\n",
       "\t1 & 91282CLJ8 & Note & 7-Year & 08/29/2024 & 09/03/2024 & 08/31/2031 & $\\dots$ \\\\\n",
       "\t2 & 91282CLK5 & Note & 5-Year & 08/28/2024 & 09/03/2024 & 08/31/2029 & $\\dots$ \\\\\n",
       "\t3 & 91282CLH2 & Note & 2-Year & 08/27/2024 & 09/03/2024 & 08/31/2026 & $\\dots$ \\\\\n",
       "\t4 & 912810UD8 & Bond & 20-Year & 08/21/2024 & 09/03/2024 & 08/15/2044 & $\\dots$ \\\\\n",
       "\t5 & 912810UC0 & Bond & 30-Year & 08/08/2024 & 08/15/2024 & 08/15/2054 & $\\dots$ \\\\\n",
       "\t6 & 91282CLF6 & Note & 10-Year & 08/07/2024 & 08/15/2024 & 08/15/2034 & $\\dots$ \\\\\n",
       "\t7 & 91282CLG4 & Note & 3-Year & 08/06/2024 & 08/15/2024 & 08/15/2027 & $\\dots$ \\\\\n",
       "\t8 & 91282CLD1 & Note & 7-Year & 07/25/2024 & 07/31/2024 & 07/31/2031 & $\\dots$ \\\\\n",
       "\t9 & 91282CLA7 & Note & 2-Year & 07/24/2024 & 07/31/2024 & 07/31/2026 & $\\dots$ \\\\\n",
       "\t10 & 91282CLC3 & Note & 5-Year & 07/24/2024 & 07/31/2024 & 07/31/2029 & $\\dots$ \\\\\n",
       "\t11 & 91282CLB5 & Note & 2-Year & 07/23/2024 & 07/31/2024 & 07/31/2026 & $\\dots$ \\\\\n",
       "\t12 & 91282CLE9 & Note & 10-Year & 07/18/2024 & 07/31/2024 & 07/15/2034 & $\\dots$ \\\\\n",
       "\t13 & 91282CKZ3 & Note & 3-Year & 07/09/2024 & 07/15/2024 & 07/15/2027 & $\\dots$ \\\\\n",
       "\t14 & 91282CKW0 & Note & 7-Year & 06/27/2024 & 07/01/2024 & 06/30/2031 & $\\dots$ \\\\\n",
       "\t15 & 91282CKX8 & Note & 5-Year & 06/26/2024 & 07/01/2024 & 06/30/2029 & $\\dots$ \\\\\n",
       "\t16 & 91282CKY6 & Note & 2-Year & 06/25/2024 & 07/01/2024 & 06/30/2026 & $\\dots$ \\\\\n",
       "\t17 & 91282CKV2 & Note & 3-Year & 06/10/2024 & 06/17/2024 & 06/15/2027 & $\\dots$ \\\\\n",
       "\t18 & 91282CKU4 & Note & 7-Year & 05/29/2024 & 05/31/2024 & 05/31/2031 & $\\dots$ \\\\\n",
       "\t19 & 91282CKS9 & Note & 2-Year & 05/28/2024 & 05/31/2024 & 05/31/2026 & $\\dots$ \\\\\n",
       "\t20 & 91282CKT7 & Note & 5-Year & 05/28/2024 & 05/31/2024 & 05/31/2029 & $\\dots$ \\\\\n",
       "\t21 & 912810UB2 & Bond & 20-Year & 05/22/2024 & 05/31/2024 & 05/15/2044 & $\\dots$ \\\\\n",
       "\t22 & 912810UA4 & Bond & 30-Year & 05/09/2024 & 05/15/2024 & 05/15/2054 & $\\dots$ \\\\\n",
       "\t23 & 91282CKQ3 & Note & 10-Year & 05/08/2024 & 05/15/2024 & 05/15/2034 & $\\dots$ \\\\\n",
       "\t24 & 91282CKR1 & Note & 3-Year & 05/07/2024 & 05/15/2024 & 05/15/2027 & $\\dots$ \\\\\n",
       "\t$\\dots$ & $\\dots$ & $\\dots$ & $\\dots$ & $\\dots$ & $\\dots$ & $\\dots$ &  \\\\\n",
       "\\end{tabular}\n"
      ],
      "text/plain": [
       "\u001b[1m309×11 DataFrame\u001b[0m\n",
       "\u001b[1m Row \u001b[0m│\u001b[1m CUSIP     \u001b[0m\u001b[1m Security Type \u001b[0m\u001b[1m Security Term \u001b[0m\u001b[1m Auction Date \u001b[0m\u001b[1m Issue Date \u001b[0m\u001b[1m Matu\u001b[0m ⋯\n",
       "     │\u001b[90m String15  \u001b[0m\u001b[90m String7       \u001b[0m\u001b[90m String7       \u001b[0m\u001b[90m String15     \u001b[0m\u001b[90m String15   \u001b[0m\u001b[90m Stri\u001b[0m ⋯\n",
       "─────┼──────────────────────────────────────────────────────────────────────────\n",
       "   1 │ 91282CLJ8  Note           7-Year         08/29/2024    09/03/2024  08/3 ⋯\n",
       "   2 │ 91282CLK5  Note           5-Year         08/28/2024    09/03/2024  08/3\n",
       "   3 │ 91282CLH2  Note           2-Year         08/27/2024    09/03/2024  08/3\n",
       "   4 │ 912810UD8  Bond           20-Year        08/21/2024    09/03/2024  08/1\n",
       "   5 │ 912810UC0  Bond           30-Year        08/08/2024    08/15/2024  08/1 ⋯\n",
       "   6 │ 91282CLF6  Note           10-Year        08/07/2024    08/15/2024  08/1\n",
       "   7 │ 91282CLG4  Note           3-Year         08/06/2024    08/15/2024  08/1\n",
       "   8 │ 91282CLD1  Note           7-Year         07/25/2024    07/31/2024  07/3\n",
       "  ⋮  │     ⋮            ⋮              ⋮             ⋮            ⋮            ⋱\n",
       " 303 │ 912828ZM5  Note           2-Year         04/27/2020    04/30/2020  04/3 ⋯\n",
       " 304 │ 912828ZL7  Note           5-Year         04/27/2020    04/30/2020  04/3\n",
       " 305 │ 912828ZJ2  Note           5-Year         04/23/2020    04/30/2020  04/1\n",
       " 306 │ 912828ZH6  Note           3-Year         04/06/2020    04/15/2020  04/1\n",
       " 307 │ 912828ZE3  Note           7-Year         03/26/2020    03/31/2020  03/3 ⋯\n",
       " 308 │ 912828ZF0  Note           5-Year         03/25/2020    03/31/2020  03/3\n",
       " 309 │ 912828ZG8  Note           2-Year         03/24/2020    03/31/2020  03/3\n",
       "\u001b[36m                                                  6 columns and 294 rows omitted\u001b[0m"
      ]
     },
     "metadata": {},
     "output_type": "display_data"
    }
   ],
   "source": [
    "notes_bonds_dataset = filter(Symbol(\"Security Type\") => x-> (x == \"Note\" || x == \"Bond\"), dataset)"
   ]
  },
  {
   "cell_type": "markdown",
   "id": "ffdfa7ec-89e0-4d16-823a-d4f870d5e9b2",
   "metadata": {},
   "source": [
    "Finally, we build an [instance of the `DiscreteCompoundingModel` type](https://varnerlab.github.io/VLQuantitativeFinancePackage.jl/dev/fixed/#VLQuantitativeFinancePackage.DiscreteCompoundingModel) and store this discount model in the `discount_model` variable:"
   ]
  },
  {
   "cell_type": "code",
   "execution_count": 5,
   "id": "f521deb3-7d51-44cb-a997-77c15811c0a5",
   "metadata": {},
   "outputs": [],
   "source": [
    "discount_model = DiscreteCompoundingModel();"
   ]
  },
  {
   "cell_type": "markdown",
   "id": "ca651486",
   "metadata": {},
   "source": [
    "___"
   ]
  },
  {
   "cell_type": "markdown",
   "id": "e73e8b52-58a3-4f72-8958-e0fc9abcc565",
   "metadata": {},
   "source": [
    "## Task 1: Compute prices for a Bill, Note, and Bond to check our implementation\n",
    "In this task, we will compute the price of a Treasury bill, note, and bond using the treasury model we created in class. \n",
    "\n",
    "The teaching team has selected a random bill, note, and bond from the dataset. You will construct the corresponding treasury model instance, compute the price for each of these securities, and compare the calculated and observed prices. \n",
    "\n",
    "> __Example:__ Let's compute the price of a `26-Week` T-bill with par value $V_{P}$ = `100 USD` and a value of $\\bar{r}$ = `0.04865.` The observed price for this security is $V_{B}$ = `97.6315 USD`. Assume two compounding periods per year.\n",
    "\n",
    "Create an instance of [the `MyUSTreasuryZeroCouponBondModel` type](https://varnerlab.github.io/VLQuantitativeFinancePackage.jl/dev/fixed/#VLQuantitativeFinancePackage.MyUSTreasuryZeroCouponBondModel) using a [custom `build(...)` method](https://varnerlab.github.io/VLQuantitativeFinancePackage.jl/dev/fixed/#VLQuantitativeFinancePackage.build-Tuple{Type{MyUSTreasuryZeroCouponBondModel},%20NamedTuple}), assuming the data above. Pass the data into [the `build(...)` method](https://varnerlab.github.io/VLQuantitativeFinancePackage.jl/dev/fixed/#VLQuantitativeFinancePackage.build-Tuple{Type{MyUSTreasuryZeroCouponBondModel},%20NamedTuple}), and use the short-cut syntax to compute the price. Save the updated model in the `zero_coupon_model` variable."
   ]
  },
  {
   "cell_type": "code",
   "execution_count": 6,
   "id": "e6854f7a-effb-43e1-af0d-f6b128cce8e9",
   "metadata": {},
   "outputs": [
    {
     "data": {
      "text/plain": [
       "MyUSTreasuryZeroCouponBondModel(100.0, 0.04865, 0.4986301369863014, 97.63169388203484, 2, Dict(0 => -97.63169388203484, 1 => 100.0), Dict(0 => 1.0, 1 => 1.024257554322746))"
      ]
     },
     "metadata": {},
     "output_type": "display_data"
    }
   ],
   "source": [
    "zero_coupon_model = let\n",
    "\n",
    "    # initialize -\n",
    "    zero_coupon_model = nothing;\n",
    "\n",
    "    # TODO: Build a zero_coupon_model instance using the `build(...)` function and the `MyUSTreasuryZeroCouponBondModel` type, \n",
    "    # TODO: Pass in the appropriate parameters for the 26-week bill. \n",
    "    # TODO: Use the `securityterm(...)` function to convert the string \"26-Week\" into a `SecurityTerm` type for the `T` parameter.\n",
    "    # TODO: Finally, pipe the result of the `build(...)` function into the `discount_model` instance to populate the `zero_coupon_model` instance.\n",
    "    zero_coupon_model = build(MyUSTreasuryZeroCouponBondModel, (\n",
    "        n = 2, par = 100, \n",
    "            T = \"26-Week\" |> securityterm,\n",
    "            rate = 0.04865,\n",
    "    )) |> discount_model;\n",
    "\n",
    "    zero_coupon_model; # return\n",
    "end"
   ]
  },
  {
   "cell_type": "markdown",
   "id": "62f40a66-2242-4d48-8b44-1e2a9a4370dd",
   "metadata": {},
   "source": [
    "Now that we have calculated the price, compare the calculated and observed prices using the [@assert macro](https://docs.julialang.org/en/v1/base/base/#Base.@assert) in combination with [the `isapprox(...)` method](https://docs.julialang.org/en/v1/base/math/#Base.isapprox). \n",
    "\n",
    "> __Test:__ If the computed and observed prices are different, i.e., they have a relative difference tolerance of `rtol`$>$`1e-4`, then the [@assert macro](https://docs.julialang.org/en/v1/base/base/#Base.@assert) will `fail,` resulting in an [AssertionError](https://docs.julialang.org/en/v1/base/base/#Core.AssertionError). Otherwise, the [@assert macro](https://docs.julialang.org/en/v1/base/base/#Base.@assert) will `pass` silently (nothing happens).\n",
    "\n",
    "So, what do we see?"
   ]
  },
  {
   "cell_type": "code",
   "execution_count": 7,
   "id": "b186affa-2f7e-4bbe-9b7d-ba55cbbd5f81",
   "metadata": {},
   "outputs": [
    {
     "data": {
      "text/plain": [
       "97.6315"
      ]
     },
     "metadata": {},
     "output_type": "display_data"
    }
   ],
   "source": [
    "observed_bill_price = let\n",
    "    observed_bill_price = 97.6315;\n",
    "    @assert isapprox(observed_bill_price, zero_coupon_model.price, rtol=1e-4)\n",
    "    observed_bill_price;\n",
    "end"
   ]
  },
  {
   "cell_type": "markdown",
   "id": "faa68886-ac0a-44d7-8ddd-e5b5e6dd6c2e",
   "metadata": {},
   "source": [
    "Next, compute the price of a Treasury Note.\n",
    "\n",
    "> __Example:__ Compute the price of a `7-Year` T-Note with par value $V_{P}$ = `100 USD`, a value of $\\bar{r}$ = `0.04162`, and coupon rate $\\bar{c}$ = `0.04125.` The observed sale price for this security at auction was $V_{B}$ = `98.9288 USD`. Assume two compounding periods per year.\n",
    "\n",
    "Create an [instance of the `MyUSTreasuryCouponSecurityModel` type](https://varnerlab.github.io/VLQuantitativeFinancePackage.jl/dev/fixed/#VLQuantitativeFinancePackage.MyUSTreasuryCouponSecurityModel) using [a custom `build(...)` method](https://varnerlab.github.io/VLQuantitativeFinancePackage.jl/dev/fixed/#VLQuantitativeFinancePackage.build-Tuple{Type{MyUSTreasuryCouponSecurityModel},%20NamedTuple}), assuming the data above. Pass the appropriate data into [the `build(...)` method](https://varnerlab.github.io/VLQuantitativeFinancePackage.jl/dev/fixed/#VLQuantitativeFinancePackage.build-Tuple{Type{MyUSTreasuryCouponSecurityModel},%20NamedTuple}) and use the short-cut syntax to compute the price. Save the updated model in the `note_coupon_model` variable."
   ]
  },
  {
   "cell_type": "code",
   "execution_count": 8,
   "id": "2e22f327-b4f5-4847-8ee4-a318c39eacea",
   "metadata": {},
   "outputs": [],
   "source": [
    "note_coupon_model = let\n",
    "\n",
    "    # initialize -\n",
    "    note_coupon_model = nothing;\n",
    "\n",
    "    # TODO: Build a note_coupon_model instance using the `build(...)` function and the `MyUSTreasuryCouponSecurityModel` type,\n",
    "    # TODO: Pass in the appropriate parameters for the 7-year note (don't forget to use the `securityterm(...)` function for the `T` parameter).\n",
    "    # TODO: Finally, pipe the result of the `build(...)` function into the `discount_model` instance to populate the `note_coupon_model` instance.\n",
    "    note_coupon_model = build(MyUSTreasuryCouponSecurityModel, (\n",
    "        λ = 2, par = 100.0,\n",
    "            \n",
    "        T = \"7-Year\" |> securityterm,\n",
    "        rate = 0.04162,\n",
    "        coupon = 0.04125,\n",
    "        \n",
    "    )) |> discount_model;\n",
    "\n",
    "    note_coupon_model; # return\n",
    "end;"
   ]
  },
  {
   "cell_type": "markdown",
   "id": "20097ad0-b28a-421d-8061-caec365aaed2",
   "metadata": {},
   "source": [
    "Now that we have calculated the price, compare the calculated and observed prices using the [@assert macro](https://docs.julialang.org/en/v1/base/base/#Base.@assert) in combination with [the `isapprox(...)` method](https://docs.julialang.org/en/v1/base/math/#Base.isapprox). \n",
    "\n",
    "> __Test:__ If the computed and observed prices are different, i.e., they have a relative difference tolerance of `rtol`$>$`1e-4`, then the [@assert macro](https://docs.julialang.org/en/v1/base/base/#Base.@assert) will `fail,` resulting in an [AssertionError](https://docs.julialang.org/en/v1/base/base/#Core.AssertionError). Otherwise, the [@assert macro](https://docs.julialang.org/en/v1/base/base/#Base.@assert) will `pass` silently (nothing happens).\n",
    "\n",
    "So, what do we see?"
   ]
  },
  {
   "cell_type": "code",
   "execution_count": 9,
   "id": "773ad508-e670-4291-b279-53ef944e65a9",
   "metadata": {},
   "outputs": [
    {
     "data": {
      "text/plain": [
       "99.7773"
      ]
     },
     "metadata": {},
     "output_type": "display_data"
    }
   ],
   "source": [
    "observed_note_price = let\n",
    "    observed_note_price = 99.7773;\n",
    "    @assert isapprox(observed_note_price, note_coupon_model.price, rtol=1e-4)\n",
    "    observed_note_price;\n",
    "end"
   ]
  },
  {
   "cell_type": "markdown",
   "id": "bdd1c4c8-514a-45d5-b3bc-6d2a4464c752",
   "metadata": {},
   "source": [
    "Next, compute the price of a Treasury Bond.\n",
    "\n",
    "> __Example:__ Let's compute the price of a `30-Year` T-Bond with par value $V_{P}$ = `100 USD`, a value of $\\bar{r}$ = `0.04314`, and coupon rate $\\bar{c}$ = `0.0425.` The observed sale price for this security at auction was $V_{B}$ = `98.9288 USD`. Assume two compounding periods per year.\n",
    "\n",
    "Create an [instance of the `MyUSTreasuryCouponSecurityModel` type](https://varnerlab.github.io/VLQuantitativeFinancePackage.jl/dev/fixed/#VLQuantitativeFinancePackage.MyUSTreasuryCouponSecurityModel) using [a custom `build(...)` method](https://varnerlab.github.io/VLQuantitativeFinancePackage.jl/dev/fixed/#VLQuantitativeFinancePackage.build-Tuple{Type{MyUSTreasuryCouponSecurityModel},%20NamedTuple}), assuming the data above. Pass the appropriate data into [the `build(...)` method](https://varnerlab.github.io/VLQuantitativeFinancePackage.jl/dev/fixed/#VLQuantitativeFinancePackage.build-Tuple{Type{MyUSTreasuryCouponSecurityModel},%20NamedTuple}) and use the short-cut syntax to compute the price. Save the updated model in the `bond_coupon_model` variable."
   ]
  },
  {
   "cell_type": "code",
   "execution_count": 10,
   "id": "93f5e3eb-2b63-402e-91d1-ac5499500e40",
   "metadata": {},
   "outputs": [],
   "source": [
    "bond_coupon_model = let\n",
    "\n",
    "    # initialize -\n",
    "    bond_coupon_model = nothing;\n",
    "\n",
    "    # TODO: Build a bond_coupon_model instance using the `build(...)` function and the `MyUSTreasuryCouponSecurityModel` type,\n",
    "    # TODO: Pass in the appropriate parameters for the 30-year bond (don't forget to use the `securityterm(...)` function for the `T` parameter).\n",
    "    # TODO: Finally, pipe the result of the `build(...)` function into the `discount_model` instance to populate the `bond_coupon_model` instance.\n",
    "    bond_coupon_model = build(MyUSTreasuryCouponSecurityModel, (\n",
    "        λ = 2, par = 100.0,\n",
    "            \n",
    "        T = \"30-Year\" |> securityterm,\n",
    "        rate = 0.04314,\n",
    "        coupon = 0.0425,\n",
    "        \n",
    "    )) |> discount_model;\n",
    "\n",
    "    bond_coupon_model; # return\n",
    "end;"
   ]
  },
  {
   "cell_type": "markdown",
   "id": "49d86547-e5d4-4d9d-98d8-6d86b4b0b47d",
   "metadata": {},
   "source": [
    "Now that we have calculated the price, compare the calculated and observed prices using the [@assert macro](https://docs.julialang.org/en/v1/base/base/#Base.@assert) in combination with [the `isapprox(...)` method](https://docs.julialang.org/en/v1/base/math/#Base.isapprox). \n",
    "\n",
    "> __Test:__ If the computed and observed prices are different, i.e., they have a relative difference tolerance of `rtol`$>$`1e-4`, then the [@assert macro](https://docs.julialang.org/en/v1/base/base/#Base.@assert) will `fail,` resulting in an [AssertionError](https://docs.julialang.org/en/v1/base/base/#Core.AssertionError). Otherwise, the [@assert macro](https://docs.julialang.org/en/v1/base/base/#Base.@assert) will `pass` silently (nothing happens).\n",
    "\n",
    "So, what do we see?"
   ]
  },
  {
   "cell_type": "code",
   "execution_count": 11,
   "id": "9fc0fd72-17dd-4ff4-8e27-eaa915f7d2e3",
   "metadata": {},
   "outputs": [
    {
     "data": {
      "text/plain": [
       "98.9288"
      ]
     },
     "metadata": {},
     "output_type": "display_data"
    }
   ],
   "source": [
    "observed_bond_price = let\n",
    "    observed_bond_price = 98.9288;\n",
    "    @assert isapprox(observed_bond_price, bond_coupon_model.price, rtol=1e-4)\n",
    "    observed_bond_price;\n",
    "end"
   ]
  },
  {
   "cell_type": "markdown",
   "id": "d4b38812-f871-4af6-b9fd-d4161b038192",
   "metadata": {},
   "source": [
    "## Task 2: Do bills show the price asymmetry property? \n",
    "In class, we showed that notes (and, by extension, bonds) show price change asymmetry. However, we have not explored whether Bills also have this property. In this task, you'll use the treasury bill model that we created above and explore the price asymmetry question by simulation.\n",
    "\n",
    "> __Strategy:__ To simulate the asymmetry of price changes following changes in the yield (discount rate), with all other variables held constant, we'll generate a new rate $\\bar{r}\\leftarrow\\beta\\cdot\\bar{r}$, where $\\beta$ is a perturbation value. If $\\beta<1$, the perturbed interest rate is _less than_ the nominal rate. If $\\beta=1$, the perturbed interest rate _equals_ the nominal rate, and if $\\beta>1$, the perturbed interest rate is _greater than_ the nominal rate. We'll then compute the price and the percentage change in price for each perturbed rate.\n",
    "\n",
    "Let's use the `zero_coupon_model` instance from above for this experiment.\n",
    "\n",
    "* First, specify the number of perturbation values in the `number_of_samples_task_2` variable. For this simulation, let `number_of_samples_task_2 = 7` (odd, so we capture the nominal case as the center data point).\n",
    "* Next, specify the lower bound in the `β₁` variable and the upper bound in the `β₂` variable; let `β₁ = 0.8` and `β₂ = 1.2.`\n",
    "* Finally, compute the perturbation array (stored in the `β::Array{Float64,1}` variable) using the [range function](https://docs.julialang.org/en/v1/base/math/#Base.range) in combination with the [Julia pipe |> operator](https://docs.julialang.org/en/v1/manual/functions/#Function-composition-and-piping), and the [collect function](https://docs.julialang.org/en/v1/base/collections/#Base.collect-Tuple{Type,%20Any}), which converts a range type to a collection, i.e., an array.\n",
    "\n",
    "Build the perturbation array:"
   ]
  },
  {
   "cell_type": "code",
   "execution_count": 1,
   "id": "5ca81fb5-47ef-4f07-a194-4eed8ad11a98",
   "metadata": {},
   "outputs": [],
   "source": [
    "number_of_samples_task_2  = 7;\n",
    "β₁ = 0.8;\n",
    "β₂ = 1.2;\n",
    "β = range(β₁, stop = β₂, length = number_of_samples_task_2) |> collect;"
   ]
  },
  {
   "cell_type": "markdown",
   "id": "b47230a9-6da8-4cd9-b595-d5e995e4edd2",
   "metadata": {},
   "source": [
    "`Finish`: Your job is to complete the implementation of the `Theorem 4` simulation for Bills, which we started below, and analyze the simulation results. We save the simulation results in the `simulation_results_task_2_array::Array{Float64,2}` array and display the results in a table using the `pretty_table(...)` function exported from the [PrettyTables.jl package](https://github.com/ronisbr/PrettyTables.jl).\n",
    "\n",
    "`Hint`: Check out [the Julia `deepcopy(...)` function](https://docs.julialang.org/en/v1/base/copy/#Base.deepcopy). When you complete your implementation and run the notebook, you should see a table similar (numbers different, but similar structure) to the in-class example. \n",
    "\n",
    "What do you see?"
   ]
  },
  {
   "cell_type": "code",
   "execution_count": 13,
   "id": "807b2757-5c65-4631-b5cb-943c7f0a0aba",
   "metadata": {},
   "outputs": [],
   "source": [
    "simulation_results_task_2_array = let\n",
    "    \n",
    "    # initialize -\n",
    "    VB = observed_bill_price;\n",
    "    simulation_results_task_2_array = Array{Float64,2}(undef, number_of_samples_task_2, 3);\n",
    "\n",
    "    # main loop\n",
    "    for i ∈ eachindex(β)\n",
    "        β_value = β[i]\n",
    "       \n",
    "        ### TODO: Build a deep copy of the zero-coupon model and update its rate. Alternatively, build a new model using the zcm parameters, and update the rate\n",
    "        model = deepcopy(zero_coupon_model);\n",
    "        model.rate = β_value*zero_coupon_model.rate\n",
    "        ### END SOLUTION\n",
    "        \n",
    "        # compute: use short-cut syntax and compute the price\n",
    "        perturbed_price = model |> discount_model |> x-> x.price\n",
    "        \n",
    "        # capture: put data in simulation_results_task_2_array\n",
    "        simulation_results_task_2_array[i,1] = β_value; # col 1: perturbation value\n",
    "        simulation_results_task_2_array[i,2] = 100*((model.rate - zero_coupon_model.rate)/(zero_coupon_model.rate));    # col 2: percentage change in r̄\n",
    "        simulation_results_task_2_array[i,3] = 100*((model.price - VB)/(VB)); # col 3: percentage change in the price of the Bill\n",
    "    end\n",
    "    simulation_results_task_2_array\n",
    "end;"
   ]
  },
  {
   "cell_type": "code",
   "execution_count": 14,
   "id": "e6c62e70-a3b4-45bb-a562-48d686657787",
   "metadata": {},
   "outputs": [
    {
     "name": "stdout",
     "output_type": "stream",
     "text": [
      "=========== ========== ==============\n",
      " \u001b[1m        β \u001b[0m \u001b[1m   Δr̄ (%) \u001b[0m \u001b[1m  ΔPrice (%) \u001b[0m\n",
      "=========== ========== ==============\n",
      "       0.8      -20.0      0.476102\n",
      "  0.866667   -13.3333      0.316965\n",
      "  0.933333   -6.66667      0.158331\n",
      "       1.0        0.0   0.000198586\n",
      "   1.06667    6.66667     -0.157434\n",
      "   1.13333    13.3333     -0.314571\n",
      "       1.2       20.0     -0.471212\n",
      "=========== ========== ==============\n"
     ]
    }
   ],
   "source": [
    "# let's make a table to display the results of the simulation for Task 2\n",
    "pretty_table(simulation_results_task_2_array, header=[\"β\",\"Δr̄ (%)\",\"ΔPrice (%)\"] , tf=tf_simple)"
   ]
  },
  {
   "cell_type": "markdown",
   "id": "3af1c711",
   "metadata": {},
   "source": [
    "#### Does Theorem 4 hold for T-bills?\n",
    "\n",
    "Based on the table above:\n",
    "1. Do you observe price asymmetry in T-bills? (Yes/No). Set `does_theorem_4_hold_for_bills` to `true` or `false` based on your observation.\n",
    "2. Which direction shows larger absolute price changes: rate increases or decreases?\n",
    "3. In one sentence, explain what this tells us about T-bill price sensitivity to yield changes."
   ]
  },
  {
   "cell_type": "code",
   "execution_count": 15,
   "id": "9c3f9f5b-0cbb-4916-be0c-da2a4503eb5e",
   "metadata": {},
   "outputs": [],
   "source": [
    "does_theorem_4_hold_for_bills = true; # update this value {true | false}"
   ]
  },
  {
   "cell_type": "markdown",
   "id": "e29a1da2-4733-4cc9-9271-6efe7ee99606",
   "metadata": {},
   "source": [
    "__Explain your answers here__ to Q2 and Q3 in a few sentences, providing reasoning based on the simulation results. This is a markdown cell, so you can use bullet points, numbered lists, or any other formatting that helps clarify your explanation."
   ]
  },
  {
   "cell_type": "code",
   "execution_count": 16,
   "id": "c6187c90",
   "metadata": {},
   "outputs": [],
   "source": [
    "did_I_answer_DQ1_flag = true; # update this value {true | false}"
   ]
  },
  {
   "cell_type": "markdown",
   "id": "b755d02e-991b-4532-bd2a-f5e287285ef6",
   "metadata": {},
   "source": [
    "## Task 3: Is price asymmetry a function of maturity?\n",
    "Finally, in class, we showed that coupon securities exhibited price asymmetry, i.e., the absolute percentage change in price was larger for decreases in $\\bar{r}\\downarrow$ compared to the response when $\\bar{r}\\uparrow$ increases. However, are longer-maturity instruments more sensitive to this effect, i.e., do they exhibit larger asymmetry? Let's do some calculations to explore this question.\n",
    "\n",
    "To start, create a hypothetical `T = 20-year` bond with the same parameters as the `30-year` bond we created above and compute its price. All parameters should be the same __except__ the duration. Save the populated model instance in the `short_duration_bond` variable:"
   ]
  },
  {
   "cell_type": "code",
   "execution_count": 17,
   "id": "21aa2f35-97dc-4247-9975-48a623cc41b0",
   "metadata": {},
   "outputs": [
    {
     "data": {
      "text/plain": [
       "MyUSTreasuryCouponSecurityModel(100.0, 0.04314, 0.0425, 20.0, 2, 99.14825074560238, Dict(5 => 1.909933652139833, 16 => 1.51031954661004, 20 => 1.3867440790618604, 35 => 1.0068722223196547, 12 => 1.6449070649110031, 24 => 1.2732796480913555, 28 => 1.1690989611727236, 8 => 1.791487939269013, 17 => 1.4784298154899222, 30 => 1.1202501563507812…), Dict(5 => 1.112604093665355, 16 => 1.4069870212364195, 20 => 1.5323663768137907, 35 => 2.110496200902611, 12 => 1.2918662976956525, 24 => 1.6689185311218726, 28 => 1.817639114030528, 8 => 1.1861648372955673, 17 => 1.4373357312844892, 30 => 1.8968977490904309…))"
      ]
     },
     "metadata": {},
     "output_type": "display_data"
    }
   ],
   "source": [
    "short_duration_bond  = let\n",
    "    \n",
    "    # initialize -\n",
    "    short_duration_bond = nothing;\n",
    "    \n",
    "    # TODO: Build a deep copy of the bond_coupon_model\n",
    "    # TODO: Update its T parameter to \"20-Year\" (don't forget to use the `securityterm(...)` function).\n",
    "    # TODO: Pipe the result into the `discount_model` instance to populate the `short_duration_bond` instance.\n",
    "    short_duration_bond = deepcopy(bond_coupon_model);\n",
    "    short_duration_bond.T = \"20-Year\" |> securityterm;\n",
    "    short_duration_bond |> discount_model;\n",
    "\n",
    "    short_duration_bond; # return\n",
    "end"
   ]
  },
  {
   "cell_type": "markdown",
   "id": "bc0ba7c7-3eec-4024-a589-0ebb619b0231",
   "metadata": {},
   "source": [
    "`Finish`: Next, finish implementing the code block below. This code computes the percentage change in the short- and long-maturity bond prices and stores the simulation data in the `simulation_results_task_3_array::Array{Float64,2}` array. See the `TODO` block."
   ]
  },
  {
   "cell_type": "code",
   "execution_count": 18,
   "id": "c6956b4d-f19d-4a94-8638-120ff379d830",
   "metadata": {},
   "outputs": [],
   "source": [
    "simulation_results_task_3_array = let\n",
    "    \n",
    "    # initialize -\n",
    "    simulation_results_task_3_array = Array{Float64,2}(undef, number_of_samples_task_2, 4);\n",
    "    VB_short = short_duration_bond.price # original\n",
    "    VB_long = bond_coupon_model.price\n",
    "\n",
    "    # main loop -\n",
    "    for i ∈ eachindex(β)\n",
    "        β_value = β[i]\n",
    "    \n",
    "        model_short = deepcopy(short_duration_bond); # create a copy of the short-duration model\n",
    "        model_long = deepcopy(bond_coupon_model); # create a copy of the original bond model (long duration)\n",
    "        \n",
    "        ### TODO: update the rate for the model_short, and model_long instances -\n",
    "        model_short.rate = β_value*short_duration_bond.rate\n",
    "        model_long.rate = β_value*bond_coupon_model.rate\n",
    "        ### END \n",
    "        \n",
    "        # compute: use short-cut syntax and compute the price of the short- and long-duration bonds\n",
    "        perturbed_price_short = model_short |> discount_model |> x-> x.price\n",
    "        perturbed_price_long = model_long |> discount_model |> x-> x.price\n",
    "        \n",
    "        # capture: put data in simulation_results_task_3_array\n",
    "        simulation_results_task_3_array[i,1] = β_value; # col 1: store the perturbation value\n",
    "        simulation_results_task_3_array[i,2] = 100*((model_short.rate - short_duration_bond.rate)/(short_duration_bond.rate));    # col 2: percentage change in r̄\n",
    "        simulation_results_task_3_array[i,3] = 100*((model_short.price - VB_short)/(VB_short)); # col 3: percentage change in the price of the short bond\n",
    "        simulation_results_task_3_array[i,4] = 100*((model_long.price - VB_long)/(VB_long)); # col 4: percentage change in the price of the long bond\n",
    "    end\n",
    "    \n",
    "    simulation_results_task_3_array\n",
    "end;"
   ]
  },
  {
   "cell_type": "code",
   "execution_count": 19,
   "id": "124d3276-db40-4d72-861c-f6dbe92bf660",
   "metadata": {},
   "outputs": [
    {
     "name": "stdout",
     "output_type": "stream",
     "text": [
      "=========== ========== ================== ==================\n",
      " \u001b[1m        β \u001b[0m \u001b[1m   Δr̄ (%) \u001b[0m \u001b[1m ΔPrice-short (%) \u001b[0m \u001b[1m ΔPrice-long (%) \u001b[0m\n",
      "=========== ========== ================== ==================\n",
      "       0.8      -20.0            12.4282           16.0974\n",
      "  0.866667   -13.3333            8.07545           10.3548\n",
      "  0.933333   -6.66667            3.93655           4.99867\n",
      "       1.0        0.0                0.0               0.0\n",
      "   1.06667    6.66667           -3.74502          -4.66795\n",
      "   1.13333    13.3333           -7.30872          -9.02979\n",
      "       1.2       20.0           -10.7007          -13.1082\n",
      "=========== ========== ================== ==================\n"
     ]
    }
   ],
   "source": [
    "# let's make a table to display the results of the simulation for Task 3\n",
    "pretty_table(simulation_results_task_3_array, header=[\"β\",\"Δr̄ (%)\", \"ΔPrice-short (%)\", \"ΔPrice-long (%)\"] , tf=tf_simple)"
   ]
  },
  {
   "cell_type": "markdown",
   "id": "0611bd2b",
   "metadata": {},
   "source": [
    "#### Does price asymmetry change with duration?\n",
    "\n",
    "Based on the table above:\n",
    "1. Does price asymmetry change with bond duration/maturity? Set `is_price_asymmetry_func_maturity` to `true` or `false` based on your observation.\n",
    "2. Which bond shows larger absolute price changes for the same yield changes: short-duration (20-year) or long-duration (30-year)?\n",
    "3. Compare the asymmetry pattern between the two bonds - is the asymmetry effect more pronounced in longer-maturity bonds?\n",
    "4. In one sentence, explain how maturity affects the price asymmetry phenomenon in coupon-bearing securities."
   ]
  },
  {
   "cell_type": "code",
   "execution_count": 20,
   "id": "148c6a16-df63-493d-8393-d8ea1823251a",
   "metadata": {},
   "outputs": [],
   "source": [
    "is_price_asymmetry_func_maturity = true; # update this value {true | false}"
   ]
  },
  {
   "cell_type": "markdown",
   "id": "7ea2a9f2-d9e9-4706-bdd9-4cb29e76dd1c",
   "metadata": {},
   "source": [
    "__Explain your answers here__ to Q2, Q3, and Q4 in a few sentences, providing reasoning based on the simulation results. This is a markdown cell, so you can use bullet points, numbered lists, or any other formatting that helps clarify your explanation."
   ]
  },
  {
   "cell_type": "code",
   "execution_count": 21,
   "id": "6b299e79",
   "metadata": {},
   "outputs": [],
   "source": [
    "did_I_answer_DQ2_flag = true; # update this value {true | false}"
   ]
  },
  {
   "cell_type": "markdown",
   "id": "3e2490e6-aea1-4e8f-903d-522b8ba19607",
   "metadata": {},
   "source": [
    "## Testing\n",
    "In the code block below, we compare your answers to those of the teaching team and give you feedback on which items are the same (which presumably means they are correct) and which are different. \n",
    "\n",
    "`Unhide` the code block below (if you are curious) about how we implemented the tests and what we are testing."
   ]
  },
  {
   "cell_type": "code",
   "execution_count": 22,
   "id": "7a3f98c0-903e-41c1-b136-8b73e0acf297",
   "metadata": {},
   "outputs": [],
   "source": [
    "# let\n",
    "#     # Set the path -\n",
    "#     path_to_soln_file = joinpath(_PATH_TO_SOLN,\"PS1-TeachingTeam-Solution-CHEME-5660-Fall-2025.jld2\")\n",
    "    \n",
    "#     # write the file -\n",
    "#     save(path_to_soln_file, Dict(\"zero_coupon_model\"=>zero_coupon_model, \n",
    "#             \"note_coupon_model\"=>note_coupon_model, \"bond_coupon_model\" =>bond_coupon_model, \n",
    "#             \"simulation_results_task_3_array\"=>simulation_results_task_3_array, \n",
    "#             \"simulation_results_task_2_array\"=>simulation_results_task_2_array,\n",
    "#             \"is_price_asymmetry_func_maturity\"=>is_price_asymmetry_func_maturity,\n",
    "#             \"does_theorem_4_hold_for_bills\"=>does_theorem_4_hold_for_bills));\n",
    "# end"
   ]
  },
  {
   "cell_type": "code",
   "execution_count": 23,
   "id": "0f69ab74-c7a8-4927-9053-610d3ed13807",
   "metadata": {},
   "outputs": [
    {
     "name": "stdout",
     "output_type": "stream",
     "text": [
      "\u001b[0m\u001b[1mTest Summary:                       | \u001b[22m\u001b[32m\u001b[1mPass  \u001b[22m\u001b[39m\u001b[36m\u001b[1mTotal  \u001b[22m\u001b[39m\u001b[0m\u001b[1mTime\u001b[22m\n",
      "CHEME 5660 problem set 1 test suite | \u001b[32m  27  \u001b[39m\u001b[36m   27  \u001b[39m\u001b[0m0.5s\n",
      "  include.jl run check              | \u001b[32m   1  \u001b[39m\u001b[36m    1  \u001b[39m\u001b[0m0.2s\n",
      "  zero-coupon model tests           | \u001b[32m   6  \u001b[39m\u001b[36m    6  \u001b[39m\u001b[0m0.0s\n",
      "  note model tests                  | \u001b[32m   7  \u001b[39m\u001b[36m    7  \u001b[39m\u001b[0m0.0s\n",
      "  bond model tests                  | \u001b[32m   7  \u001b[39m\u001b[36m    7  \u001b[39m\u001b[0m0.0s\n",
      "  Task 2 tests                      | \u001b[32m   3  \u001b[39m\u001b[36m    3  \u001b[39m\u001b[0m0.2s\n",
      "  Task 3 tests                      | \u001b[32m   3  \u001b[39m\u001b[36m    3  \u001b[39m\u001b[0m0.0s\n",
      "\u001b[36m\u001b[1mTotal  \u001b[22m\u001b[39m\u001b[0m\u001b[1mTime\u001b[22m\n",
      "CHEME 5660 problem set 1 test suite | \u001b[32m  27  \u001b[39m\u001b[36m   27  \u001b[39m\u001b[0m0.5s\n",
      "  include.jl run check              | \u001b[32m   1  \u001b[39m\u001b[36m    1  \u001b[39m\u001b[0m0.2s\n",
      "  zero-coupon model tests           | \u001b[32m   6  \u001b[39m\u001b[36m    6  \u001b[39m\u001b[0m0.0s\n",
      "  note model tests                  | \u001b[32m   7  \u001b[39m\u001b[36m    7  \u001b[39m\u001b[0m0.0s\n",
      "  bond model tests                  | \u001b[32m   7  \u001b[39m\u001b[36m    7  \u001b[39m\u001b[0m0.0s\n",
      "  Task 2 tests                      | \u001b[32m   3  \u001b[39m\u001b[36m    3  \u001b[39m\u001b[0m0.2s\n",
      "  Task 3 tests                      | \u001b[32m   3  \u001b[39m\u001b[36m    3  \u001b[39m\u001b[0m0.0s\n"
     ]
    }
   ],
   "source": [
    "let\n",
    "\n",
    "    # load teaching team solution data -\n",
    "    saved_solution_dict = joinpath(_PATH_TO_SOLN,\"PS1-TeachingTeam-Solution-CHEME-5660-Fall-2025.jld2\") |> load;\n",
    "\n",
    "    @testset verbose = true \"CHEME 5660 problem set 1 test suite\" begin\n",
    "\n",
    "        @testset \"include.jl run check\" begin\n",
    "            @test _DID_THIS_INCLUDE_JL_RUN == true\n",
    "        end\n",
    "\n",
    "        @testset \"zero-coupon model tests\" begin\n",
    "            zero_model_soln = saved_solution_dict[\"zero_coupon_model\"];\n",
    "\n",
    "            # check the data on the zero model -\n",
    "            @test isnothing(zero_coupon_model) == false\n",
    "            @test zero_model_soln.T == zero_coupon_model.T\n",
    "            @test zero_model_soln.n == zero_coupon_model.n\n",
    "            @test zero_model_soln.par == zero_coupon_model.par\n",
    "            @test isapprox(zero_model_soln.rate, zero_coupon_model.rate, rtol=1e-10)  # Use isapprox for rates\n",
    "            @test isapprox(zero_model_soln.price, zero_coupon_model.price, atol=1e-4)\n",
    "        end\n",
    "\n",
    "        @testset \"note model tests\" begin\n",
    "            note_model_soln = saved_solution_dict[\"note_coupon_model\"];\n",
    "\n",
    "            # check the data on the note -\n",
    "            @test isnothing(note_coupon_model) == false\n",
    "            @test note_model_soln.T == note_coupon_model.T\n",
    "            @test note_model_soln.λ == note_coupon_model.λ\n",
    "            @test note_model_soln.par == note_coupon_model.par\n",
    "            @test isapprox(note_model_soln.rate, note_coupon_model.rate, rtol=1e-10)  # Use isapprox for rates\n",
    "            @test isapprox(note_model_soln.coupon, note_coupon_model.coupon, rtol=1e-10)  # Use isapprox for coupon rates\n",
    "            @test isapprox(note_model_soln.price, note_coupon_model.price, atol=1e-4)\n",
    "        end\n",
    "\n",
    "        @testset \"bond model tests\" begin\n",
    "            bond_model_soln = saved_solution_dict[\"bond_coupon_model\"];\n",
    "\n",
    "            # check the data on the bond -\n",
    "            @test isnothing(bond_coupon_model) == false\n",
    "            @test bond_model_soln.T == bond_coupon_model.T\n",
    "            @test bond_model_soln.λ == bond_coupon_model.λ\n",
    "            @test bond_model_soln.par == bond_coupon_model.par\n",
    "            @test isapprox(bond_model_soln.rate, bond_coupon_model.rate, rtol=1e-10)  # Use isapprox for rates\n",
    "            @test isapprox(bond_model_soln.coupon, bond_coupon_model.coupon, rtol=1e-10)  # Use isapprox for coupon rates\n",
    "            @test isapprox(bond_model_soln.price, bond_coupon_model.price, atol=1e-4)\n",
    "        end\n",
    "\n",
    "        @testset \"Task 2 tests\" begin\n",
    "            simulation_results_task_2_soln = saved_solution_dict[\"simulation_results_task_2_array\"];\n",
    "            task_2_flag = saved_solution_dict[\"does_theorem_4_hold_for_bills\"];\n",
    "            \n",
    "            @test isapprox(simulation_results_task_2_soln, simulation_results_task_2_array, rtol=1e-6)  # Use isapprox for array comparison\n",
    "            @test does_theorem_4_hold_for_bills == task_2_flag\n",
    "            @test did_I_answer_DQ1_flag == true\n",
    "        end\n",
    "\n",
    "        @testset \"Task 3 tests\" begin\n",
    "            simulation_results_task_3_soln = saved_solution_dict[\"simulation_results_task_3_array\"];\n",
    "            task_3_flag = saved_solution_dict[\"is_price_asymmetry_func_maturity\"];\n",
    "            \n",
    "            @test isapprox(simulation_results_task_3_soln, simulation_results_task_3_array, rtol=1e-6)  # Use isapprox for array comparison\n",
    "            @test is_price_asymmetry_func_maturity == task_3_flag\n",
    "            @test did_I_answer_DQ2_flag == true\n",
    "        end\n",
    "    end\n",
    "end;"
   ]
  },
  {
   "cell_type": "markdown",
   "id": "9c8c6693-8ce1-48be-9055-34a5c6c62d9f",
   "metadata": {},
   "source": [
    "## Disclaimer and Risks\n",
    "__This content is offered solely for training and informational purposes__. No offer or solicitation to buy or sell securities or derivative products or any investment or trading advice or strategy is made, given, or endorsed by the teaching team. \n",
    "\n",
    "__Trading involves risk__. Carefully review your financial situation before investing in securities, futures contracts, options, or commodity interests. Past performance, whether actual or indicated by historical tests of strategies, is no guarantee of future performance or success. Trading is generally inappropriate for someone with limited resources, investment or trading experience, or a low-risk tolerance.  Only risk capital that is not required for living expenses.\n",
    "\n",
    "__You are fully responsible for any investment or trading decisions you make__. Such decisions should be based solely on evaluating your financial circumstances, investment or trading objectives, risk tolerance, and liquidity needs."
   ]
  }
 ],
 "metadata": {
  "kernelspec": {
   "display_name": "Julia 1.11.6",
   "language": "julia",
   "name": "julia-1.11"
  },
  "language_info": {
   "file_extension": ".jl",
   "mimetype": "application/julia",
   "name": "julia",
   "version": "1.11.6"
  }
 },
 "nbformat": 4,
 "nbformat_minor": 5
}
