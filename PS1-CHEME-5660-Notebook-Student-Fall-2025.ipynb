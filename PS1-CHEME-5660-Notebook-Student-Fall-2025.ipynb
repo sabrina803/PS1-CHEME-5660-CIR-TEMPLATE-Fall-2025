{
 "cells": [
  {
   "cell_type": "markdown",
   "id": "dbd7e79d-3a0e-43fd-8193-8d9f96f7dc25",
   "metadata": {},
   "source": [
    "# Problem Set 1 (PS1): A Deeper Dive into Malkiel's Theorem 4\n",
    "Malkiel proposed five theorems that govern the price of fixed-income debt securities, e.g., Treasury Bills, Notes, and Bonds, as a function of duration, yield, and coupon (interest) rate values:\n",
    "\n",
    "> [Malkiel, B. G. (1962). Expectations, Bond Prices, and the Term Structure of Interest Rates. The Quarterly Journal of Economics, 76(2), 197–218. https://doi.org/10.2307/1880816](https://www.jstor.org/stable/1880816)\n",
    "\n",
    "In class, we showed (by simulation) that we could observe the essential stipulation of `Theorem 4`: Price movements resulting from equal absolute increases and decreases in yield are asymmetric; i.e., decreasing yields raise bond prices more than the same increase in yields lowers prices. However, during the discussion of the simulation results, we encountered an interesting question: \n",
    "> __Question__: Would you expect the price asymmetry to increase or decrease with the duration of the note or bond?\n",
    "\n",
    "### Tasks\n",
    "The objective of this problem set is to explore the price asymmetry question we introduced in the lecture by simulating price changes in different instruments resulting from changes in $\\bar{r}$.\n",
    "* __Setup, Data and Prerequisites__: Load the Treasury auction dataset. We load some data and set up components that we use below. There is nothing to do in the __prerequisite__ section, but check it out if you are curious.\n",
    "* __Task 1__: Compute prices for a Bill, Note, and Bond to check our implementation. We've selected some Treasury securities from the dataset, but we must build models and compute prices (and other data). In this task, you will create (and populate) models of a Bill, a Note, and a Bond and compare the computed price with the price observed at auction.\n",
    "* __Task 2__: In class, we showed that notes (and, by extension, bonds) show price change asymmetry. However, we have not explored whether Bills also have this property. In this task, you'll use the treasury bill model we created above and explore the price asymmetry question by simulation.\n",
    "* __Task 3__: Finally, in class, we showed that coupon securities exhibited price asymmetry, i.e., the absolute percentage change in price was larger for decreases in $\\bar{r}\\downarrow$ compared to the response when $\\bar{r}\\uparrow$ increases. However, are longer-maturity instruments more sensitive to this effect, i.e., do they exhibit larger asymmetry? Let's do some calculations to explore this question.\n",
    "\n",
    "Let's get started!\n",
    "___"
   ]
  },
  {
   "cell_type": "markdown",
   "id": "5f650607-3f7e-4e24-a680-2fabf9c2f3e4",
   "metadata": {},
   "source": [
    "## Setup, Data, and Prerequisites\n",
    "We set up the computational environment by including the `Include.jl` file, loading any needed resources, such as sample datasets, and setting up any required constants. \n",
    "\n",
    "> __Include:__ The [include(...) function](https://docs.julialang.org/en/v1/base/base/#include) is a convenient way to load Julia code from another file. The `Include.jl` file is a Julia file that loads external packages and various functions that we will use in the exercise. It checks for a `Manifest.toml` file; if it finds one, packages are loaded. Otherwise, packages are downloaded and then loaded.\n",
    "\n",
    "Set up your computational environment by running the code cell below."
   ]
  },
  {
   "cell_type": "code",
   "execution_count": 1,
   "id": "1e9d8a32-05e3-4688-b67e-4e66737fe4fd",
   "metadata": {},
   "outputs": [
    {
     "name": "stderr",
     "output_type": "stream",
     "text": [
      "\u001b[32m\u001b[1m     Cloning\u001b[22m\u001b[39m git-repo `https://github.com/varnerlab/VLQuantitativeFinancePackage.jl.git`\n",
      "\u001b[32m\u001b[1m    Updating\u001b[22m\u001b[39m git-repo `https://github.com/varnerlab/VLQuantitativeFinancePackage.jl.git`\n",
      "\u001b[32m\u001b[1m   Resolving\u001b[22m\u001b[39m package versions...\n",
      "\u001b[32m\u001b[1m   Installed\u001b[22m\u001b[39m EnumX ──────────────────── v1.0.5\n",
      "\u001b[32m\u001b[1m   Installed\u001b[22m\u001b[39m FiniteDiff ─────────────── v2.28.1\n",
      "\u001b[32m\u001b[1m   Installed\u001b[22m\u001b[39m SolverCore ─────────────── v0.3.8\n",
      "\u001b[32m\u001b[1m   Installed\u001b[22m\u001b[39m TimerOutputs ───────────── v0.5.29\n",
      "\u001b[32m\u001b[1m   Installed\u001b[22m\u001b[39m NLPModels ──────────────── v0.20.0\n",
      "\u001b[32m\u001b[1m   Installed\u001b[22m\u001b[39m MutableArithmetics ─────── v1.6.4\n",
      "\u001b[32m\u001b[1m   Installed\u001b[22m\u001b[39m MadNLP ─────────────────── v0.7.0\n",
      "\u001b[32m\u001b[1m   Installed\u001b[22m\u001b[39m MathOptInterface ───────── v1.44.0\n",
      "\u001b[32m\u001b[1m   Installed\u001b[22m\u001b[39m CodecBzip2 ─────────────── v0.8.5\n",
      "\u001b[32m\u001b[1m   Installed\u001b[22m\u001b[39m NLSolversBase ──────────── v7.10.0\n",
      "\u001b[32m\u001b[1m   Installed\u001b[22m\u001b[39m ADTypes ────────────────── v1.17.0\n",
      "\u001b[32m\u001b[1m   Installed\u001b[22m\u001b[39m LinearOperators ────────── v2.11.0\n",
      "\u001b[32m\u001b[1m   Installed\u001b[22m\u001b[39m ExprTools ──────────────── v0.1.10\n",
      "\u001b[32m\u001b[1m   Installed\u001b[22m\u001b[39m CommonSubexpressions ───── v0.3.1\n",
      "\u001b[32m\u001b[1m   Installed\u001b[22m\u001b[39m JLD2 ───────────────────── v0.5.15\n",
      "\u001b[32m\u001b[1m   Installed\u001b[22m\u001b[39m DiffRules ──────────────── v1.15.1\n",
      "\u001b[32m\u001b[1m   Installed\u001b[22m\u001b[39m LsqFit ─────────────────── v0.15.1\n",
      "\u001b[32m\u001b[1m   Installed\u001b[22m\u001b[39m StructTypes ────────────── v1.11.0\n",
      "\u001b[32m\u001b[1m   Installed\u001b[22m\u001b[39m JSON3 ──────────────────── v1.14.3\n",
      "\u001b[32m\u001b[1m   Installed\u001b[22m\u001b[39m DiffResults ────────────── v1.1.0\n",
      "\u001b[32m\u001b[1m   Installed\u001b[22m\u001b[39m FastClosures ───────────── v0.3.2\n",
      "\u001b[32m\u001b[1m   Installed\u001b[22m\u001b[39m PositiveFactorizations ─── v0.2.4\n",
      "\u001b[32m\u001b[1m   Installed\u001b[22m\u001b[39m LineSearches ───────────── v7.4.0\n",
      "\u001b[32m\u001b[1m   Installed\u001b[22m\u001b[39m ForwardDiff ────────────── v1.1.0\n",
      "\u001b[32m\u001b[1m   Installed\u001b[22m\u001b[39m Optim ──────────────────── v1.13.2\n",
      "\u001b[32m\u001b[1m   Installed\u001b[22m\u001b[39m DifferentiationInterface ─ v0.7.7\n",
      "\u001b[32m\u001b[1m   Installed\u001b[22m\u001b[39m JuMP ───────────────────── v1.29.0\n",
      "\u001b[32m\u001b[1m    Updating\u001b[22m\u001b[39m `~/Documents/PS1-CHEME-5660-CIR-TEMPLATE-Fall-2025/Project.toml`\n",
      "  \u001b[90m[336ed68f] \u001b[39m\u001b[92m+ CSV v0.10.15\u001b[39m\n",
      "  \u001b[90m[5ae59095] \u001b[39m\u001b[92m+ Colors v0.13.1\u001b[39m\n",
      "  \u001b[90m[a93c6f00] \u001b[39m\u001b[92m+ DataFrames v1.7.1\u001b[39m\n",
      "\u001b[33m⌅\u001b[39m \u001b[90m[864edb3b] \u001b[39m\u001b[92m+ DataStructures v0.18.22\u001b[39m\n",
      "  \u001b[90m[31c24e10] \u001b[39m\u001b[92m+ Distributions v0.25.120\u001b[39m\n",
      "  \u001b[90m[5789e2e9] \u001b[39m\u001b[92m+ FileIO v1.17.0\u001b[39m\n",
      "\u001b[32m⌃\u001b[39m \u001b[90m[033835bb] \u001b[39m\u001b[92m+ JLD2 v0.5.15\u001b[39m\n",
      "  \u001b[90m[91a5bcdd] \u001b[39m\u001b[92m+ Plots v1.40.19\u001b[39m\n",
      "\u001b[33m⌅\u001b[39m \u001b[90m[08abe8d2] \u001b[39m\u001b[92m+ PrettyTables v2.4.0\u001b[39m\n",
      "  \u001b[90m[10745b16] \u001b[39m\u001b[92m+ Statistics v1.11.1\u001b[39m\n",
      "  \u001b[90m[2913bbd2] \u001b[39m\u001b[92m+ StatsBase v0.34.6\u001b[39m\n",
      "  \u001b[90m[f3b207a7] \u001b[39m\u001b[92m+ StatsPlots v0.15.7\u001b[39m\n",
      "  \u001b[90m[4119e0bf] \u001b[39m\u001b[92m+ VLQuantitativeFinancePackage v1.0.0-DEV `https://github.com/varnerlab/VLQuantitativeFinancePackage.jl.git#main`\u001b[39m\n",
      "  \u001b[90m[ade2ca70] \u001b[39m\u001b[93m~ Dates ⇒ v1.11.0\u001b[39m\n",
      "  \u001b[90m[37e2e46d] \u001b[39m\u001b[93m~ LinearAlgebra ⇒ v1.11.0\u001b[39m\n",
      "  \u001b[90m[8dfed614] \u001b[39m\u001b[93m~ Test ⇒ v1.11.0\u001b[39m\n",
      "\u001b[32m\u001b[1m    Updating\u001b[22m\u001b[39m `~/Documents/PS1-CHEME-5660-CIR-TEMPLATE-Fall-2025/Manifest.toml`\n",
      "  \u001b[90m[47edcb42] \u001b[39m\u001b[92m+ ADTypes v1.17.0\u001b[39m\n",
      "  \u001b[90m[621f4979] \u001b[39m\u001b[92m+ AbstractFFTs v1.5.0\u001b[39m\n",
      "  \u001b[90m[79e6a3ab] \u001b[39m\u001b[92m+ Adapt v4.3.0\u001b[39m\n",
      "  \u001b[90m[66dad0bd] \u001b[39m\u001b[92m+ AliasTables v1.1.3\u001b[39m\n",
      "  \u001b[90m[7d9fca2a] \u001b[39m\u001b[92m+ Arpack v0.5.4\u001b[39m\n",
      "  \u001b[90m[4fba245c] \u001b[39m\u001b[92m+ ArrayInterface v7.20.0\u001b[39m\n",
      "  \u001b[90m[13072b0f] \u001b[39m\u001b[92m+ AxisAlgorithms v1.1.0\u001b[39m\n",
      "  \u001b[90m[6e4b80f9] \u001b[39m\u001b[92m+ BenchmarkTools v1.6.0\u001b[39m\n",
      "  \u001b[90m[d1d4a3ce] \u001b[39m\u001b[92m+ BitFlags v0.1.9\u001b[39m\n",
      "  \u001b[90m[336ed68f] \u001b[39m\u001b[92m+ CSV v0.10.15\u001b[39m\n",
      "  \u001b[90m[d360d2e6] \u001b[39m\u001b[92m+ ChainRulesCore v1.26.0\u001b[39m\n",
      "  \u001b[90m[aaaa29a8] \u001b[39m\u001b[92m+ Clustering v0.15.8\u001b[39m\n",
      "  \u001b[90m[523fee87] \u001b[39m\u001b[92m+ CodecBzip2 v0.8.5\u001b[39m\n",
      "  \u001b[90m[944b1d66] \u001b[39m\u001b[92m+ CodecZlib v0.7.8\u001b[39m\n",
      "  \u001b[90m[35d6a980] \u001b[39m\u001b[92m+ ColorSchemes v3.30.0\u001b[39m\n",
      "  \u001b[90m[3da002f7] \u001b[39m\u001b[92m+ ColorTypes v0.12.1\u001b[39m\n",
      "  \u001b[90m[c3611d14] \u001b[39m\u001b[92m+ ColorVectorSpace v0.11.0\u001b[39m\n",
      "  \u001b[90m[5ae59095] \u001b[39m\u001b[92m+ Colors v0.13.1\u001b[39m\n",
      "  \u001b[90m[bbf7d656] \u001b[39m\u001b[92m+ CommonSubexpressions v0.3.1\u001b[39m\n",
      "  \u001b[90m[34da2185] \u001b[39m\u001b[92m+ Compat v4.18.0\u001b[39m\n",
      "  \u001b[90m[f0e56b4a] \u001b[39m\u001b[92m+ ConcurrentUtilities v2.5.0\u001b[39m\n",
      "  \u001b[90m[187b0558] \u001b[39m\u001b[92m+ ConstructionBase v1.6.0\u001b[39m\n",
      "  \u001b[90m[d38c429a] \u001b[39m\u001b[92m+ Contour v0.6.3\u001b[39m\n",
      "  \u001b[90m[a8cc5b0e] \u001b[39m\u001b[92m+ Crayons v4.1.1\u001b[39m\n",
      "  \u001b[90m[9a962f9c] \u001b[39m\u001b[92m+ DataAPI v1.16.0\u001b[39m\n",
      "  \u001b[90m[a93c6f00] \u001b[39m\u001b[92m+ DataFrames v1.7.1\u001b[39m\n",
      "\u001b[33m⌅\u001b[39m \u001b[90m[864edb3b] \u001b[39m\u001b[92m+ DataStructures v0.18.22\u001b[39m\n",
      "  \u001b[90m[e2d170a0] \u001b[39m\u001b[92m+ DataValueInterfaces v1.0.0\u001b[39m\n",
      "  \u001b[90m[8bb1440f] \u001b[39m\u001b[92m+ DelimitedFiles v1.9.1\u001b[39m\n",
      "  \u001b[90m[163ba53b] \u001b[39m\u001b[92m+ DiffResults v1.1.0\u001b[39m\n",
      "  \u001b[90m[b552c78f] \u001b[39m\u001b[92m+ DiffRules v1.15.1\u001b[39m\n",
      "  \u001b[90m[a0c0ee7d] \u001b[39m\u001b[92m+ DifferentiationInterface v0.7.7\u001b[39m\n",
      "  \u001b[90m[b4f34e82] \u001b[39m\u001b[92m+ Distances v0.10.12\u001b[39m\n",
      "  \u001b[90m[31c24e10] \u001b[39m\u001b[92m+ Distributions v0.25.120\u001b[39m\n",
      "  \u001b[90m[ffbed154] \u001b[39m\u001b[92m+ DocStringExtensions v0.9.5\u001b[39m\n",
      "  \u001b[90m[4e289a0a] \u001b[39m\u001b[92m+ EnumX v1.0.5\u001b[39m\n",
      "  \u001b[90m[460bff9d] \u001b[39m\u001b[92m+ ExceptionUnwrapping v0.1.11\u001b[39m\n",
      "  \u001b[90m[e2ba6199] \u001b[39m\u001b[92m+ ExprTools v0.1.10\u001b[39m\n",
      "  \u001b[90m[c87230d0] \u001b[39m\u001b[92m+ FFMPEG v0.4.4\u001b[39m\n",
      "  \u001b[90m[7a1cc6ca] \u001b[39m\u001b[92m+ FFTW v1.9.0\u001b[39m\n",
      "  \u001b[90m[9aa1b823] \u001b[39m\u001b[92m+ FastClosures v0.3.2\u001b[39m\n",
      "  \u001b[90m[5789e2e9] \u001b[39m\u001b[92m+ FileIO v1.17.0\u001b[39m\n",
      "  \u001b[90m[48062228] \u001b[39m\u001b[92m+ FilePathsBase v0.9.24\u001b[39m\n",
      "  \u001b[90m[1a297f60] \u001b[39m\u001b[92m+ FillArrays v1.13.0\u001b[39m\n",
      "  \u001b[90m[6a86dc24] \u001b[39m\u001b[92m+ FiniteDiff v2.28.1\u001b[39m\n",
      "  \u001b[90m[53c48c17] \u001b[39m\u001b[92m+ FixedPointNumbers v0.8.5\u001b[39m\n",
      "  \u001b[90m[1fa38f19] \u001b[39m\u001b[92m+ Format v1.3.7\u001b[39m\n",
      "  \u001b[90m[f6369f11] \u001b[39m\u001b[92m+ ForwardDiff v1.1.0\u001b[39m\n",
      "  \u001b[90m[28b8d3ca] \u001b[39m\u001b[92m+ GR v0.73.17\u001b[39m\n",
      "  \u001b[90m[42e2da0e] \u001b[39m\u001b[92m+ Grisu v1.0.2\u001b[39m\n",
      "  \u001b[90m[cd3eb016] \u001b[39m\u001b[92m+ HTTP v1.10.17\u001b[39m\n",
      "  \u001b[90m[076d061b] \u001b[39m\u001b[92m+ HashArrayMappedTries v0.2.0\u001b[39m\n",
      "  \u001b[90m[34004b35] \u001b[39m\u001b[92m+ HypergeometricFunctions v0.3.28\u001b[39m\n",
      "  \u001b[90m[842dd82b] \u001b[39m\u001b[92m+ InlineStrings v1.4.5\u001b[39m\n",
      "\u001b[33m⌅\u001b[39m \u001b[90m[a98d9a8b] \u001b[39m\u001b[92m+ Interpolations v0.15.1\u001b[39m\n",
      "  \u001b[90m[41ab1584] \u001b[39m\u001b[92m+ InvertedIndices v1.3.1\u001b[39m\n",
      "  \u001b[90m[92d709cd] \u001b[39m\u001b[92m+ IrrationalConstants v0.2.4\u001b[39m\n",
      "  \u001b[90m[82899510] \u001b[39m\u001b[92m+ IteratorInterfaceExtensions v1.0.0\u001b[39m\n",
      "\u001b[32m⌃\u001b[39m \u001b[90m[033835bb] \u001b[39m\u001b[92m+ JLD2 v0.5.15\u001b[39m\n",
      "  \u001b[90m[1019f520] \u001b[39m\u001b[92m+ JLFzf v0.1.11\u001b[39m\n",
      "  \u001b[90m[692b3bcd] \u001b[39m\u001b[92m+ JLLWrappers v1.7.1\u001b[39m\n",
      "  \u001b[90m[682c06a0] \u001b[39m\u001b[92m+ JSON v0.21.4\u001b[39m\n",
      "  \u001b[90m[0f8b85d8] \u001b[39m\u001b[92m+ JSON3 v1.14.3\u001b[39m\n",
      "  \u001b[90m[4076af6c] \u001b[39m\u001b[92m+ JuMP v1.29.0\u001b[39m\n",
      "  \u001b[90m[5ab0869b] \u001b[39m\u001b[92m+ KernelDensity v0.6.10\u001b[39m\n",
      "  \u001b[90m[b964fa9f] \u001b[39m\u001b[92m+ LaTeXStrings v1.4.0\u001b[39m\n",
      "  \u001b[90m[23fbe1c1] \u001b[39m\u001b[92m+ Latexify v0.16.10\u001b[39m\n",
      "  \u001b[90m[d3d80556] \u001b[39m\u001b[92m+ LineSearches v7.4.0\u001b[39m\n",
      "  \u001b[90m[5c8ed15e] \u001b[39m\u001b[92m+ LinearOperators v2.11.0\u001b[39m\n",
      "  \u001b[90m[2ab3a3ac] \u001b[39m\u001b[92m+ LogExpFunctions v0.3.29\u001b[39m\n",
      "  \u001b[90m[e6f89c97] \u001b[39m\u001b[92m+ LoggingExtras v1.1.0\u001b[39m\n",
      "  \u001b[90m[2fda8390] \u001b[39m\u001b[92m+ LsqFit v0.15.1\u001b[39m\n",
      "  \u001b[90m[1914dd2f] \u001b[39m\u001b[92m+ MacroTools v0.5.16\u001b[39m\n",
      "\u001b[32m⌃\u001b[39m \u001b[90m[2621e9c9] \u001b[39m\u001b[92m+ MadNLP v0.7.0\u001b[39m\n",
      "  \u001b[90m[b8f27783] \u001b[39m\u001b[92m+ MathOptInterface v1.44.0\u001b[39m\n",
      "  \u001b[90m[739be429] \u001b[39m\u001b[92m+ MbedTLS v1.1.9\u001b[39m\n",
      "  \u001b[90m[442fdcdd] \u001b[39m\u001b[92m+ Measures v0.3.2\u001b[39m\n",
      "  \u001b[90m[e1d29d7a] \u001b[39m\u001b[92m+ Missings v1.2.0\u001b[39m\n",
      "  \u001b[90m[6f286f6a] \u001b[39m\u001b[92m+ MultivariateStats v0.10.3\u001b[39m\n",
      "  \u001b[90m[d8a4904e] \u001b[39m\u001b[92m+ MutableArithmetics v1.6.4\u001b[39m\n",
      "\u001b[33m⌅\u001b[39m \u001b[90m[a4795742] \u001b[39m\u001b[92m+ NLPModels v0.20.0\u001b[39m\n",
      "  \u001b[90m[d41bc354] \u001b[39m\u001b[92m+ NLSolversBase v7.10.0\u001b[39m\n",
      "  \u001b[90m[77ba4419] \u001b[39m\u001b[92m+ NaNMath v1.1.3\u001b[39m\n",
      "  \u001b[90m[b8a86587] \u001b[39m\u001b[92m+ NearestNeighbors v0.4.22\u001b[39m\n",
      "  \u001b[90m[510215fc] \u001b[39m\u001b[92m+ Observables v0.5.5\u001b[39m\n",
      "  \u001b[90m[6fe1bfb0] \u001b[39m\u001b[92m+ OffsetArrays v1.17.0\u001b[39m\n",
      "  \u001b[90m[4d8831e6] \u001b[39m\u001b[92m+ OpenSSL v1.5.0\u001b[39m\n",
      "  \u001b[90m[429524aa] \u001b[39m\u001b[92m+ Optim v1.13.2\u001b[39m\n",
      "  \u001b[90m[bac558e1] \u001b[39m\u001b[92m+ OrderedCollections v1.8.1\u001b[39m\n",
      "  \u001b[90m[90014a1f] \u001b[39m\u001b[92m+ PDMats v0.11.35\u001b[39m\n",
      "  \u001b[90m[d96e819e] \u001b[39m\u001b[92m+ Parameters v0.12.3\u001b[39m\n",
      "  \u001b[90m[69de0a69] \u001b[39m\u001b[92m+ Parsers v2.8.3\u001b[39m\n",
      "  \u001b[90m[ccf2f8ad] \u001b[39m\u001b[92m+ PlotThemes v3.3.0\u001b[39m\n",
      "  \u001b[90m[995b91a9] \u001b[39m\u001b[92m+ PlotUtils v1.4.3\u001b[39m\n",
      "  \u001b[90m[91a5bcdd] \u001b[39m\u001b[92m+ Plots v1.40.19\u001b[39m\n",
      "  \u001b[90m[2dfb63ee] \u001b[39m\u001b[92m+ PooledArrays v1.4.3\u001b[39m\n",
      "  \u001b[90m[85a6dd25] \u001b[39m\u001b[92m+ PositiveFactorizations v0.2.4\u001b[39m\n",
      "\u001b[33m⌅\u001b[39m \u001b[90m[aea7be01] \u001b[39m\u001b[92m+ PrecompileTools v1.2.1\u001b[39m\n",
      "  \u001b[90m[21216c6a] \u001b[39m\u001b[92m+ Preferences v1.5.0\u001b[39m\n",
      "\u001b[33m⌅\u001b[39m \u001b[90m[08abe8d2] \u001b[39m\u001b[92m+ PrettyTables v2.4.0\u001b[39m\n",
      "  \u001b[90m[43287f4e] \u001b[39m\u001b[92m+ PtrArrays v1.3.0\u001b[39m\n",
      "  \u001b[90m[1fd47b50] \u001b[39m\u001b[92m+ QuadGK v2.11.2\u001b[39m\n",
      "  \u001b[90m[c84ed2f1] \u001b[39m\u001b[92m+ Ratios v0.4.5\u001b[39m\n",
      "  \u001b[90m[3cdcf5f2] \u001b[39m\u001b[92m+ RecipesBase v1.3.4\u001b[39m\n",
      "  \u001b[90m[01d81517] \u001b[39m\u001b[92m+ RecipesPipeline v0.6.12\u001b[39m\n",
      "  \u001b[90m[189a3867] \u001b[39m\u001b[92m+ Reexport v1.2.2\u001b[39m\n",
      "  \u001b[90m[05181044] \u001b[39m\u001b[92m+ RelocatableFolders v1.0.1\u001b[39m\n",
      "  \u001b[90m[ae029012] \u001b[39m\u001b[92m+ Requires v1.3.1\u001b[39m\n",
      "  \u001b[90m[79098fc4] \u001b[39m\u001b[92m+ Rmath v0.8.0\u001b[39m\n",
      "  \u001b[90m[7e506255] \u001b[39m\u001b[92m+ ScopedValues v1.5.0\u001b[39m\n",
      "  \u001b[90m[6c6a2e73] \u001b[39m\u001b[92m+ Scratch v1.3.0\u001b[39m\n",
      "  \u001b[90m[91c51154] \u001b[39m\u001b[92m+ SentinelArrays v1.4.8\u001b[39m\n",
      "  \u001b[90m[efcf1570] \u001b[39m\u001b[92m+ Setfield v1.1.2\u001b[39m\n",
      "  \u001b[90m[992d4aef] \u001b[39m\u001b[92m+ Showoff v1.0.3\u001b[39m\n",
      "  \u001b[90m[777ac1f9] \u001b[39m\u001b[92m+ SimpleBufferStream v1.2.0\u001b[39m\n",
      "  \u001b[90m[ff4d7338] \u001b[39m\u001b[92m+ SolverCore v0.3.8\u001b[39m\n",
      "  \u001b[90m[a2af1166] \u001b[39m\u001b[92m+ SortingAlgorithms v1.2.2\u001b[39m\n",
      "  \u001b[90m[276daf66] \u001b[39m\u001b[92m+ SpecialFunctions v2.5.1\u001b[39m\n",
      "  \u001b[90m[860ef19b] \u001b[39m\u001b[92m+ StableRNGs v1.0.3\u001b[39m\n",
      "  \u001b[90m[90137ffa] \u001b[39m\u001b[92m+ StaticArrays v1.9.15\u001b[39m\n",
      "  \u001b[90m[1e83bf80] \u001b[39m\u001b[92m+ StaticArraysCore v1.4.3\u001b[39m\n",
      "  \u001b[90m[10745b16] \u001b[39m\u001b[92m+ Statistics v1.11.1\u001b[39m\n",
      "  \u001b[90m[82ae8749] \u001b[39m\u001b[92m+ StatsAPI v1.7.1\u001b[39m\n",
      "  \u001b[90m[2913bbd2] \u001b[39m\u001b[92m+ StatsBase v0.34.6\u001b[39m\n",
      "  \u001b[90m[4c63d2b9] \u001b[39m\u001b[92m+ StatsFuns v1.5.0\u001b[39m\n",
      "  \u001b[90m[f3b207a7] \u001b[39m\u001b[92m+ StatsPlots v0.15.7\u001b[39m\n",
      "  \u001b[90m[892a3eda] \u001b[39m\u001b[92m+ StringManipulation v0.4.1\u001b[39m\n",
      "  \u001b[90m[856f2bd8] \u001b[39m\u001b[92m+ StructTypes v1.11.0\u001b[39m\n",
      "  \u001b[90m[ab02a1b2] \u001b[39m\u001b[92m+ TableOperations v1.2.0\u001b[39m\n",
      "  \u001b[90m[3783bdb8] \u001b[39m\u001b[92m+ TableTraits v1.0.1\u001b[39m\n",
      "  \u001b[90m[bd369af6] \u001b[39m\u001b[92m+ Tables v1.12.1\u001b[39m\n",
      "  \u001b[90m[62fd8b95] \u001b[39m\u001b[92m+ TensorCore v0.1.1\u001b[39m\n",
      "  \u001b[90m[a759f4b9] \u001b[39m\u001b[92m+ TimerOutputs v0.5.29\u001b[39m\n",
      "  \u001b[90m[3bb67fe8] \u001b[39m\u001b[92m+ TranscodingStreams v0.11.3\u001b[39m\n",
      "  \u001b[90m[5c2747f8] \u001b[39m\u001b[92m+ URIs v1.6.1\u001b[39m\n",
      "  \u001b[90m[3a884ed6] \u001b[39m\u001b[92m+ UnPack v1.0.2\u001b[39m\n",
      "  \u001b[90m[1cfade01] \u001b[39m\u001b[92m+ UnicodeFun v0.4.1\u001b[39m\n",
      "  \u001b[90m[1986cc42] \u001b[39m\u001b[92m+ Unitful v1.24.0\u001b[39m\n",
      "  \u001b[90m[45397f5d] \u001b[39m\u001b[92m+ UnitfulLatexify v1.7.0\u001b[39m\n",
      "  \u001b[90m[41fe7b60] \u001b[39m\u001b[92m+ Unzip v0.2.0\u001b[39m\n",
      "  \u001b[90m[4119e0bf] \u001b[39m\u001b[92m+ VLQuantitativeFinancePackage v1.0.0-DEV `https://github.com/varnerlab/VLQuantitativeFinancePackage.jl.git#main`\u001b[39m\n",
      "  \u001b[90m[ea10d353] \u001b[39m\u001b[92m+ WeakRefStrings v1.4.2\u001b[39m\n",
      "  \u001b[90m[cc8bc4a8] \u001b[39m\u001b[92m+ Widgets v0.6.7\u001b[39m\n",
      "  \u001b[90m[efce3f68] \u001b[39m\u001b[92m+ WoodburyMatrices v1.0.0\u001b[39m\n",
      "  \u001b[90m[76eceee3] \u001b[39m\u001b[92m+ WorkerUtilities v1.6.1\u001b[39m\n",
      "\u001b[33m⌅\u001b[39m \u001b[90m[68821587] \u001b[39m\u001b[92m+ Arpack_jll v3.5.1+1\u001b[39m\n",
      "  \u001b[90m[6e34b625] \u001b[39m\u001b[92m+ Bzip2_jll v1.0.9+0\u001b[39m\n",
      "  \u001b[90m[83423d85] \u001b[39m\u001b[92m+ Cairo_jll v1.18.5+0\u001b[39m\n",
      "  \u001b[90m[ee1fde0b] \u001b[39m\u001b[92m+ Dbus_jll v1.16.2+0\u001b[39m\n",
      "  \u001b[90m[2702e6a9] \u001b[39m\u001b[92m+ EpollShim_jll v0.0.20230411+1\u001b[39m\n",
      "  \u001b[90m[2e619515] \u001b[39m\u001b[92m+ Expat_jll v2.7.1+0\u001b[39m\n",
      "  \u001b[90m[b22a6f82] \u001b[39m\u001b[92m+ FFMPEG_jll v7.1.1+0\u001b[39m\n",
      "  \u001b[90m[f5851436] \u001b[39m\u001b[92m+ FFTW_jll v3.3.11+0\u001b[39m\n",
      "  \u001b[90m[a3f928ae] \u001b[39m\u001b[92m+ Fontconfig_jll v2.17.1+0\u001b[39m\n",
      "  \u001b[90m[d7e528f0] \u001b[39m\u001b[92m+ FreeType2_jll v2.13.4+0\u001b[39m\n",
      "  \u001b[90m[559328eb] \u001b[39m\u001b[92m+ FriBidi_jll v1.0.17+0\u001b[39m\n",
      "  \u001b[90m[0656b61e] \u001b[39m\u001b[92m+ GLFW_jll v3.4.0+2\u001b[39m\n",
      "  \u001b[90m[d2c73de3] \u001b[39m\u001b[92m+ GR_jll v0.73.17+0\u001b[39m\n",
      "  \u001b[90m[b0724c58] \u001b[39m\u001b[92m+ GettextRuntime_jll v0.22.4+0\u001b[39m\n",
      "  \u001b[90m[61579ee1] \u001b[39m\u001b[92m+ Ghostscript_jll v9.55.1+0\u001b[39m\n",
      "  \u001b[90m[7746bdde] \u001b[39m\u001b[92m+ Glib_jll v2.84.3+0\u001b[39m\n",
      "  \u001b[90m[3b182d85] \u001b[39m\u001b[92m+ Graphite2_jll v1.3.15+0\u001b[39m\n",
      "  \u001b[90m[2e76f6c2] \u001b[39m\u001b[92m+ HarfBuzz_jll v8.5.1+0\u001b[39m\n",
      "  \u001b[90m[1d5cc7b8] \u001b[39m\u001b[92m+ IntelOpenMP_jll v2025.2.0+0\u001b[39m\n",
      "  \u001b[90m[aacddb02] \u001b[39m\u001b[92m+ JpegTurbo_jll v3.1.3+0\u001b[39m\n",
      "  \u001b[90m[c1c5ebd0] \u001b[39m\u001b[92m+ LAME_jll v3.100.3+0\u001b[39m\n",
      "  \u001b[90m[88015f11] \u001b[39m\u001b[92m+ LERC_jll v4.0.1+0\u001b[39m\n",
      "  \u001b[90m[1d63c593] \u001b[39m\u001b[92m+ LLVMOpenMP_jll v18.1.8+0\u001b[39m\n",
      "  \u001b[90m[dd4b983a] \u001b[39m\u001b[92m+ LZO_jll v2.10.3+0\u001b[39m\n",
      "  \u001b[90m[e9f186c6] \u001b[39m\u001b[92m+ Libffi_jll v3.4.7+0\u001b[39m\n",
      "  \u001b[90m[7e76a0d4] \u001b[39m\u001b[92m+ Libglvnd_jll v1.7.1+1\u001b[39m\n",
      "  \u001b[90m[94ce4f54] \u001b[39m\u001b[92m+ Libiconv_jll v1.18.0+0\u001b[39m\n",
      "  \u001b[90m[4b2f31a3] \u001b[39m\u001b[92m+ Libmount_jll v2.41.1+0\u001b[39m\n",
      "  \u001b[90m[89763e89] \u001b[39m\u001b[92m+ Libtiff_jll v4.7.1+0\u001b[39m\n",
      "  \u001b[90m[38a345b3] \u001b[39m\u001b[92m+ Libuuid_jll v2.41.1+0\u001b[39m\n",
      "  \u001b[90m[856f044c] \u001b[39m\u001b[92m+ MKL_jll v2025.2.0+0\u001b[39m\n",
      "  \u001b[90m[e7412a2a] \u001b[39m\u001b[92m+ Ogg_jll v1.3.6+0\u001b[39m\n",
      "  \u001b[90m[458c3c95] \u001b[39m\u001b[92m+ OpenSSL_jll v3.5.2+0\u001b[39m\n",
      "  \u001b[90m[efe28fd5] \u001b[39m\u001b[92m+ OpenSpecFun_jll v0.5.6+0\u001b[39m\n",
      "  \u001b[90m[91d4177d] \u001b[39m\u001b[92m+ Opus_jll v1.5.2+0\u001b[39m\n",
      "  \u001b[90m[36c8627f] \u001b[39m\u001b[92m+ Pango_jll v1.56.3+0\u001b[39m\n",
      "\u001b[33m⌅\u001b[39m \u001b[90m[30392449] \u001b[39m\u001b[92m+ Pixman_jll v0.44.2+0\u001b[39m\n",
      "  \u001b[90m[c0090381] \u001b[39m\u001b[92m+ Qt6Base_jll v6.8.2+1\u001b[39m\n",
      "  \u001b[90m[629bc702] \u001b[39m\u001b[92m+ Qt6Declarative_jll v6.8.2+1\u001b[39m\n",
      "  \u001b[90m[ce943373] \u001b[39m\u001b[92m+ Qt6ShaderTools_jll v6.8.2+1\u001b[39m\n",
      "  \u001b[90m[e99dba38] \u001b[39m\u001b[92m+ Qt6Wayland_jll v6.8.2+1\u001b[39m\n",
      "  \u001b[90m[f50d1b31] \u001b[39m\u001b[92m+ Rmath_jll v0.5.1+0\u001b[39m\n",
      "  \u001b[90m[a44049a8] \u001b[39m\u001b[92m+ Vulkan_Loader_jll v1.3.243+0\u001b[39m\n",
      "  \u001b[90m[a2964d1f] \u001b[39m\u001b[92m+ Wayland_jll v1.24.0+0\u001b[39m\n",
      "  \u001b[90m[ffd25f8a] \u001b[39m\u001b[92m+ XZ_jll v5.8.1+0\u001b[39m\n",
      "  \u001b[90m[f67eecfb] \u001b[39m\u001b[92m+ Xorg_libICE_jll v1.1.2+0\u001b[39m\n",
      "  \u001b[90m[c834827a] \u001b[39m\u001b[92m+ Xorg_libSM_jll v1.2.6+0\u001b[39m\n",
      "  \u001b[90m[4f6342f7] \u001b[39m\u001b[92m+ Xorg_libX11_jll v1.8.12+0\u001b[39m\n",
      "  \u001b[90m[0c0b7dd1] \u001b[39m\u001b[92m+ Xorg_libXau_jll v1.0.13+0\u001b[39m\n",
      "  \u001b[90m[935fb764] \u001b[39m\u001b[92m+ Xorg_libXcursor_jll v1.2.4+0\u001b[39m\n",
      "  \u001b[90m[a3789734] \u001b[39m\u001b[92m+ Xorg_libXdmcp_jll v1.1.6+0\u001b[39m\n",
      "  \u001b[90m[1082639a] \u001b[39m\u001b[92m+ Xorg_libXext_jll v1.3.7+0\u001b[39m\n",
      "  \u001b[90m[d091e8ba] \u001b[39m\u001b[92m+ Xorg_libXfixes_jll v6.0.1+0\u001b[39m\n",
      "  \u001b[90m[a51aa0fd] \u001b[39m\u001b[92m+ Xorg_libXi_jll v1.8.3+0\u001b[39m\n",
      "  \u001b[90m[d1454406] \u001b[39m\u001b[92m+ Xorg_libXinerama_jll v1.1.6+0\u001b[39m\n",
      "  \u001b[90m[ec84b674] \u001b[39m\u001b[92m+ Xorg_libXrandr_jll v1.5.5+0\u001b[39m\n",
      "  \u001b[90m[ea2f1a96] \u001b[39m\u001b[92m+ Xorg_libXrender_jll v0.9.12+0\u001b[39m\n",
      "  \u001b[90m[c7cfdc94] \u001b[39m\u001b[92m+ Xorg_libxcb_jll v1.17.1+0\u001b[39m\n",
      "  \u001b[90m[cc61e674] \u001b[39m\u001b[92m+ Xorg_libxkbfile_jll v1.1.3+0\u001b[39m\n",
      "  \u001b[90m[e920d4aa] \u001b[39m\u001b[92m+ Xorg_xcb_util_cursor_jll v0.1.5+0\u001b[39m\n",
      "  \u001b[90m[12413925] \u001b[39m\u001b[92m+ Xorg_xcb_util_image_jll v0.4.1+0\u001b[39m\n",
      "  \u001b[90m[2def613f] \u001b[39m\u001b[92m+ Xorg_xcb_util_jll v0.4.1+0\u001b[39m\n",
      "  \u001b[90m[975044d2] \u001b[39m\u001b[92m+ Xorg_xcb_util_keysyms_jll v0.4.1+0\u001b[39m\n",
      "  \u001b[90m[0d47668e] \u001b[39m\u001b[92m+ Xorg_xcb_util_renderutil_jll v0.3.10+0\u001b[39m\n",
      "  \u001b[90m[c22f9ab0] \u001b[39m\u001b[92m+ Xorg_xcb_util_wm_jll v0.4.2+0\u001b[39m\n",
      "  \u001b[90m[35661453] \u001b[39m\u001b[92m+ Xorg_xkbcomp_jll v1.4.7+0\u001b[39m\n",
      "  \u001b[90m[33bec58e] \u001b[39m\u001b[92m+ Xorg_xkeyboard_config_jll v2.44.0+0\u001b[39m\n",
      "  \u001b[90m[c5fb5394] \u001b[39m\u001b[92m+ Xorg_xtrans_jll v1.6.0+0\u001b[39m\n",
      "  \u001b[90m[3161d3a3] \u001b[39m\u001b[92m+ Zstd_jll v1.5.7+1\u001b[39m\n",
      "  \u001b[90m[35ca27e7] \u001b[39m\u001b[92m+ eudev_jll v3.2.14+0\u001b[39m\n",
      "  \u001b[90m[214eeab7] \u001b[39m\u001b[92m+ fzf_jll v0.61.1+0\u001b[39m\n",
      "  \u001b[90m[a4ae2306] \u001b[39m\u001b[92m+ libaom_jll v3.12.1+0\u001b[39m\n",
      "  \u001b[90m[0ac62f75] \u001b[39m\u001b[92m+ libass_jll v0.17.4+0\u001b[39m\n",
      "  \u001b[90m[1183f4f0] \u001b[39m\u001b[92m+ libdecor_jll v0.2.2+0\u001b[39m\n",
      "  \u001b[90m[2db6ffa8] \u001b[39m\u001b[92m+ libevdev_jll v1.13.4+0\u001b[39m\n",
      "  \u001b[90m[f638f0a6] \u001b[39m\u001b[92m+ libfdk_aac_jll v2.0.4+0\u001b[39m\n",
      "  \u001b[90m[36db933b] \u001b[39m\u001b[92m+ libinput_jll v1.28.1+0\u001b[39m\n",
      "  \u001b[90m[b53b4c65] \u001b[39m\u001b[92m+ libpng_jll v1.6.50+0\u001b[39m\n",
      "  \u001b[90m[f27f6e37] \u001b[39m\u001b[92m+ libvorbis_jll v1.3.8+0\u001b[39m\n",
      "  \u001b[90m[009596ad] \u001b[39m\u001b[92m+ mtdev_jll v1.1.7+0\u001b[39m\n",
      "  \u001b[90m[1317d2d5] \u001b[39m\u001b[92m+ oneTBB_jll v2022.0.0+0\u001b[39m\n",
      "  \u001b[90m[1270edf5] \u001b[39m\u001b[92m+ x264_jll v10164.0.1+0\u001b[39m\n",
      "  \u001b[90m[dfaa095f] \u001b[39m\u001b[92m+ x265_jll v4.1.0+0\u001b[39m\n",
      "  \u001b[90m[d8fb68d0] \u001b[39m\u001b[92m+ xkbcommon_jll v1.9.2+0\u001b[39m\n",
      "  \u001b[90m[0dad84c5] \u001b[39m\u001b[92m+ ArgTools v1.1.2\u001b[39m\n",
      "  \u001b[90m[56f22d72] \u001b[39m\u001b[92m+ Artifacts v1.11.0\u001b[39m\n",
      "  \u001b[90m[2a0f44e3] \u001b[39m\u001b[92m+ Base64 v1.11.0\u001b[39m\n",
      "  \u001b[90m[ade2ca70] \u001b[39m\u001b[92m+ Dates v1.11.0\u001b[39m\n",
      "  \u001b[90m[8ba89e20] \u001b[39m\u001b[92m+ Distributed v1.11.0\u001b[39m\n",
      "  \u001b[90m[f43a241f] \u001b[39m\u001b[92m+ Downloads v1.6.0\u001b[39m\n",
      "  \u001b[90m[7b1f6079] \u001b[39m\u001b[92m+ FileWatching v1.11.0\u001b[39m\n",
      "  \u001b[90m[9fa8497b] \u001b[39m\u001b[92m+ Future v1.11.0\u001b[39m\n",
      "  \u001b[90m[b77e0a4c] \u001b[39m\u001b[92m+ InteractiveUtils v1.11.0\u001b[39m\n",
      "  \u001b[90m[4af54fe1] \u001b[39m\u001b[92m+ LazyArtifacts v1.11.0\u001b[39m\n",
      "  \u001b[90m[b27032c2] \u001b[39m\u001b[92m+ LibCURL v0.6.4\u001b[39m\n",
      "  \u001b[90m[76f85450] \u001b[39m\u001b[92m+ LibGit2 v1.11.0\u001b[39m\n",
      "  \u001b[90m[8f399da3] \u001b[39m\u001b[92m+ Libdl v1.11.0\u001b[39m\n",
      "  \u001b[90m[37e2e46d] \u001b[39m\u001b[92m+ LinearAlgebra v1.11.0\u001b[39m\n",
      "  \u001b[90m[56ddb016] \u001b[39m\u001b[92m+ Logging v1.11.0\u001b[39m\n",
      "  \u001b[90m[d6f4376e] \u001b[39m\u001b[92m+ Markdown v1.11.0\u001b[39m\n",
      "  \u001b[90m[a63ad114] \u001b[39m\u001b[92m+ Mmap v1.11.0\u001b[39m\n",
      "  \u001b[90m[ca575930] \u001b[39m\u001b[92m+ NetworkOptions v1.2.0\u001b[39m\n",
      "  \u001b[90m[44cfe95a] \u001b[39m\u001b[92m+ Pkg v1.11.0\u001b[39m\n",
      "  \u001b[90m[de0858da] \u001b[39m\u001b[92m+ Printf v1.11.0\u001b[39m\n",
      "  \u001b[90m[9abbd945] \u001b[39m\u001b[92m+ Profile v1.11.0\u001b[39m\n",
      "  \u001b[90m[3fa0cd96] \u001b[39m\u001b[92m+ REPL v1.11.0\u001b[39m\n",
      "  \u001b[90m[9a3f8284] \u001b[39m\u001b[92m+ Random v1.11.0\u001b[39m\n",
      "  \u001b[90m[ea8e919c] \u001b[39m\u001b[92m+ SHA v0.7.0\u001b[39m\n",
      "  \u001b[90m[9e88b42a] \u001b[39m\u001b[92m+ Serialization v1.11.0\u001b[39m\n",
      "  \u001b[90m[1a1011a3] \u001b[39m\u001b[92m+ SharedArrays v1.11.0\u001b[39m\n",
      "  \u001b[90m[6462fe0b] \u001b[39m\u001b[92m+ Sockets v1.11.0\u001b[39m\n",
      "  \u001b[90m[2f01184e] \u001b[39m\u001b[92m+ SparseArrays v1.11.0\u001b[39m\n",
      "  \u001b[90m[f489334b] \u001b[39m\u001b[92m+ StyledStrings v1.11.0\u001b[39m\n",
      "  \u001b[90m[4607b0f0] \u001b[39m\u001b[92m+ SuiteSparse\u001b[39m\n",
      "  \u001b[90m[fa267f1f] \u001b[39m\u001b[92m+ TOML v1.0.3\u001b[39m\n",
      "  \u001b[90m[a4e569a6] \u001b[39m\u001b[92m+ Tar v1.10.0\u001b[39m\n",
      "  \u001b[90m[8dfed614] \u001b[39m\u001b[92m+ Test v1.11.0\u001b[39m\n",
      "  \u001b[90m[cf7118a7] \u001b[39m\u001b[92m+ UUIDs v1.11.0\u001b[39m\n",
      "  \u001b[90m[4ec0a83e] \u001b[39m\u001b[92m+ Unicode v1.11.0\u001b[39m\n",
      "  \u001b[90m[e66e0078] \u001b[39m\u001b[92m+ CompilerSupportLibraries_jll v1.1.1+0\u001b[39m\n",
      "  \u001b[90m[deac9b47] \u001b[39m\u001b[92m+ LibCURL_jll v8.6.0+0\u001b[39m\n",
      "  \u001b[90m[e37daf67] \u001b[39m\u001b[92m+ LibGit2_jll v1.7.2+0\u001b[39m\n",
      "  \u001b[90m[29816b5a] \u001b[39m\u001b[92m+ LibSSH2_jll v1.11.0+1\u001b[39m\n",
      "  \u001b[90m[c8ffd9c3] \u001b[39m\u001b[92m+ MbedTLS_jll v2.28.6+0\u001b[39m\n",
      "  \u001b[90m[14a3606d] \u001b[39m\u001b[92m+ MozillaCACerts_jll v2023.12.12\u001b[39m\n",
      "  \u001b[90m[4536629a] \u001b[39m\u001b[92m+ OpenBLAS_jll v0.3.27+1\u001b[39m\n",
      "  \u001b[90m[05823500] \u001b[39m\u001b[92m+ OpenLibm_jll v0.8.5+0\u001b[39m\n",
      "  \u001b[90m[efcefdf7] \u001b[39m\u001b[92m+ PCRE2_jll v10.42.0+1\u001b[39m\n",
      "  \u001b[90m[bea87d4a] \u001b[39m\u001b[92m+ SuiteSparse_jll v7.7.0+0\u001b[39m\n",
      "  \u001b[90m[83775a58] \u001b[39m\u001b[92m+ Zlib_jll v1.2.13+1\u001b[39m\n",
      "  \u001b[90m[8e850b90] \u001b[39m\u001b[92m+ libblastrampoline_jll v5.11.0+0\u001b[39m\n",
      "  \u001b[90m[8e850ede] \u001b[39m\u001b[92m+ nghttp2_jll v1.59.0+0\u001b[39m\n",
      "  \u001b[90m[3f19e933] \u001b[39m\u001b[92m+ p7zip_jll v17.4.0+2\u001b[39m\n",
      "\u001b[36m\u001b[1m        Info\u001b[22m\u001b[39m Packages marked with \u001b[32m⌃\u001b[39m and \u001b[33m⌅\u001b[39m have new versions available. Those with \u001b[32m⌃\u001b[39m may be upgradable, but those with \u001b[33m⌅\u001b[39m are restricted by compatibility constraints from upgrading. To see why use `status --outdated -m`\n",
      "\u001b[92m\u001b[1mPrecompiling\u001b[22m\u001b[39m project...\n",
      "   1118.8 ms\u001b[32m  ✓ \u001b[39m\u001b[90mEnumX\u001b[39m\n",
      "   1126.5 ms\u001b[32m  ✓ \u001b[39m\u001b[90mFastClosures\u001b[39m\n",
      "   1133.1 ms\u001b[32m  ✓ \u001b[39m\u001b[90mExprTools\u001b[39m\n",
      "   1420.0 ms\u001b[32m  ✓ \u001b[39m\u001b[90mPositiveFactorizations\u001b[39m\n",
      "   1365.4 ms\u001b[32m  ✓ \u001b[39m\u001b[90mADTypes\u001b[39m\n",
      "    956.9 ms\u001b[32m  ✓ \u001b[39m\u001b[90mDiffResults\u001b[39m\n",
      "   1092.6 ms\u001b[32m  ✓ \u001b[39m\u001b[90mCommonSubexpressions\u001b[39m\n",
      "   1606.7 ms\u001b[32m  ✓ \u001b[39m\u001b[90mFiniteDiff\u001b[39m\n",
      "   1886.4 ms\u001b[32m  ✓ \u001b[39m\u001b[90mStructTypes\u001b[39m\n",
      "   1021.5 ms\u001b[32m  ✓ \u001b[39m\u001b[90mCodecBzip2\u001b[39m\n",
      "   1162.9 ms\u001b[32m  ✓ \u001b[39m\u001b[90mTableOperations\u001b[39m\n",
      "   1276.6 ms\u001b[32m  ✓ \u001b[39m\u001b[90mDiffRules\u001b[39m\n",
      "   4599.1 ms\u001b[32m  ✓ \u001b[39m\u001b[90mMultivariateStats\u001b[39m\n",
      "   4892.3 ms\u001b[32m  ✓ \u001b[39m\u001b[90mInterpolations\u001b[39m\n",
      "   1815.9 ms\u001b[32m  ✓ \u001b[39m\u001b[90mADTypes → ADTypesChainRulesCoreExt\u001b[39m\n",
      "   1119.0 ms\u001b[32m  ✓ \u001b[39m\u001b[90mADTypes → ADTypesConstructionBaseExt\u001b[39m\n",
      "   3819.7 ms\u001b[32m  ✓ \u001b[39m\u001b[90mDifferentiationInterface\u001b[39m\n",
      "   8235.1 ms\u001b[32m  ✓ \u001b[39m\u001b[90mTimerOutputs\u001b[39m\n",
      "   1957.6 ms\u001b[32m  ✓ \u001b[39m\u001b[90mFiniteDiff → FiniteDiffSparseArraysExt\u001b[39m\n",
      "   1975.9 ms\u001b[32m  ✓ \u001b[39m\u001b[90mFiniteDiff → FiniteDiffStaticArraysExt\u001b[39m\n",
      "  13388.4 ms\u001b[32m  ✓ \u001b[39m\u001b[90mMutableArithmetics\u001b[39m\n",
      "   3332.9 ms\u001b[32m  ✓ \u001b[39m\u001b[90mInterpolations → InterpolationsUnitfulExt\u001b[39m\n",
      "   3732.2 ms\u001b[32m  ✓ \u001b[39m\u001b[90mKernelDensity\u001b[39m\n",
      "   2092.4 ms\u001b[32m  ✓ \u001b[39m\u001b[90mDifferentiationInterface → DifferentiationInterfaceStaticArraysExt\u001b[39m\n",
      "   1003.2 ms\u001b[32m  ✓ \u001b[39m\u001b[90mDifferentiationInterface → DifferentiationInterfaceFiniteDiffExt\u001b[39m\n",
      "    901.0 ms\u001b[32m  ✓ \u001b[39m\u001b[90mDifferentiationInterface → DifferentiationInterfaceChainRulesCoreExt\u001b[39m\n",
      "   1282.9 ms\u001b[32m  ✓ \u001b[39m\u001b[90mDifferentiationInterface → DifferentiationInterfaceSparseArraysExt\u001b[39m\n",
      "  10015.8 ms\u001b[32m  ✓ \u001b[39m\u001b[90mForwardDiff\u001b[39m\n",
      "   4897.1 ms\u001b[32m  ✓ \u001b[39m\u001b[90mLinearOperators\u001b[39m\n",
      "   2675.6 ms\u001b[32m  ✓ \u001b[39m\u001b[90mForwardDiff → ForwardDiffStaticArraysExt\u001b[39m\n",
      "   1600.9 ms\u001b[32m  ✓ \u001b[39m\u001b[90mUnitful → ForwardDiffExt\u001b[39m\n",
      "   1601.2 ms\u001b[32m  ✓ \u001b[39m\u001b[90mDifferentiationInterface → DifferentiationInterfaceForwardDiffExt\u001b[39m\n",
      "   1913.5 ms\u001b[32m  ✓ \u001b[39m\u001b[90mLinearOperators → LinearOperatorsChainRulesCoreExt\u001b[39m\n",
      "  17685.2 ms\u001b[32m  ✓ \u001b[39m\u001b[90mJSON3\u001b[39m\n",
      "   3229.5 ms\u001b[32m  ✓ \u001b[39m\u001b[90mNLPModels\u001b[39m\n",
      "   3242.9 ms\u001b[32m  ✓ \u001b[39m\u001b[90mNLSolversBase\u001b[39m\n",
      "   3239.8 ms\u001b[32m  ✓ \u001b[39m\u001b[90mSolverCore\u001b[39m\n",
      "   4792.7 ms\u001b[32m  ✓ \u001b[39m\u001b[90mLineSearches\u001b[39m\n",
      "  17137.8 ms\u001b[32m  ✓ \u001b[39mStatsPlots\n",
      "   4199.1 ms\u001b[32m  ✓ \u001b[39m\u001b[90mLsqFit\u001b[39m\n",
      "   6574.6 ms\u001b[32m  ✓ \u001b[39m\u001b[90mOptim\u001b[39m\n",
      "  63794.2 ms\u001b[32m  ✓ \u001b[39mJLD2\n",
      "   2608.4 ms\u001b[32m  ✓ \u001b[39mJLD2 → UnPackExt\n",
      "  68102.1 ms\u001b[32m  ✓ \u001b[39m\u001b[90mMathOptInterface\u001b[39m\n",
      "   4947.5 ms\u001b[32m  ✓ \u001b[39m\u001b[90mOptim → OptimMOIExt\u001b[39m\n",
      "   8419.1 ms\u001b[32m  ✓ \u001b[39m\u001b[90mMadNLP\u001b[39m\n",
      "  29743.4 ms\u001b[32m  ✓ \u001b[39m\u001b[90mJuMP\u001b[39m\n",
      "   8623.7 ms\u001b[32m  ✓ \u001b[39mVLQuantitativeFinancePackage\n",
      "  48 dependencies successfully precompiled in 138 seconds. 275 already precompiled.\n",
      "\u001b[32m\u001b[1m  Activating\u001b[22m\u001b[39m project at `~/Documents/PS1-CHEME-5660-CIR-TEMPLATE-Fall-2025`\n",
      "\u001b[32m\u001b[1m  No Changes\u001b[22m\u001b[39m to `~/Documents/PS1-CHEME-5660-CIR-TEMPLATE-Fall-2025/Project.toml`\n",
      "\u001b[32m\u001b[1m  No Changes\u001b[22m\u001b[39m to `~/Documents/PS1-CHEME-5660-CIR-TEMPLATE-Fall-2025/Manifest.toml`\n",
      "\u001b[32m\u001b[1m    Updating\u001b[22m\u001b[39m registry at `~/.julia/registries/General.toml`\n",
      "\u001b[32m\u001b[1m    Updating\u001b[22m\u001b[39m git-repo `https://github.com/varnerlab/VLQuantitativeFinancePackage.jl.git`\n",
      "\u001b[32m\u001b[1m  No Changes\u001b[22m\u001b[39m to `~/Documents/PS1-CHEME-5660-CIR-TEMPLATE-Fall-2025/Project.toml`\n",
      "\u001b[32m\u001b[1m  No Changes\u001b[22m\u001b[39m to `~/Documents/PS1-CHEME-5660-CIR-TEMPLATE-Fall-2025/Manifest.toml`\n"
     ]
    }
   ],
   "source": [
    "include(joinpath(@__DIR__, \"Include.jl\")); # this sets up the environment, we'll do this all the time, on everything we do"
   ]
  },
  {
   "cell_type": "markdown",
   "id": "e5fe360d",
   "metadata": {},
   "source": [
    "For additional information on functions and types used in this material, see the [Julia programming language documentation](https://docs.julialang.org/en/v1/) and the [VLQuantitativeFinancePackage.jl documentation](https://github.com/varnerlab/VLQuantitativeFinancePackage.jl)."
   ]
  },
  {
   "cell_type": "markdown",
   "id": "de0a2e1b-295c-4514-a9f5-ace350f7ea2c",
   "metadata": {},
   "source": [
    "### Data\n",
    "We'll explore `T-bill,` `T-note,` and `T-bond` prices from United States Treasury auctions between March 2020 and September 2024, downloaded as a `CSV` file using the [Auction query functionality of TreasuryDirect.gov](https://www.treasurydirect.gov/auctions/auction-query/). We load the `CSV` dataset using the local [`MyTreasuryBillsNotesAndBondsDataSet()` function](src/Files.jl), which returns the auction data as [the `dataset::DataFrame`](https://dataframes.juliadata.org/stable/) variable."
   ]
  },
  {
   "cell_type": "code",
   "execution_count": 2,
   "id": "5279a66f-574d-4a93-8dc6-cec8c3ea10c3",
   "metadata": {},
   "outputs": [
    {
     "data": {
      "text/html": [
       "<div><div style = \"float: left;\"><span>1819×11 DataFrame</span></div><div style = \"float: right;\"><span style = \"font-style: italic;\">1794 rows omitted</span></div><div style = \"clear: both;\"></div></div><div class = \"data-frame\" style = \"overflow-x: scroll;\"><table class = \"data-frame\" style = \"margin-bottom: 6px;\"><thead><tr class = \"header\"><th class = \"rowNumber\" style = \"font-weight: bold; text-align: right;\">Row</th><th style = \"text-align: left;\">CUSIP</th><th style = \"text-align: left;\">Security Type</th><th style = \"text-align: left;\">Security Term</th><th style = \"text-align: left;\">Auction Date</th><th style = \"text-align: left;\">Issue Date</th><th style = \"text-align: left;\">Maturity Date</th><th style = \"text-align: left;\">Price</th><th style = \"text-align: left;\">Investment Rate</th><th style = \"text-align: left;\">High Yield</th><th style = \"text-align: left;\">Interest Payment Frequency</th><th style = \"text-align: left;\">Interest Rate</th></tr><tr class = \"subheader headerLastRow\"><th class = \"rowNumber\" style = \"font-weight: bold; text-align: right;\"></th><th title = \"String15\" style = \"text-align: left;\">String15</th><th title = \"String7\" style = \"text-align: left;\">String7</th><th title = \"String7\" style = \"text-align: left;\">String7</th><th title = \"String15\" style = \"text-align: left;\">String15</th><th title = \"String15\" style = \"text-align: left;\">String15</th><th title = \"String15\" style = \"text-align: left;\">String15</th><th title = \"Float64\" style = \"text-align: left;\">Float64</th><th title = \"Union{Missing, Float64}\" style = \"text-align: left;\">Float64?</th><th title = \"Union{Missing, Float64}\" style = \"text-align: left;\">Float64?</th><th title = \"String15\" style = \"text-align: left;\">String15</th><th title = \"Union{Missing, Float64}\" style = \"text-align: left;\">Float64?</th></tr></thead><tbody><tr><td class = \"rowNumber\" style = \"font-weight: bold; text-align: right;\">1</td><td style = \"text-align: left;\">912797LS4</td><td style = \"text-align: left;\">Bill</td><td style = \"text-align: left;\">4-Week</td><td style = \"text-align: left;\">09/05/2024</td><td style = \"text-align: left;\">09/10/2024</td><td style = \"text-align: left;\">10/08/2024</td><td style = \"text-align: right;\">99.6049</td><td style = \"text-align: right;\">0.05171</td><td style = \"font-style: italic; text-align: right;\">missing</td><td style = \"text-align: left;\">None</td><td style = \"font-style: italic; text-align: right;\">missing</td></tr><tr><td class = \"rowNumber\" style = \"font-weight: bold; text-align: right;\">2</td><td style = \"text-align: left;\">912797MA2</td><td style = \"text-align: left;\">Bill</td><td style = \"text-align: left;\">8-Week</td><td style = \"text-align: left;\">09/05/2024</td><td style = \"text-align: left;\">09/10/2024</td><td style = \"text-align: left;\">11/05/2024</td><td style = \"text-align: right;\">99.216</td><td style = \"text-align: right;\">0.0515</td><td style = \"font-style: italic; text-align: right;\">missing</td><td style = \"text-align: left;\">None</td><td style = \"font-style: italic; text-align: right;\">missing</td></tr><tr><td class = \"rowNumber\" style = \"font-weight: bold; text-align: right;\">3</td><td style = \"text-align: left;\">912797MW4</td><td style = \"text-align: left;\">Bill</td><td style = \"text-align: left;\">17-Week</td><td style = \"text-align: left;\">09/04/2024</td><td style = \"text-align: left;\">09/10/2024</td><td style = \"text-align: left;\">01/07/2025</td><td style = \"text-align: right;\">98.41</td><td style = \"text-align: right;\">0.04956</td><td style = \"font-style: italic; text-align: right;\">missing</td><td style = \"text-align: left;\">None</td><td style = \"font-style: italic; text-align: right;\">missing</td></tr><tr><td class = \"rowNumber\" style = \"font-weight: bold; text-align: right;\">4</td><td style = \"text-align: left;\">912797KU0</td><td style = \"text-align: left;\">Bill</td><td style = \"text-align: left;\">42-Day</td><td style = \"text-align: left;\">09/03/2024</td><td style = \"text-align: left;\">09/05/2024</td><td style = \"text-align: left;\">10/17/2024</td><td style = \"text-align: right;\">99.4027</td><td style = \"text-align: right;\">0.05222</td><td style = \"font-style: italic; text-align: right;\">missing</td><td style = \"text-align: left;\">None</td><td style = \"font-style: italic; text-align: right;\">missing</td></tr><tr><td class = \"rowNumber\" style = \"font-weight: bold; text-align: right;\">5</td><td style = \"text-align: left;\">912797LF2</td><td style = \"text-align: left;\">Bill</td><td style = \"text-align: left;\">13-Week</td><td style = \"text-align: left;\">09/03/2024</td><td style = \"text-align: left;\">09/05/2024</td><td style = \"text-align: left;\">12/05/2024</td><td style = \"text-align: right;\">98.7437</td><td style = \"text-align: right;\">0.05103</td><td style = \"font-style: italic; text-align: right;\">missing</td><td style = \"text-align: left;\">None</td><td style = \"font-style: italic; text-align: right;\">missing</td></tr><tr><td class = \"rowNumber\" style = \"font-weight: bold; text-align: right;\">6</td><td style = \"text-align: left;\">912797MM6</td><td style = \"text-align: left;\">Bill</td><td style = \"text-align: left;\">26-Week</td><td style = \"text-align: left;\">09/03/2024</td><td style = \"text-align: left;\">09/05/2024</td><td style = \"text-align: left;\">03/06/2025</td><td style = \"text-align: right;\">97.6517</td><td style = \"text-align: right;\">0.04823</td><td style = \"font-style: italic; text-align: right;\">missing</td><td style = \"text-align: left;\">None</td><td style = \"font-style: italic; text-align: right;\">missing</td></tr><tr><td class = \"rowNumber\" style = \"font-weight: bold; text-align: right;\">7</td><td style = \"text-align: left;\">912797MH7</td><td style = \"text-align: left;\">Bill</td><td style = \"text-align: left;\">52-Week</td><td style = \"text-align: left;\">09/03/2024</td><td style = \"text-align: left;\">09/05/2024</td><td style = \"text-align: left;\">09/04/2025</td><td style = \"text-align: right;\">95.8039</td><td style = \"text-align: right;\">0.04345</td><td style = \"font-style: italic; text-align: right;\">missing</td><td style = \"text-align: left;\">None</td><td style = \"font-style: italic; text-align: right;\">missing</td></tr><tr><td class = \"rowNumber\" style = \"font-weight: bold; text-align: right;\">8</td><td style = \"text-align: left;\">912797LK1</td><td style = \"text-align: left;\">Bill</td><td style = \"text-align: left;\">4-Week</td><td style = \"text-align: left;\">08/29/2024</td><td style = \"text-align: left;\">09/03/2024</td><td style = \"text-align: left;\">10/01/2024</td><td style = \"text-align: right;\">99.5979</td><td style = \"text-align: right;\">0.05263</td><td style = \"font-style: italic; text-align: right;\">missing</td><td style = \"text-align: left;\">None</td><td style = \"font-style: italic; text-align: right;\">missing</td></tr><tr><td class = \"rowNumber\" style = \"font-weight: bold; text-align: right;\">9</td><td style = \"text-align: left;\">912797LV7</td><td style = \"text-align: left;\">Bill</td><td style = \"text-align: left;\">8-Week</td><td style = \"text-align: left;\">08/29/2024</td><td style = \"text-align: left;\">09/03/2024</td><td style = \"text-align: left;\">10/29/2024</td><td style = \"text-align: right;\">99.2067</td><td style = \"text-align: right;\">0.05212</td><td style = \"font-style: italic; text-align: right;\">missing</td><td style = \"text-align: left;\">None</td><td style = \"font-style: italic; text-align: right;\">missing</td></tr><tr><td class = \"rowNumber\" style = \"font-weight: bold; text-align: right;\">10</td><td style = \"text-align: left;\">91282CLJ8</td><td style = \"text-align: left;\">Note</td><td style = \"text-align: left;\">7-Year</td><td style = \"text-align: left;\">08/29/2024</td><td style = \"text-align: left;\">09/03/2024</td><td style = \"text-align: left;\">08/31/2031</td><td style = \"text-align: right;\">99.8775</td><td style = \"font-style: italic; text-align: right;\">missing</td><td style = \"text-align: right;\">0.0377</td><td style = \"text-align: left;\">Semi-Annual</td><td style = \"text-align: right;\">0.0375</td></tr><tr><td class = \"rowNumber\" style = \"font-weight: bold; text-align: right;\">11</td><td style = \"text-align: left;\">912797MR5</td><td style = \"text-align: left;\">Bill</td><td style = \"text-align: left;\">17-Week</td><td style = \"text-align: left;\">08/28/2024</td><td style = \"text-align: left;\">09/03/2024</td><td style = \"text-align: left;\">12/31/2024</td><td style = \"text-align: right;\">98.3902</td><td style = \"text-align: right;\">0.05018</td><td style = \"font-style: italic; text-align: right;\">missing</td><td style = \"text-align: left;\">None</td><td style = \"font-style: italic; text-align: right;\">missing</td></tr><tr><td class = \"rowNumber\" style = \"font-weight: bold; text-align: right;\">12</td><td style = \"text-align: left;\">91282CLK5</td><td style = \"text-align: left;\">Note</td><td style = \"text-align: left;\">5-Year</td><td style = \"text-align: left;\">08/28/2024</td><td style = \"text-align: left;\">09/03/2024</td><td style = \"text-align: left;\">08/31/2029</td><td style = \"text-align: right;\">99.9089</td><td style = \"font-style: italic; text-align: right;\">missing</td><td style = \"text-align: right;\">0.03645</td><td style = \"text-align: left;\">Semi-Annual</td><td style = \"text-align: right;\">0.03625</td></tr><tr><td class = \"rowNumber\" style = \"font-weight: bold; text-align: right;\">13</td><td style = \"text-align: left;\">91282CLH2</td><td style = \"text-align: left;\">Note</td><td style = \"text-align: left;\">2-Year</td><td style = \"text-align: left;\">08/27/2024</td><td style = \"text-align: left;\">09/03/2024</td><td style = \"text-align: left;\">08/31/2026</td><td style = \"text-align: right;\">99.7639</td><td style = \"font-style: italic; text-align: right;\">missing</td><td style = \"text-align: right;\">0.03874</td><td style = \"text-align: left;\">Semi-Annual</td><td style = \"text-align: right;\">0.0375</td></tr><tr><td style = \"text-align: right;\">&vellip;</td><td style = \"text-align: right;\">&vellip;</td><td style = \"text-align: right;\">&vellip;</td><td style = \"text-align: right;\">&vellip;</td><td style = \"text-align: right;\">&vellip;</td><td style = \"text-align: right;\">&vellip;</td><td style = \"text-align: right;\">&vellip;</td><td style = \"text-align: right;\">&vellip;</td><td style = \"text-align: right;\">&vellip;</td><td style = \"text-align: right;\">&vellip;</td><td style = \"text-align: right;\">&vellip;</td><td style = \"text-align: right;\">&vellip;</td></tr><tr><td class = \"rowNumber\" style = \"font-weight: bold; text-align: right;\">1808</td><td style = \"text-align: left;\">912828ZE3</td><td style = \"text-align: left;\">Note</td><td style = \"text-align: left;\">7-Year</td><td style = \"text-align: left;\">03/26/2020</td><td style = \"text-align: left;\">03/31/2020</td><td style = \"text-align: left;\">03/31/2027</td><td style = \"text-align: right;\">99.6246</td><td style = \"font-style: italic; text-align: right;\">missing</td><td style = \"text-align: right;\">0.0068</td><td style = \"text-align: left;\">Semi-Annual</td><td style = \"text-align: right;\">0.00625</td></tr><tr><td class = \"rowNumber\" style = \"font-weight: bold; text-align: right;\">1809</td><td style = \"text-align: left;\">912828ZF0</td><td style = \"text-align: left;\">Note</td><td style = \"text-align: left;\">5-Year</td><td style = \"text-align: left;\">03/25/2020</td><td style = \"text-align: left;\">03/31/2020</td><td style = \"text-align: left;\">03/31/2025</td><td style = \"text-align: right;\">99.8275</td><td style = \"font-style: italic; text-align: right;\">missing</td><td style = \"text-align: right;\">0.00535</td><td style = \"text-align: left;\">Semi-Annual</td><td style = \"text-align: right;\">0.005</td></tr><tr><td class = \"rowNumber\" style = \"font-weight: bold; text-align: right;\">1810</td><td style = \"text-align: left;\">912828ZG8</td><td style = \"text-align: left;\">Note</td><td style = \"text-align: left;\">2-Year</td><td style = \"text-align: left;\">03/24/2020</td><td style = \"text-align: left;\">03/31/2020</td><td style = \"text-align: left;\">03/31/2022</td><td style = \"text-align: right;\">99.9542</td><td style = \"font-style: italic; text-align: right;\">missing</td><td style = \"text-align: right;\">0.00398</td><td style = \"text-align: left;\">Semi-Annual</td><td style = \"text-align: right;\">0.00375</td></tr><tr><td class = \"rowNumber\" style = \"font-weight: bold; text-align: right;\">1811</td><td style = \"text-align: left;\">9127962F5</td><td style = \"text-align: left;\">Bill</td><td style = \"text-align: left;\">52-Week</td><td style = \"text-align: left;\">03/24/2020</td><td style = \"text-align: left;\">03/26/2020</td><td style = \"text-align: left;\">03/25/2021</td><td style = \"text-align: right;\">99.7371</td><td style = \"text-align: right;\">0.00264</td><td style = \"font-style: italic; text-align: right;\">missing</td><td style = \"text-align: left;\">None</td><td style = \"font-style: italic; text-align: right;\">missing</td></tr><tr><td class = \"rowNumber\" style = \"font-weight: bold; text-align: right;\">1812</td><td style = \"text-align: left;\">912796UA5</td><td style = \"text-align: left;\">Bill</td><td style = \"text-align: left;\">13-Week</td><td style = \"text-align: left;\">03/23/2020</td><td style = \"text-align: left;\">03/26/2020</td><td style = \"text-align: left;\">06/25/2020</td><td style = \"text-align: right;\">100.0</td><td style = \"text-align: right;\">0.0</td><td style = \"font-style: italic; text-align: right;\">missing</td><td style = \"text-align: left;\">None</td><td style = \"font-style: italic; text-align: right;\">missing</td></tr><tr><td class = \"rowNumber\" style = \"font-weight: bold; text-align: right;\">1813</td><td style = \"text-align: left;\">9127962H1</td><td style = \"text-align: left;\">Bill</td><td style = \"text-align: left;\">26-Week</td><td style = \"text-align: left;\">03/23/2020</td><td style = \"text-align: left;\">03/26/2020</td><td style = \"text-align: left;\">09/24/2020</td><td style = \"text-align: right;\">99.9596</td><td style = \"text-align: right;\">0.00081</td><td style = \"font-style: italic; text-align: right;\">missing</td><td style = \"text-align: left;\">None</td><td style = \"font-style: italic; text-align: right;\">missing</td></tr><tr><td class = \"rowNumber\" style = \"font-weight: bold; text-align: right;\">1814</td><td style = \"text-align: left;\">9127962C2</td><td style = \"text-align: left;\">Bill</td><td style = \"text-align: left;\">4-Week</td><td style = \"text-align: left;\">03/19/2020</td><td style = \"text-align: left;\">03/24/2020</td><td style = \"text-align: left;\">04/21/2020</td><td style = \"text-align: right;\">99.9977</td><td style = \"text-align: right;\">0.0003</td><td style = \"font-style: italic; text-align: right;\">missing</td><td style = \"text-align: left;\">None</td><td style = \"font-style: italic; text-align: right;\">missing</td></tr><tr><td class = \"rowNumber\" style = \"font-weight: bold; text-align: right;\">1815</td><td style = \"text-align: left;\">9127962M0</td><td style = \"text-align: left;\">Bill</td><td style = \"text-align: left;\">8-Week</td><td style = \"text-align: left;\">03/19/2020</td><td style = \"text-align: left;\">03/24/2020</td><td style = \"text-align: left;\">05/19/2020</td><td style = \"text-align: right;\">99.9953</td><td style = \"text-align: right;\">0.0003</td><td style = \"font-style: italic; text-align: right;\">missing</td><td style = \"text-align: left;\">None</td><td style = \"font-style: italic; text-align: right;\">missing</td></tr><tr><td class = \"rowNumber\" style = \"font-weight: bold; text-align: right;\">1816</td><td style = \"text-align: left;\">912796TZ2</td><td style = \"text-align: left;\">Bill</td><td style = \"text-align: left;\">79-Day</td><td style = \"text-align: left;\">03/19/2020</td><td style = \"text-align: left;\">03/24/2020</td><td style = \"text-align: left;\">06/11/2020</td><td style = \"text-align: right;\">99.989</td><td style = \"text-align: right;\">0.00051</td><td style = \"font-style: italic; text-align: right;\">missing</td><td style = \"text-align: left;\">None</td><td style = \"font-style: italic; text-align: right;\">missing</td></tr><tr><td class = \"rowNumber\" style = \"font-weight: bold; text-align: right;\">1817</td><td style = \"text-align: left;\">912796SV2</td><td style = \"text-align: left;\">Bill</td><td style = \"text-align: left;\">13-Week</td><td style = \"text-align: left;\">03/16/2020</td><td style = \"text-align: left;\">03/19/2020</td><td style = \"text-align: left;\">06/18/2020</td><td style = \"text-align: right;\">99.9267</td><td style = \"text-align: right;\">0.00294</td><td style = \"font-style: italic; text-align: right;\">missing</td><td style = \"text-align: left;\">None</td><td style = \"font-style: italic; text-align: right;\">missing</td></tr><tr><td class = \"rowNumber\" style = \"font-weight: bold; text-align: right;\">1818</td><td style = \"text-align: left;\">9127962G3</td><td style = \"text-align: left;\">Bill</td><td style = \"text-align: left;\">26-Week</td><td style = \"text-align: left;\">03/16/2020</td><td style = \"text-align: left;\">03/19/2020</td><td style = \"text-align: left;\">09/17/2020</td><td style = \"text-align: right;\">99.8483</td><td style = \"text-align: right;\">0.00305</td><td style = \"font-style: italic; text-align: right;\">missing</td><td style = \"text-align: left;\">None</td><td style = \"font-style: italic; text-align: right;\">missing</td></tr><tr><td class = \"rowNumber\" style = \"font-weight: bold; text-align: right;\">1819</td><td style = \"text-align: left;\">9127962B4</td><td style = \"text-align: left;\">Bill</td><td style = \"text-align: left;\">4-Week</td><td style = \"text-align: left;\">03/12/2020</td><td style = \"text-align: left;\">03/17/2020</td><td style = \"text-align: left;\">04/14/2020</td><td style = \"text-align: right;\">99.9693</td><td style = \"text-align: right;\">0.00401</td><td style = \"font-style: italic; text-align: right;\">missing</td><td style = \"text-align: left;\">None</td><td style = \"font-style: italic; text-align: right;\">missing</td></tr></tbody></table></div>"
      ],
      "text/latex": [
       "\\begin{tabular}{r|ccccccc}\n",
       "\t& CUSIP & Security Type & Security Term & Auction Date & Issue Date & Maturity Date & \\\\\n",
       "\t\\hline\n",
       "\t& String15 & String7 & String7 & String15 & String15 & String15 & \\\\\n",
       "\t\\hline\n",
       "\t1 & 912797LS4 & Bill & 4-Week & 09/05/2024 & 09/10/2024 & 10/08/2024 & $\\dots$ \\\\\n",
       "\t2 & 912797MA2 & Bill & 8-Week & 09/05/2024 & 09/10/2024 & 11/05/2024 & $\\dots$ \\\\\n",
       "\t3 & 912797MW4 & Bill & 17-Week & 09/04/2024 & 09/10/2024 & 01/07/2025 & $\\dots$ \\\\\n",
       "\t4 & 912797KU0 & Bill & 42-Day & 09/03/2024 & 09/05/2024 & 10/17/2024 & $\\dots$ \\\\\n",
       "\t5 & 912797LF2 & Bill & 13-Week & 09/03/2024 & 09/05/2024 & 12/05/2024 & $\\dots$ \\\\\n",
       "\t6 & 912797MM6 & Bill & 26-Week & 09/03/2024 & 09/05/2024 & 03/06/2025 & $\\dots$ \\\\\n",
       "\t7 & 912797MH7 & Bill & 52-Week & 09/03/2024 & 09/05/2024 & 09/04/2025 & $\\dots$ \\\\\n",
       "\t8 & 912797LK1 & Bill & 4-Week & 08/29/2024 & 09/03/2024 & 10/01/2024 & $\\dots$ \\\\\n",
       "\t9 & 912797LV7 & Bill & 8-Week & 08/29/2024 & 09/03/2024 & 10/29/2024 & $\\dots$ \\\\\n",
       "\t10 & 91282CLJ8 & Note & 7-Year & 08/29/2024 & 09/03/2024 & 08/31/2031 & $\\dots$ \\\\\n",
       "\t11 & 912797MR5 & Bill & 17-Week & 08/28/2024 & 09/03/2024 & 12/31/2024 & $\\dots$ \\\\\n",
       "\t12 & 91282CLK5 & Note & 5-Year & 08/28/2024 & 09/03/2024 & 08/31/2029 & $\\dots$ \\\\\n",
       "\t13 & 91282CLH2 & Note & 2-Year & 08/27/2024 & 09/03/2024 & 08/31/2026 & $\\dots$ \\\\\n",
       "\t14 & 912797KT3 & Bill & 42-Day & 08/27/2024 & 08/29/2024 & 10/10/2024 & $\\dots$ \\\\\n",
       "\t15 & 912797HP5 & Bill & 13-Week & 08/26/2024 & 08/29/2024 & 11/29/2024 & $\\dots$ \\\\\n",
       "\t16 & 912797ML8 & Bill & 26-Week & 08/26/2024 & 08/29/2024 & 02/27/2025 & $\\dots$ \\\\\n",
       "\t17 & 912797LJ4 & Bill & 4-Week & 08/22/2024 & 08/27/2024 & 09/24/2024 & $\\dots$ \\\\\n",
       "\t18 & 912797LU9 & Bill & 8-Week & 08/22/2024 & 08/27/2024 & 10/22/2024 & $\\dots$ \\\\\n",
       "\t19 & 912810UD8 & Bond & 20-Year & 08/21/2024 & 09/03/2024 & 08/15/2044 & $\\dots$ \\\\\n",
       "\t20 & 912797KK2 & Bill & 16-Day & 08/21/2024 & 08/27/2024 & 09/12/2024 & $\\dots$ \\\\\n",
       "\t21 & 912797MQ7 & Bill & 17-Week & 08/21/2024 & 08/27/2024 & 12/24/2024 & $\\dots$ \\\\\n",
       "\t22 & 912797GW1 & Bill & 42-Day & 08/20/2024 & 08/22/2024 & 10/03/2024 & $\\dots$ \\\\\n",
       "\t23 & 912797LE5 & Bill & 13-Week & 08/19/2024 & 08/22/2024 & 11/21/2024 & $\\dots$ \\\\\n",
       "\t24 & 912797KA4 & Bill & 26-Week & 08/19/2024 & 08/22/2024 & 02/20/2025 & $\\dots$ \\\\\n",
       "\t25 & 912797LH8 & Bill & 4-Week & 08/15/2024 & 08/20/2024 & 09/17/2024 & $\\dots$ \\\\\n",
       "\t26 & 912797LT2 & Bill & 8-Week & 08/15/2024 & 08/20/2024 & 10/15/2024 & $\\dots$ \\\\\n",
       "\t27 & 912797MP9 & Bill & 17-Week & 08/14/2024 & 08/20/2024 & 12/17/2024 & $\\dots$ \\\\\n",
       "\t28 & 912797KM8 & Bill & 42-Day & 08/13/2024 & 08/15/2024 & 09/26/2024 & $\\dots$ \\\\\n",
       "\t29 & 912797LD7 & Bill & 13-Week & 08/12/2024 & 08/15/2024 & 11/14/2024 & $\\dots$ \\\\\n",
       "\t30 & 912797MK0 & Bill & 26-Week & 08/12/2024 & 08/15/2024 & 02/13/2025 & $\\dots$ \\\\\n",
       "\t$\\dots$ & $\\dots$ & $\\dots$ & $\\dots$ & $\\dots$ & $\\dots$ & $\\dots$ &  \\\\\n",
       "\\end{tabular}\n"
      ],
      "text/plain": [
       "\u001b[1m1819×11 DataFrame\u001b[0m\n",
       "\u001b[1m  Row \u001b[0m│\u001b[1m CUSIP     \u001b[0m\u001b[1m Security Type \u001b[0m\u001b[1m Security Term \u001b[0m\u001b[1m Auction Date \u001b[0m\u001b[1m Issue Date \u001b[0m\u001b[1m Mat\u001b[0m ⋯\n",
       "      │\u001b[90m String15  \u001b[0m\u001b[90m String7       \u001b[0m\u001b[90m String7       \u001b[0m\u001b[90m String15     \u001b[0m\u001b[90m String15   \u001b[0m\u001b[90m Str\u001b[0m ⋯\n",
       "──────┼─────────────────────────────────────────────────────────────────────────\n",
       "    1 │ 912797LS4  Bill           4-Week         09/05/2024    09/10/2024  10/ ⋯\n",
       "    2 │ 912797MA2  Bill           8-Week         09/05/2024    09/10/2024  11/\n",
       "    3 │ 912797MW4  Bill           17-Week        09/04/2024    09/10/2024  01/\n",
       "    4 │ 912797KU0  Bill           42-Day         09/03/2024    09/05/2024  10/\n",
       "    5 │ 912797LF2  Bill           13-Week        09/03/2024    09/05/2024  12/ ⋯\n",
       "    6 │ 912797MM6  Bill           26-Week        09/03/2024    09/05/2024  03/\n",
       "    7 │ 912797MH7  Bill           52-Week        09/03/2024    09/05/2024  09/\n",
       "    8 │ 912797LK1  Bill           4-Week         08/29/2024    09/03/2024  10/\n",
       "    9 │ 912797LV7  Bill           8-Week         08/29/2024    09/03/2024  10/ ⋯\n",
       "   10 │ 91282CLJ8  Note           7-Year         08/29/2024    09/03/2024  08/\n",
       "   11 │ 912797MR5  Bill           17-Week        08/28/2024    09/03/2024  12/\n",
       "  ⋮   │     ⋮            ⋮              ⋮             ⋮            ⋮           ⋱\n",
       " 1810 │ 912828ZG8  Note           2-Year         03/24/2020    03/31/2020  03/\n",
       " 1811 │ 9127962F5  Bill           52-Week        03/24/2020    03/26/2020  03/ ⋯\n",
       " 1812 │ 912796UA5  Bill           13-Week        03/23/2020    03/26/2020  06/\n",
       " 1813 │ 9127962H1  Bill           26-Week        03/23/2020    03/26/2020  09/\n",
       " 1814 │ 9127962C2  Bill           4-Week         03/19/2020    03/24/2020  04/\n",
       " 1815 │ 9127962M0  Bill           8-Week         03/19/2020    03/24/2020  05/ ⋯\n",
       " 1816 │ 912796TZ2  Bill           79-Day         03/19/2020    03/24/2020  06/\n",
       " 1817 │ 912796SV2  Bill           13-Week        03/16/2020    03/19/2020  06/\n",
       " 1818 │ 9127962G3  Bill           26-Week        03/16/2020    03/19/2020  09/\n",
       " 1819 │ 9127962B4  Bill           4-Week         03/12/2020    03/17/2020  04/ ⋯\n",
       "\u001b[36m                                                 6 columns and 1798 rows omitted\u001b[0m"
      ]
     },
     "execution_count": 2,
     "metadata": {},
     "output_type": "execute_result"
    }
   ],
   "source": [
    "dataset = MyTreasuryBillsNotesAndBondsDataSet()"
   ]
  },
  {
   "cell_type": "markdown",
   "id": "3d3dc225-45cf-478a-956d-65fc9e6f1ece",
   "metadata": {},
   "source": [
    "To help below, let's use [the `filter!(...)` method exported by the DataFrames.jl package](https://dataframes.juliadata.org/stable/lib/functions/#Base.filter) to collect only the data for the bills; we save this to the `bills_dataset::DataFrame` variable."
   ]
  },
  {
   "cell_type": "code",
   "execution_count": 3,
   "id": "c9330cc6-f9ce-46d3-b363-22701a6c2a66",
   "metadata": {},
   "outputs": [
    {
     "data": {
      "text/html": [
       "<div><div style = \"float: left;\"><span>1510×11 DataFrame</span></div><div style = \"float: right;\"><span style = \"font-style: italic;\">1485 rows omitted</span></div><div style = \"clear: both;\"></div></div><div class = \"data-frame\" style = \"overflow-x: scroll;\"><table class = \"data-frame\" style = \"margin-bottom: 6px;\"><thead><tr class = \"header\"><th class = \"rowNumber\" style = \"font-weight: bold; text-align: right;\">Row</th><th style = \"text-align: left;\">CUSIP</th><th style = \"text-align: left;\">Security Type</th><th style = \"text-align: left;\">Security Term</th><th style = \"text-align: left;\">Auction Date</th><th style = \"text-align: left;\">Issue Date</th><th style = \"text-align: left;\">Maturity Date</th><th style = \"text-align: left;\">Price</th><th style = \"text-align: left;\">Investment Rate</th><th style = \"text-align: left;\">High Yield</th><th style = \"text-align: left;\">Interest Payment Frequency</th><th style = \"text-align: left;\">Interest Rate</th></tr><tr class = \"subheader headerLastRow\"><th class = \"rowNumber\" style = \"font-weight: bold; text-align: right;\"></th><th title = \"String15\" style = \"text-align: left;\">String15</th><th title = \"String7\" style = \"text-align: left;\">String7</th><th title = \"String7\" style = \"text-align: left;\">String7</th><th title = \"String15\" style = \"text-align: left;\">String15</th><th title = \"String15\" style = \"text-align: left;\">String15</th><th title = \"String15\" style = \"text-align: left;\">String15</th><th title = \"Float64\" style = \"text-align: left;\">Float64</th><th title = \"Union{Missing, Float64}\" style = \"text-align: left;\">Float64?</th><th title = \"Union{Missing, Float64}\" style = \"text-align: left;\">Float64?</th><th title = \"String15\" style = \"text-align: left;\">String15</th><th title = \"Union{Missing, Float64}\" style = \"text-align: left;\">Float64?</th></tr></thead><tbody><tr><td class = \"rowNumber\" style = \"font-weight: bold; text-align: right;\">1</td><td style = \"text-align: left;\">912797LS4</td><td style = \"text-align: left;\">Bill</td><td style = \"text-align: left;\">4-Week</td><td style = \"text-align: left;\">09/05/2024</td><td style = \"text-align: left;\">09/10/2024</td><td style = \"text-align: left;\">10/08/2024</td><td style = \"text-align: right;\">99.6049</td><td style = \"text-align: right;\">0.05171</td><td style = \"font-style: italic; text-align: right;\">missing</td><td style = \"text-align: left;\">None</td><td style = \"font-style: italic; text-align: right;\">missing</td></tr><tr><td class = \"rowNumber\" style = \"font-weight: bold; text-align: right;\">2</td><td style = \"text-align: left;\">912797MA2</td><td style = \"text-align: left;\">Bill</td><td style = \"text-align: left;\">8-Week</td><td style = \"text-align: left;\">09/05/2024</td><td style = \"text-align: left;\">09/10/2024</td><td style = \"text-align: left;\">11/05/2024</td><td style = \"text-align: right;\">99.216</td><td style = \"text-align: right;\">0.0515</td><td style = \"font-style: italic; text-align: right;\">missing</td><td style = \"text-align: left;\">None</td><td style = \"font-style: italic; text-align: right;\">missing</td></tr><tr><td class = \"rowNumber\" style = \"font-weight: bold; text-align: right;\">3</td><td style = \"text-align: left;\">912797MW4</td><td style = \"text-align: left;\">Bill</td><td style = \"text-align: left;\">17-Week</td><td style = \"text-align: left;\">09/04/2024</td><td style = \"text-align: left;\">09/10/2024</td><td style = \"text-align: left;\">01/07/2025</td><td style = \"text-align: right;\">98.41</td><td style = \"text-align: right;\">0.04956</td><td style = \"font-style: italic; text-align: right;\">missing</td><td style = \"text-align: left;\">None</td><td style = \"font-style: italic; text-align: right;\">missing</td></tr><tr><td class = \"rowNumber\" style = \"font-weight: bold; text-align: right;\">4</td><td style = \"text-align: left;\">912797KU0</td><td style = \"text-align: left;\">Bill</td><td style = \"text-align: left;\">42-Day</td><td style = \"text-align: left;\">09/03/2024</td><td style = \"text-align: left;\">09/05/2024</td><td style = \"text-align: left;\">10/17/2024</td><td style = \"text-align: right;\">99.4027</td><td style = \"text-align: right;\">0.05222</td><td style = \"font-style: italic; text-align: right;\">missing</td><td style = \"text-align: left;\">None</td><td style = \"font-style: italic; text-align: right;\">missing</td></tr><tr><td class = \"rowNumber\" style = \"font-weight: bold; text-align: right;\">5</td><td style = \"text-align: left;\">912797LF2</td><td style = \"text-align: left;\">Bill</td><td style = \"text-align: left;\">13-Week</td><td style = \"text-align: left;\">09/03/2024</td><td style = \"text-align: left;\">09/05/2024</td><td style = \"text-align: left;\">12/05/2024</td><td style = \"text-align: right;\">98.7437</td><td style = \"text-align: right;\">0.05103</td><td style = \"font-style: italic; text-align: right;\">missing</td><td style = \"text-align: left;\">None</td><td style = \"font-style: italic; text-align: right;\">missing</td></tr><tr><td class = \"rowNumber\" style = \"font-weight: bold; text-align: right;\">6</td><td style = \"text-align: left;\">912797MM6</td><td style = \"text-align: left;\">Bill</td><td style = \"text-align: left;\">26-Week</td><td style = \"text-align: left;\">09/03/2024</td><td style = \"text-align: left;\">09/05/2024</td><td style = \"text-align: left;\">03/06/2025</td><td style = \"text-align: right;\">97.6517</td><td style = \"text-align: right;\">0.04823</td><td style = \"font-style: italic; text-align: right;\">missing</td><td style = \"text-align: left;\">None</td><td style = \"font-style: italic; text-align: right;\">missing</td></tr><tr><td class = \"rowNumber\" style = \"font-weight: bold; text-align: right;\">7</td><td style = \"text-align: left;\">912797MH7</td><td style = \"text-align: left;\">Bill</td><td style = \"text-align: left;\">52-Week</td><td style = \"text-align: left;\">09/03/2024</td><td style = \"text-align: left;\">09/05/2024</td><td style = \"text-align: left;\">09/04/2025</td><td style = \"text-align: right;\">95.8039</td><td style = \"text-align: right;\">0.04345</td><td style = \"font-style: italic; text-align: right;\">missing</td><td style = \"text-align: left;\">None</td><td style = \"font-style: italic; text-align: right;\">missing</td></tr><tr><td class = \"rowNumber\" style = \"font-weight: bold; text-align: right;\">8</td><td style = \"text-align: left;\">912797LK1</td><td style = \"text-align: left;\">Bill</td><td style = \"text-align: left;\">4-Week</td><td style = \"text-align: left;\">08/29/2024</td><td style = \"text-align: left;\">09/03/2024</td><td style = \"text-align: left;\">10/01/2024</td><td style = \"text-align: right;\">99.5979</td><td style = \"text-align: right;\">0.05263</td><td style = \"font-style: italic; text-align: right;\">missing</td><td style = \"text-align: left;\">None</td><td style = \"font-style: italic; text-align: right;\">missing</td></tr><tr><td class = \"rowNumber\" style = \"font-weight: bold; text-align: right;\">9</td><td style = \"text-align: left;\">912797LV7</td><td style = \"text-align: left;\">Bill</td><td style = \"text-align: left;\">8-Week</td><td style = \"text-align: left;\">08/29/2024</td><td style = \"text-align: left;\">09/03/2024</td><td style = \"text-align: left;\">10/29/2024</td><td style = \"text-align: right;\">99.2067</td><td style = \"text-align: right;\">0.05212</td><td style = \"font-style: italic; text-align: right;\">missing</td><td style = \"text-align: left;\">None</td><td style = \"font-style: italic; text-align: right;\">missing</td></tr><tr><td class = \"rowNumber\" style = \"font-weight: bold; text-align: right;\">10</td><td style = \"text-align: left;\">912797MR5</td><td style = \"text-align: left;\">Bill</td><td style = \"text-align: left;\">17-Week</td><td style = \"text-align: left;\">08/28/2024</td><td style = \"text-align: left;\">09/03/2024</td><td style = \"text-align: left;\">12/31/2024</td><td style = \"text-align: right;\">98.3902</td><td style = \"text-align: right;\">0.05018</td><td style = \"font-style: italic; text-align: right;\">missing</td><td style = \"text-align: left;\">None</td><td style = \"font-style: italic; text-align: right;\">missing</td></tr><tr><td class = \"rowNumber\" style = \"font-weight: bold; text-align: right;\">11</td><td style = \"text-align: left;\">912797KT3</td><td style = \"text-align: left;\">Bill</td><td style = \"text-align: left;\">42-Day</td><td style = \"text-align: left;\">08/27/2024</td><td style = \"text-align: left;\">08/29/2024</td><td style = \"text-align: left;\">10/10/2024</td><td style = \"text-align: right;\">99.3992</td><td style = \"text-align: right;\">0.05253</td><td style = \"font-style: italic; text-align: right;\">missing</td><td style = \"text-align: left;\">None</td><td style = \"font-style: italic; text-align: right;\">missing</td></tr><tr><td class = \"rowNumber\" style = \"font-weight: bold; text-align: right;\">12</td><td style = \"text-align: left;\">912797HP5</td><td style = \"text-align: left;\">Bill</td><td style = \"text-align: left;\">13-Week</td><td style = \"text-align: left;\">08/26/2024</td><td style = \"text-align: left;\">08/29/2024</td><td style = \"text-align: left;\">11/29/2024</td><td style = \"text-align: right;\">98.7273</td><td style = \"text-align: right;\">0.05114</td><td style = \"font-style: italic; text-align: right;\">missing</td><td style = \"text-align: left;\">None</td><td style = \"font-style: italic; text-align: right;\">missing</td></tr><tr><td class = \"rowNumber\" style = \"font-weight: bold; text-align: right;\">13</td><td style = \"text-align: left;\">912797ML8</td><td style = \"text-align: left;\">Bill</td><td style = \"text-align: left;\">26-Week</td><td style = \"text-align: left;\">08/26/2024</td><td style = \"text-align: left;\">08/29/2024</td><td style = \"text-align: left;\">02/27/2025</td><td style = \"text-align: right;\">97.6315</td><td style = \"text-align: right;\">0.04865</td><td style = \"font-style: italic; text-align: right;\">missing</td><td style = \"text-align: left;\">None</td><td style = \"font-style: italic; text-align: right;\">missing</td></tr><tr><td style = \"text-align: right;\">&vellip;</td><td style = \"text-align: right;\">&vellip;</td><td style = \"text-align: right;\">&vellip;</td><td style = \"text-align: right;\">&vellip;</td><td style = \"text-align: right;\">&vellip;</td><td style = \"text-align: right;\">&vellip;</td><td style = \"text-align: right;\">&vellip;</td><td style = \"text-align: right;\">&vellip;</td><td style = \"text-align: right;\">&vellip;</td><td style = \"text-align: right;\">&vellip;</td><td style = \"text-align: right;\">&vellip;</td><td style = \"text-align: right;\">&vellip;</td></tr><tr><td class = \"rowNumber\" style = \"font-weight: bold; text-align: right;\">1499</td><td style = \"text-align: left;\">912796TT6</td><td style = \"text-align: left;\">Bill</td><td style = \"text-align: left;\">37-Day</td><td style = \"text-align: left;\">03/30/2020</td><td style = \"text-align: left;\">03/31/2020</td><td style = \"text-align: left;\">05/07/2020</td><td style = \"text-align: right;\">99.9974</td><td style = \"text-align: right;\">0.00025</td><td style = \"font-style: italic; text-align: right;\">missing</td><td style = \"text-align: left;\">None</td><td style = \"font-style: italic; text-align: right;\">missing</td></tr><tr><td class = \"rowNumber\" style = \"font-weight: bold; text-align: right;\">1500</td><td style = \"text-align: left;\">9127962D0</td><td style = \"text-align: left;\">Bill</td><td style = \"text-align: left;\">4-Week</td><td style = \"text-align: left;\">03/26/2020</td><td style = \"text-align: left;\">03/31/2020</td><td style = \"text-align: left;\">04/28/2020</td><td style = \"text-align: right;\">100.0</td><td style = \"text-align: right;\">0.0</td><td style = \"font-style: italic; text-align: right;\">missing</td><td style = \"text-align: left;\">None</td><td style = \"font-style: italic; text-align: right;\">missing</td></tr><tr><td class = \"rowNumber\" style = \"font-weight: bold; text-align: right;\">1501</td><td style = \"text-align: left;\">9127962N8</td><td style = \"text-align: left;\">Bill</td><td style = \"text-align: left;\">8-Week</td><td style = \"text-align: left;\">03/26/2020</td><td style = \"text-align: left;\">03/31/2020</td><td style = \"text-align: left;\">05/26/2020</td><td style = \"text-align: right;\">100.0</td><td style = \"text-align: right;\">0.0</td><td style = \"font-style: italic; text-align: right;\">missing</td><td style = \"text-align: left;\">None</td><td style = \"font-style: italic; text-align: right;\">missing</td></tr><tr><td class = \"rowNumber\" style = \"font-weight: bold; text-align: right;\">1502</td><td style = \"text-align: left;\">9127962F5</td><td style = \"text-align: left;\">Bill</td><td style = \"text-align: left;\">52-Week</td><td style = \"text-align: left;\">03/24/2020</td><td style = \"text-align: left;\">03/26/2020</td><td style = \"text-align: left;\">03/25/2021</td><td style = \"text-align: right;\">99.7371</td><td style = \"text-align: right;\">0.00264</td><td style = \"font-style: italic; text-align: right;\">missing</td><td style = \"text-align: left;\">None</td><td style = \"font-style: italic; text-align: right;\">missing</td></tr><tr><td class = \"rowNumber\" style = \"font-weight: bold; text-align: right;\">1503</td><td style = \"text-align: left;\">912796UA5</td><td style = \"text-align: left;\">Bill</td><td style = \"text-align: left;\">13-Week</td><td style = \"text-align: left;\">03/23/2020</td><td style = \"text-align: left;\">03/26/2020</td><td style = \"text-align: left;\">06/25/2020</td><td style = \"text-align: right;\">100.0</td><td style = \"text-align: right;\">0.0</td><td style = \"font-style: italic; text-align: right;\">missing</td><td style = \"text-align: left;\">None</td><td style = \"font-style: italic; text-align: right;\">missing</td></tr><tr><td class = \"rowNumber\" style = \"font-weight: bold; text-align: right;\">1504</td><td style = \"text-align: left;\">9127962H1</td><td style = \"text-align: left;\">Bill</td><td style = \"text-align: left;\">26-Week</td><td style = \"text-align: left;\">03/23/2020</td><td style = \"text-align: left;\">03/26/2020</td><td style = \"text-align: left;\">09/24/2020</td><td style = \"text-align: right;\">99.9596</td><td style = \"text-align: right;\">0.00081</td><td style = \"font-style: italic; text-align: right;\">missing</td><td style = \"text-align: left;\">None</td><td style = \"font-style: italic; text-align: right;\">missing</td></tr><tr><td class = \"rowNumber\" style = \"font-weight: bold; text-align: right;\">1505</td><td style = \"text-align: left;\">9127962C2</td><td style = \"text-align: left;\">Bill</td><td style = \"text-align: left;\">4-Week</td><td style = \"text-align: left;\">03/19/2020</td><td style = \"text-align: left;\">03/24/2020</td><td style = \"text-align: left;\">04/21/2020</td><td style = \"text-align: right;\">99.9977</td><td style = \"text-align: right;\">0.0003</td><td style = \"font-style: italic; text-align: right;\">missing</td><td style = \"text-align: left;\">None</td><td style = \"font-style: italic; text-align: right;\">missing</td></tr><tr><td class = \"rowNumber\" style = \"font-weight: bold; text-align: right;\">1506</td><td style = \"text-align: left;\">9127962M0</td><td style = \"text-align: left;\">Bill</td><td style = \"text-align: left;\">8-Week</td><td style = \"text-align: left;\">03/19/2020</td><td style = \"text-align: left;\">03/24/2020</td><td style = \"text-align: left;\">05/19/2020</td><td style = \"text-align: right;\">99.9953</td><td style = \"text-align: right;\">0.0003</td><td style = \"font-style: italic; text-align: right;\">missing</td><td style = \"text-align: left;\">None</td><td style = \"font-style: italic; text-align: right;\">missing</td></tr><tr><td class = \"rowNumber\" style = \"font-weight: bold; text-align: right;\">1507</td><td style = \"text-align: left;\">912796TZ2</td><td style = \"text-align: left;\">Bill</td><td style = \"text-align: left;\">79-Day</td><td style = \"text-align: left;\">03/19/2020</td><td style = \"text-align: left;\">03/24/2020</td><td style = \"text-align: left;\">06/11/2020</td><td style = \"text-align: right;\">99.989</td><td style = \"text-align: right;\">0.00051</td><td style = \"font-style: italic; text-align: right;\">missing</td><td style = \"text-align: left;\">None</td><td style = \"font-style: italic; text-align: right;\">missing</td></tr><tr><td class = \"rowNumber\" style = \"font-weight: bold; text-align: right;\">1508</td><td style = \"text-align: left;\">912796SV2</td><td style = \"text-align: left;\">Bill</td><td style = \"text-align: left;\">13-Week</td><td style = \"text-align: left;\">03/16/2020</td><td style = \"text-align: left;\">03/19/2020</td><td style = \"text-align: left;\">06/18/2020</td><td style = \"text-align: right;\">99.9267</td><td style = \"text-align: right;\">0.00294</td><td style = \"font-style: italic; text-align: right;\">missing</td><td style = \"text-align: left;\">None</td><td style = \"font-style: italic; text-align: right;\">missing</td></tr><tr><td class = \"rowNumber\" style = \"font-weight: bold; text-align: right;\">1509</td><td style = \"text-align: left;\">9127962G3</td><td style = \"text-align: left;\">Bill</td><td style = \"text-align: left;\">26-Week</td><td style = \"text-align: left;\">03/16/2020</td><td style = \"text-align: left;\">03/19/2020</td><td style = \"text-align: left;\">09/17/2020</td><td style = \"text-align: right;\">99.8483</td><td style = \"text-align: right;\">0.00305</td><td style = \"font-style: italic; text-align: right;\">missing</td><td style = \"text-align: left;\">None</td><td style = \"font-style: italic; text-align: right;\">missing</td></tr><tr><td class = \"rowNumber\" style = \"font-weight: bold; text-align: right;\">1510</td><td style = \"text-align: left;\">9127962B4</td><td style = \"text-align: left;\">Bill</td><td style = \"text-align: left;\">4-Week</td><td style = \"text-align: left;\">03/12/2020</td><td style = \"text-align: left;\">03/17/2020</td><td style = \"text-align: left;\">04/14/2020</td><td style = \"text-align: right;\">99.9693</td><td style = \"text-align: right;\">0.00401</td><td style = \"font-style: italic; text-align: right;\">missing</td><td style = \"text-align: left;\">None</td><td style = \"font-style: italic; text-align: right;\">missing</td></tr></tbody></table></div>"
      ],
      "text/latex": [
       "\\begin{tabular}{r|ccccccc}\n",
       "\t& CUSIP & Security Type & Security Term & Auction Date & Issue Date & Maturity Date & \\\\\n",
       "\t\\hline\n",
       "\t& String15 & String7 & String7 & String15 & String15 & String15 & \\\\\n",
       "\t\\hline\n",
       "\t1 & 912797LS4 & Bill & 4-Week & 09/05/2024 & 09/10/2024 & 10/08/2024 & $\\dots$ \\\\\n",
       "\t2 & 912797MA2 & Bill & 8-Week & 09/05/2024 & 09/10/2024 & 11/05/2024 & $\\dots$ \\\\\n",
       "\t3 & 912797MW4 & Bill & 17-Week & 09/04/2024 & 09/10/2024 & 01/07/2025 & $\\dots$ \\\\\n",
       "\t4 & 912797KU0 & Bill & 42-Day & 09/03/2024 & 09/05/2024 & 10/17/2024 & $\\dots$ \\\\\n",
       "\t5 & 912797LF2 & Bill & 13-Week & 09/03/2024 & 09/05/2024 & 12/05/2024 & $\\dots$ \\\\\n",
       "\t6 & 912797MM6 & Bill & 26-Week & 09/03/2024 & 09/05/2024 & 03/06/2025 & $\\dots$ \\\\\n",
       "\t7 & 912797MH7 & Bill & 52-Week & 09/03/2024 & 09/05/2024 & 09/04/2025 & $\\dots$ \\\\\n",
       "\t8 & 912797LK1 & Bill & 4-Week & 08/29/2024 & 09/03/2024 & 10/01/2024 & $\\dots$ \\\\\n",
       "\t9 & 912797LV7 & Bill & 8-Week & 08/29/2024 & 09/03/2024 & 10/29/2024 & $\\dots$ \\\\\n",
       "\t10 & 912797MR5 & Bill & 17-Week & 08/28/2024 & 09/03/2024 & 12/31/2024 & $\\dots$ \\\\\n",
       "\t11 & 912797KT3 & Bill & 42-Day & 08/27/2024 & 08/29/2024 & 10/10/2024 & $\\dots$ \\\\\n",
       "\t12 & 912797HP5 & Bill & 13-Week & 08/26/2024 & 08/29/2024 & 11/29/2024 & $\\dots$ \\\\\n",
       "\t13 & 912797ML8 & Bill & 26-Week & 08/26/2024 & 08/29/2024 & 02/27/2025 & $\\dots$ \\\\\n",
       "\t14 & 912797LJ4 & Bill & 4-Week & 08/22/2024 & 08/27/2024 & 09/24/2024 & $\\dots$ \\\\\n",
       "\t15 & 912797LU9 & Bill & 8-Week & 08/22/2024 & 08/27/2024 & 10/22/2024 & $\\dots$ \\\\\n",
       "\t16 & 912797KK2 & Bill & 16-Day & 08/21/2024 & 08/27/2024 & 09/12/2024 & $\\dots$ \\\\\n",
       "\t17 & 912797MQ7 & Bill & 17-Week & 08/21/2024 & 08/27/2024 & 12/24/2024 & $\\dots$ \\\\\n",
       "\t18 & 912797GW1 & Bill & 42-Day & 08/20/2024 & 08/22/2024 & 10/03/2024 & $\\dots$ \\\\\n",
       "\t19 & 912797LE5 & Bill & 13-Week & 08/19/2024 & 08/22/2024 & 11/21/2024 & $\\dots$ \\\\\n",
       "\t20 & 912797KA4 & Bill & 26-Week & 08/19/2024 & 08/22/2024 & 02/20/2025 & $\\dots$ \\\\\n",
       "\t21 & 912797LH8 & Bill & 4-Week & 08/15/2024 & 08/20/2024 & 09/17/2024 & $\\dots$ \\\\\n",
       "\t22 & 912797LT2 & Bill & 8-Week & 08/15/2024 & 08/20/2024 & 10/15/2024 & $\\dots$ \\\\\n",
       "\t23 & 912797MP9 & Bill & 17-Week & 08/14/2024 & 08/20/2024 & 12/17/2024 & $\\dots$ \\\\\n",
       "\t24 & 912797KM8 & Bill & 42-Day & 08/13/2024 & 08/15/2024 & 09/26/2024 & $\\dots$ \\\\\n",
       "\t25 & 912797LD7 & Bill & 13-Week & 08/12/2024 & 08/15/2024 & 11/14/2024 & $\\dots$ \\\\\n",
       "\t26 & 912797MK0 & Bill & 26-Week & 08/12/2024 & 08/15/2024 & 02/13/2025 & $\\dots$ \\\\\n",
       "\t27 & 912797LG0 & Bill & 4-Week & 08/08/2024 & 08/13/2024 & 09/10/2024 & $\\dots$ \\\\\n",
       "\t28 & 912797LS4 & Bill & 8-Week & 08/08/2024 & 08/13/2024 & 10/08/2024 & $\\dots$ \\\\\n",
       "\t29 & 912797MN4 & Bill & 17-Week & 08/07/2024 & 08/13/2024 & 12/10/2024 & $\\dots$ \\\\\n",
       "\t30 & 912797KL0 & Bill & 42-Day & 08/06/2024 & 08/08/2024 & 09/19/2024 & $\\dots$ \\\\\n",
       "\t$\\dots$ & $\\dots$ & $\\dots$ & $\\dots$ & $\\dots$ & $\\dots$ & $\\dots$ &  \\\\\n",
       "\\end{tabular}\n"
      ],
      "text/plain": [
       "\u001b[1m1510×11 DataFrame\u001b[0m\n",
       "\u001b[1m  Row \u001b[0m│\u001b[1m CUSIP     \u001b[0m\u001b[1m Security Type \u001b[0m\u001b[1m Security Term \u001b[0m\u001b[1m Auction Date \u001b[0m\u001b[1m Issue Date \u001b[0m\u001b[1m Mat\u001b[0m ⋯\n",
       "      │\u001b[90m String15  \u001b[0m\u001b[90m String7       \u001b[0m\u001b[90m String7       \u001b[0m\u001b[90m String15     \u001b[0m\u001b[90m String15   \u001b[0m\u001b[90m Str\u001b[0m ⋯\n",
       "──────┼─────────────────────────────────────────────────────────────────────────\n",
       "    1 │ 912797LS4  Bill           4-Week         09/05/2024    09/10/2024  10/ ⋯\n",
       "    2 │ 912797MA2  Bill           8-Week         09/05/2024    09/10/2024  11/\n",
       "    3 │ 912797MW4  Bill           17-Week        09/04/2024    09/10/2024  01/\n",
       "    4 │ 912797KU0  Bill           42-Day         09/03/2024    09/05/2024  10/\n",
       "    5 │ 912797LF2  Bill           13-Week        09/03/2024    09/05/2024  12/ ⋯\n",
       "    6 │ 912797MM6  Bill           26-Week        09/03/2024    09/05/2024  03/\n",
       "    7 │ 912797MH7  Bill           52-Week        09/03/2024    09/05/2024  09/\n",
       "    8 │ 912797LK1  Bill           4-Week         08/29/2024    09/03/2024  10/\n",
       "    9 │ 912797LV7  Bill           8-Week         08/29/2024    09/03/2024  10/ ⋯\n",
       "   10 │ 912797MR5  Bill           17-Week        08/28/2024    09/03/2024  12/\n",
       "   11 │ 912797KT3  Bill           42-Day         08/27/2024    08/29/2024  10/\n",
       "  ⋮   │     ⋮            ⋮              ⋮             ⋮            ⋮           ⋱\n",
       " 1501 │ 9127962N8  Bill           8-Week         03/26/2020    03/31/2020  05/\n",
       " 1502 │ 9127962F5  Bill           52-Week        03/24/2020    03/26/2020  03/ ⋯\n",
       " 1503 │ 912796UA5  Bill           13-Week        03/23/2020    03/26/2020  06/\n",
       " 1504 │ 9127962H1  Bill           26-Week        03/23/2020    03/26/2020  09/\n",
       " 1505 │ 9127962C2  Bill           4-Week         03/19/2020    03/24/2020  04/\n",
       " 1506 │ 9127962M0  Bill           8-Week         03/19/2020    03/24/2020  05/ ⋯\n",
       " 1507 │ 912796TZ2  Bill           79-Day         03/19/2020    03/24/2020  06/\n",
       " 1508 │ 912796SV2  Bill           13-Week        03/16/2020    03/19/2020  06/\n",
       " 1509 │ 9127962G3  Bill           26-Week        03/16/2020    03/19/2020  09/\n",
       " 1510 │ 9127962B4  Bill           4-Week         03/12/2020    03/17/2020  04/ ⋯\n",
       "\u001b[36m                                                 6 columns and 1489 rows omitted\u001b[0m"
      ]
     },
     "execution_count": 3,
     "metadata": {},
     "output_type": "execute_result"
    }
   ],
   "source": [
    "bills_dataset = filter(Symbol(\"Security Type\") => x-> x == \"Bill\", dataset)"
   ]
  },
  {
   "cell_type": "markdown",
   "id": "980bcb98-a80a-409b-b8d5-4df75b4f4a3e",
   "metadata": {},
   "source": [
    "Similarly, we use [the `filter!(...)` method exported by the DataFrames.jl package](https://dataframes.juliadata.org/stable/lib/functions/#Base.filter) to collect only the data for the notes and bonds; we save this to the `notes_bonds_dataset::DataFrame` variable."
   ]
  },
  {
   "cell_type": "code",
   "execution_count": 4,
   "id": "bd49e8bd-f20d-4722-a3a4-d0a8f7c417b1",
   "metadata": {},
   "outputs": [
    {
     "data": {
      "text/html": [
       "<div><div style = \"float: left;\"><span>309×11 DataFrame</span></div><div style = \"float: right;\"><span style = \"font-style: italic;\">284 rows omitted</span></div><div style = \"clear: both;\"></div></div><div class = \"data-frame\" style = \"overflow-x: scroll;\"><table class = \"data-frame\" style = \"margin-bottom: 6px;\"><thead><tr class = \"header\"><th class = \"rowNumber\" style = \"font-weight: bold; text-align: right;\">Row</th><th style = \"text-align: left;\">CUSIP</th><th style = \"text-align: left;\">Security Type</th><th style = \"text-align: left;\">Security Term</th><th style = \"text-align: left;\">Auction Date</th><th style = \"text-align: left;\">Issue Date</th><th style = \"text-align: left;\">Maturity Date</th><th style = \"text-align: left;\">Price</th><th style = \"text-align: left;\">Investment Rate</th><th style = \"text-align: left;\">High Yield</th><th style = \"text-align: left;\">Interest Payment Frequency</th><th style = \"text-align: left;\">Interest Rate</th></tr><tr class = \"subheader headerLastRow\"><th class = \"rowNumber\" style = \"font-weight: bold; text-align: right;\"></th><th title = \"String15\" style = \"text-align: left;\">String15</th><th title = \"String7\" style = \"text-align: left;\">String7</th><th title = \"String7\" style = \"text-align: left;\">String7</th><th title = \"String15\" style = \"text-align: left;\">String15</th><th title = \"String15\" style = \"text-align: left;\">String15</th><th title = \"String15\" style = \"text-align: left;\">String15</th><th title = \"Float64\" style = \"text-align: left;\">Float64</th><th title = \"Union{Missing, Float64}\" style = \"text-align: left;\">Float64?</th><th title = \"Union{Missing, Float64}\" style = \"text-align: left;\">Float64?</th><th title = \"String15\" style = \"text-align: left;\">String15</th><th title = \"Union{Missing, Float64}\" style = \"text-align: left;\">Float64?</th></tr></thead><tbody><tr><td class = \"rowNumber\" style = \"font-weight: bold; text-align: right;\">1</td><td style = \"text-align: left;\">91282CLJ8</td><td style = \"text-align: left;\">Note</td><td style = \"text-align: left;\">7-Year</td><td style = \"text-align: left;\">08/29/2024</td><td style = \"text-align: left;\">09/03/2024</td><td style = \"text-align: left;\">08/31/2031</td><td style = \"text-align: right;\">99.8775</td><td style = \"font-style: italic; text-align: right;\">missing</td><td style = \"text-align: right;\">0.0377</td><td style = \"text-align: left;\">Semi-Annual</td><td style = \"text-align: right;\">0.0375</td></tr><tr><td class = \"rowNumber\" style = \"font-weight: bold; text-align: right;\">2</td><td style = \"text-align: left;\">91282CLK5</td><td style = \"text-align: left;\">Note</td><td style = \"text-align: left;\">5-Year</td><td style = \"text-align: left;\">08/28/2024</td><td style = \"text-align: left;\">09/03/2024</td><td style = \"text-align: left;\">08/31/2029</td><td style = \"text-align: right;\">99.9089</td><td style = \"font-style: italic; text-align: right;\">missing</td><td style = \"text-align: right;\">0.03645</td><td style = \"text-align: left;\">Semi-Annual</td><td style = \"text-align: right;\">0.03625</td></tr><tr><td class = \"rowNumber\" style = \"font-weight: bold; text-align: right;\">3</td><td style = \"text-align: left;\">91282CLH2</td><td style = \"text-align: left;\">Note</td><td style = \"text-align: left;\">2-Year</td><td style = \"text-align: left;\">08/27/2024</td><td style = \"text-align: left;\">09/03/2024</td><td style = \"text-align: left;\">08/31/2026</td><td style = \"text-align: right;\">99.7639</td><td style = \"font-style: italic; text-align: right;\">missing</td><td style = \"text-align: right;\">0.03874</td><td style = \"text-align: left;\">Semi-Annual</td><td style = \"text-align: right;\">0.0375</td></tr><tr><td class = \"rowNumber\" style = \"font-weight: bold; text-align: right;\">4</td><td style = \"text-align: left;\">912810UD8</td><td style = \"text-align: left;\">Bond</td><td style = \"text-align: left;\">20-Year</td><td style = \"text-align: left;\">08/21/2024</td><td style = \"text-align: left;\">09/03/2024</td><td style = \"text-align: left;\">08/15/2044</td><td style = \"text-align: right;\">99.5248</td><td style = \"font-style: italic; text-align: right;\">missing</td><td style = \"text-align: right;\">0.0416</td><td style = \"text-align: left;\">Semi-Annual</td><td style = \"text-align: right;\">0.04125</td></tr><tr><td class = \"rowNumber\" style = \"font-weight: bold; text-align: right;\">5</td><td style = \"text-align: left;\">912810UC0</td><td style = \"text-align: left;\">Bond</td><td style = \"text-align: left;\">30-Year</td><td style = \"text-align: left;\">08/08/2024</td><td style = \"text-align: left;\">08/15/2024</td><td style = \"text-align: left;\">08/15/2054</td><td style = \"text-align: right;\">98.9288</td><td style = \"font-style: italic; text-align: right;\">missing</td><td style = \"text-align: right;\">0.04314</td><td style = \"text-align: left;\">Semi-Annual</td><td style = \"text-align: right;\">0.0425</td></tr><tr><td class = \"rowNumber\" style = \"font-weight: bold; text-align: right;\">6</td><td style = \"text-align: left;\">91282CLF6</td><td style = \"text-align: left;\">Note</td><td style = \"text-align: left;\">10-Year</td><td style = \"text-align: left;\">08/07/2024</td><td style = \"text-align: left;\">08/15/2024</td><td style = \"text-align: left;\">08/15/2034</td><td style = \"text-align: right;\">99.3037</td><td style = \"font-style: italic; text-align: right;\">missing</td><td style = \"text-align: right;\">0.0396</td><td style = \"text-align: left;\">Semi-Annual</td><td style = \"text-align: right;\">0.03875</td></tr><tr><td class = \"rowNumber\" style = \"font-weight: bold; text-align: right;\">7</td><td style = \"text-align: left;\">91282CLG4</td><td style = \"text-align: left;\">Note</td><td style = \"text-align: left;\">3-Year</td><td style = \"text-align: left;\">08/06/2024</td><td style = \"text-align: left;\">08/15/2024</td><td style = \"text-align: left;\">08/15/2027</td><td style = \"text-align: right;\">99.8314</td><td style = \"font-style: italic; text-align: right;\">missing</td><td style = \"text-align: right;\">0.0381</td><td style = \"text-align: left;\">Semi-Annual</td><td style = \"text-align: right;\">0.0375</td></tr><tr><td class = \"rowNumber\" style = \"font-weight: bold; text-align: right;\">8</td><td style = \"text-align: left;\">91282CLD1</td><td style = \"text-align: left;\">Note</td><td style = \"text-align: left;\">7-Year</td><td style = \"text-align: left;\">07/25/2024</td><td style = \"text-align: left;\">07/31/2024</td><td style = \"text-align: left;\">07/31/2031</td><td style = \"text-align: right;\">99.7773</td><td style = \"font-style: italic; text-align: right;\">missing</td><td style = \"text-align: right;\">0.04162</td><td style = \"text-align: left;\">Semi-Annual</td><td style = \"text-align: right;\">0.04125</td></tr><tr><td class = \"rowNumber\" style = \"font-weight: bold; text-align: right;\">9</td><td style = \"text-align: left;\">91282CLA7</td><td style = \"text-align: left;\">Note</td><td style = \"text-align: left;\">2-Year</td><td style = \"text-align: left;\">07/24/2024</td><td style = \"text-align: left;\">07/31/2024</td><td style = \"text-align: left;\">07/31/2026</td><td style = \"text-align: right;\">100.0</td><td style = \"font-style: italic; text-align: right;\">missing</td><td style = \"font-style: italic; text-align: right;\">missing</td><td style = \"text-align: left;\">Quarterly</td><td style = \"font-style: italic; text-align: right;\">missing</td></tr><tr><td class = \"rowNumber\" style = \"font-weight: bold; text-align: right;\">10</td><td style = \"text-align: left;\">91282CLC3</td><td style = \"text-align: left;\">Note</td><td style = \"text-align: left;\">5-Year</td><td style = \"text-align: left;\">07/24/2024</td><td style = \"text-align: left;\">07/31/2024</td><td style = \"text-align: left;\">07/31/2029</td><td style = \"text-align: right;\">99.4583</td><td style = \"font-style: italic; text-align: right;\">missing</td><td style = \"text-align: right;\">0.04121</td><td style = \"text-align: left;\">Semi-Annual</td><td style = \"text-align: right;\">0.04</td></tr><tr><td class = \"rowNumber\" style = \"font-weight: bold; text-align: right;\">11</td><td style = \"text-align: left;\">91282CLB5</td><td style = \"text-align: left;\">Note</td><td style = \"text-align: left;\">2-Year</td><td style = \"text-align: left;\">07/23/2024</td><td style = \"text-align: left;\">07/31/2024</td><td style = \"text-align: left;\">07/31/2026</td><td style = \"text-align: right;\">99.8883</td><td style = \"font-style: italic; text-align: right;\">missing</td><td style = \"text-align: right;\">0.04434</td><td style = \"text-align: left;\">Semi-Annual</td><td style = \"text-align: right;\">0.04375</td></tr><tr><td class = \"rowNumber\" style = \"font-weight: bold; text-align: right;\">12</td><td style = \"text-align: left;\">91282CLE9</td><td style = \"text-align: left;\">Note</td><td style = \"text-align: left;\">10-Year</td><td style = \"text-align: left;\">07/18/2024</td><td style = \"text-align: left;\">07/31/2024</td><td style = \"text-align: left;\">07/15/2034</td><td style = \"text-align: right;\">100.013</td><td style = \"font-style: italic; text-align: right;\">missing</td><td style = \"text-align: right;\">0.01883</td><td style = \"text-align: left;\">Semi-Annual</td><td style = \"text-align: right;\">0.01875</td></tr><tr><td class = \"rowNumber\" style = \"font-weight: bold; text-align: right;\">13</td><td style = \"text-align: left;\">91282CKZ3</td><td style = \"text-align: left;\">Note</td><td style = \"text-align: left;\">3-Year</td><td style = \"text-align: left;\">07/09/2024</td><td style = \"text-align: left;\">07/15/2024</td><td style = \"text-align: left;\">07/15/2027</td><td style = \"text-align: right;\">99.9332</td><td style = \"font-style: italic; text-align: right;\">missing</td><td style = \"text-align: right;\">0.04399</td><td style = \"text-align: left;\">Semi-Annual</td><td style = \"text-align: right;\">0.04375</td></tr><tr><td style = \"text-align: right;\">&vellip;</td><td style = \"text-align: right;\">&vellip;</td><td style = \"text-align: right;\">&vellip;</td><td style = \"text-align: right;\">&vellip;</td><td style = \"text-align: right;\">&vellip;</td><td style = \"text-align: right;\">&vellip;</td><td style = \"text-align: right;\">&vellip;</td><td style = \"text-align: right;\">&vellip;</td><td style = \"text-align: right;\">&vellip;</td><td style = \"text-align: right;\">&vellip;</td><td style = \"text-align: right;\">&vellip;</td><td style = \"text-align: right;\">&vellip;</td></tr><tr><td class = \"rowNumber\" style = \"font-weight: bold; text-align: right;\">298</td><td style = \"text-align: left;\">912810SN9</td><td style = \"text-align: left;\">Bond</td><td style = \"text-align: left;\">30-Year</td><td style = \"text-align: left;\">05/13/2020</td><td style = \"text-align: left;\">05/15/2020</td><td style = \"text-align: left;\">05/15/2050</td><td style = \"text-align: right;\">97.7341</td><td style = \"font-style: italic; text-align: right;\">missing</td><td style = \"text-align: right;\">0.01342</td><td style = \"text-align: left;\">Semi-Annual</td><td style = \"text-align: right;\">0.0125</td></tr><tr><td class = \"rowNumber\" style = \"font-weight: bold; text-align: right;\">299</td><td style = \"text-align: left;\">912828ZQ6</td><td style = \"text-align: left;\">Note</td><td style = \"text-align: left;\">10-Year</td><td style = \"text-align: left;\">05/12/2020</td><td style = \"text-align: left;\">05/15/2020</td><td style = \"text-align: left;\">05/15/2030</td><td style = \"text-align: right;\">99.2769</td><td style = \"font-style: italic; text-align: right;\">missing</td><td style = \"text-align: right;\">0.007</td><td style = \"text-align: left;\">Semi-Annual</td><td style = \"text-align: right;\">0.00625</td></tr><tr><td class = \"rowNumber\" style = \"font-weight: bold; text-align: right;\">300</td><td style = \"text-align: left;\">912828ZP8</td><td style = \"text-align: left;\">Note</td><td style = \"text-align: left;\">3-Year</td><td style = \"text-align: left;\">05/11/2020</td><td style = \"text-align: left;\">05/15/2020</td><td style = \"text-align: left;\">05/15/2023</td><td style = \"text-align: right;\">99.6863</td><td style = \"font-style: italic; text-align: right;\">missing</td><td style = \"text-align: right;\">0.0023</td><td style = \"text-align: left;\">Semi-Annual</td><td style = \"text-align: right;\">0.00125</td></tr><tr><td class = \"rowNumber\" style = \"font-weight: bold; text-align: right;\">301</td><td style = \"text-align: left;\">912828ZK9</td><td style = \"text-align: left;\">Note</td><td style = \"text-align: left;\">2-Year</td><td style = \"text-align: left;\">04/28/2020</td><td style = \"text-align: left;\">04/30/2020</td><td style = \"text-align: left;\">04/30/2022</td><td style = \"text-align: right;\">100.0</td><td style = \"font-style: italic; text-align: right;\">missing</td><td style = \"font-style: italic; text-align: right;\">missing</td><td style = \"text-align: left;\">Quarterly</td><td style = \"font-style: italic; text-align: right;\">missing</td></tr><tr><td class = \"rowNumber\" style = \"font-weight: bold; text-align: right;\">302</td><td style = \"text-align: left;\">912828ZN3</td><td style = \"text-align: left;\">Note</td><td style = \"text-align: left;\">7-Year</td><td style = \"text-align: left;\">04/28/2020</td><td style = \"text-align: left;\">04/30/2020</td><td style = \"text-align: left;\">04/30/2027</td><td style = \"text-align: right;\">99.8284</td><td style = \"font-style: italic; text-align: right;\">missing</td><td style = \"text-align: right;\">0.00525</td><td style = \"text-align: left;\">Semi-Annual</td><td style = \"text-align: right;\">0.005</td></tr><tr><td class = \"rowNumber\" style = \"font-weight: bold; text-align: right;\">303</td><td style = \"text-align: left;\">912828ZM5</td><td style = \"text-align: left;\">Note</td><td style = \"text-align: left;\">2-Year</td><td style = \"text-align: left;\">04/27/2020</td><td style = \"text-align: left;\">04/30/2020</td><td style = \"text-align: left;\">04/30/2022</td><td style = \"text-align: right;\">99.7926</td><td style = \"font-style: italic; text-align: right;\">missing</td><td style = \"text-align: right;\">0.00229</td><td style = \"text-align: left;\">Semi-Annual</td><td style = \"text-align: right;\">0.00125</td></tr><tr><td class = \"rowNumber\" style = \"font-weight: bold; text-align: right;\">304</td><td style = \"text-align: left;\">912828ZL7</td><td style = \"text-align: left;\">Note</td><td style = \"text-align: left;\">5-Year</td><td style = \"text-align: left;\">04/27/2020</td><td style = \"text-align: left;\">04/30/2020</td><td style = \"text-align: left;\">04/30/2025</td><td style = \"text-align: right;\">99.906</td><td style = \"font-style: italic; text-align: right;\">missing</td><td style = \"text-align: right;\">0.00394</td><td style = \"text-align: left;\">Semi-Annual</td><td style = \"text-align: right;\">0.00375</td></tr><tr><td class = \"rowNumber\" style = \"font-weight: bold; text-align: right;\">305</td><td style = \"text-align: left;\">912828ZJ2</td><td style = \"text-align: left;\">Note</td><td style = \"text-align: left;\">5-Year</td><td style = \"text-align: left;\">04/23/2020</td><td style = \"text-align: left;\">04/30/2020</td><td style = \"text-align: left;\">04/15/2025</td><td style = \"text-align: right;\">102.366</td><td style = \"font-style: italic; text-align: right;\">missing</td><td style = \"text-align: right;\">-0.0032</td><td style = \"text-align: left;\">Semi-Annual</td><td style = \"text-align: right;\">0.00125</td></tr><tr><td class = \"rowNumber\" style = \"font-weight: bold; text-align: right;\">306</td><td style = \"text-align: left;\">912828ZH6</td><td style = \"text-align: left;\">Note</td><td style = \"text-align: left;\">3-Year</td><td style = \"text-align: left;\">04/06/2020</td><td style = \"text-align: left;\">04/15/2020</td><td style = \"text-align: left;\">04/15/2023</td><td style = \"text-align: right;\">99.7078</td><td style = \"font-style: italic; text-align: right;\">missing</td><td style = \"text-align: right;\">0.00348</td><td style = \"text-align: left;\">Semi-Annual</td><td style = \"text-align: right;\">0.0025</td></tr><tr><td class = \"rowNumber\" style = \"font-weight: bold; text-align: right;\">307</td><td style = \"text-align: left;\">912828ZE3</td><td style = \"text-align: left;\">Note</td><td style = \"text-align: left;\">7-Year</td><td style = \"text-align: left;\">03/26/2020</td><td style = \"text-align: left;\">03/31/2020</td><td style = \"text-align: left;\">03/31/2027</td><td style = \"text-align: right;\">99.6246</td><td style = \"font-style: italic; text-align: right;\">missing</td><td style = \"text-align: right;\">0.0068</td><td style = \"text-align: left;\">Semi-Annual</td><td style = \"text-align: right;\">0.00625</td></tr><tr><td class = \"rowNumber\" style = \"font-weight: bold; text-align: right;\">308</td><td style = \"text-align: left;\">912828ZF0</td><td style = \"text-align: left;\">Note</td><td style = \"text-align: left;\">5-Year</td><td style = \"text-align: left;\">03/25/2020</td><td style = \"text-align: left;\">03/31/2020</td><td style = \"text-align: left;\">03/31/2025</td><td style = \"text-align: right;\">99.8275</td><td style = \"font-style: italic; text-align: right;\">missing</td><td style = \"text-align: right;\">0.00535</td><td style = \"text-align: left;\">Semi-Annual</td><td style = \"text-align: right;\">0.005</td></tr><tr><td class = \"rowNumber\" style = \"font-weight: bold; text-align: right;\">309</td><td style = \"text-align: left;\">912828ZG8</td><td style = \"text-align: left;\">Note</td><td style = \"text-align: left;\">2-Year</td><td style = \"text-align: left;\">03/24/2020</td><td style = \"text-align: left;\">03/31/2020</td><td style = \"text-align: left;\">03/31/2022</td><td style = \"text-align: right;\">99.9542</td><td style = \"font-style: italic; text-align: right;\">missing</td><td style = \"text-align: right;\">0.00398</td><td style = \"text-align: left;\">Semi-Annual</td><td style = \"text-align: right;\">0.00375</td></tr></tbody></table></div>"
      ],
      "text/latex": [
       "\\begin{tabular}{r|ccccccc}\n",
       "\t& CUSIP & Security Type & Security Term & Auction Date & Issue Date & Maturity Date & \\\\\n",
       "\t\\hline\n",
       "\t& String15 & String7 & String7 & String15 & String15 & String15 & \\\\\n",
       "\t\\hline\n",
       "\t1 & 91282CLJ8 & Note & 7-Year & 08/29/2024 & 09/03/2024 & 08/31/2031 & $\\dots$ \\\\\n",
       "\t2 & 91282CLK5 & Note & 5-Year & 08/28/2024 & 09/03/2024 & 08/31/2029 & $\\dots$ \\\\\n",
       "\t3 & 91282CLH2 & Note & 2-Year & 08/27/2024 & 09/03/2024 & 08/31/2026 & $\\dots$ \\\\\n",
       "\t4 & 912810UD8 & Bond & 20-Year & 08/21/2024 & 09/03/2024 & 08/15/2044 & $\\dots$ \\\\\n",
       "\t5 & 912810UC0 & Bond & 30-Year & 08/08/2024 & 08/15/2024 & 08/15/2054 & $\\dots$ \\\\\n",
       "\t6 & 91282CLF6 & Note & 10-Year & 08/07/2024 & 08/15/2024 & 08/15/2034 & $\\dots$ \\\\\n",
       "\t7 & 91282CLG4 & Note & 3-Year & 08/06/2024 & 08/15/2024 & 08/15/2027 & $\\dots$ \\\\\n",
       "\t8 & 91282CLD1 & Note & 7-Year & 07/25/2024 & 07/31/2024 & 07/31/2031 & $\\dots$ \\\\\n",
       "\t9 & 91282CLA7 & Note & 2-Year & 07/24/2024 & 07/31/2024 & 07/31/2026 & $\\dots$ \\\\\n",
       "\t10 & 91282CLC3 & Note & 5-Year & 07/24/2024 & 07/31/2024 & 07/31/2029 & $\\dots$ \\\\\n",
       "\t11 & 91282CLB5 & Note & 2-Year & 07/23/2024 & 07/31/2024 & 07/31/2026 & $\\dots$ \\\\\n",
       "\t12 & 91282CLE9 & Note & 10-Year & 07/18/2024 & 07/31/2024 & 07/15/2034 & $\\dots$ \\\\\n",
       "\t13 & 91282CKZ3 & Note & 3-Year & 07/09/2024 & 07/15/2024 & 07/15/2027 & $\\dots$ \\\\\n",
       "\t14 & 91282CKW0 & Note & 7-Year & 06/27/2024 & 07/01/2024 & 06/30/2031 & $\\dots$ \\\\\n",
       "\t15 & 91282CKX8 & Note & 5-Year & 06/26/2024 & 07/01/2024 & 06/30/2029 & $\\dots$ \\\\\n",
       "\t16 & 91282CKY6 & Note & 2-Year & 06/25/2024 & 07/01/2024 & 06/30/2026 & $\\dots$ \\\\\n",
       "\t17 & 91282CKV2 & Note & 3-Year & 06/10/2024 & 06/17/2024 & 06/15/2027 & $\\dots$ \\\\\n",
       "\t18 & 91282CKU4 & Note & 7-Year & 05/29/2024 & 05/31/2024 & 05/31/2031 & $\\dots$ \\\\\n",
       "\t19 & 91282CKS9 & Note & 2-Year & 05/28/2024 & 05/31/2024 & 05/31/2026 & $\\dots$ \\\\\n",
       "\t20 & 91282CKT7 & Note & 5-Year & 05/28/2024 & 05/31/2024 & 05/31/2029 & $\\dots$ \\\\\n",
       "\t21 & 912810UB2 & Bond & 20-Year & 05/22/2024 & 05/31/2024 & 05/15/2044 & $\\dots$ \\\\\n",
       "\t22 & 912810UA4 & Bond & 30-Year & 05/09/2024 & 05/15/2024 & 05/15/2054 & $\\dots$ \\\\\n",
       "\t23 & 91282CKQ3 & Note & 10-Year & 05/08/2024 & 05/15/2024 & 05/15/2034 & $\\dots$ \\\\\n",
       "\t24 & 91282CKR1 & Note & 3-Year & 05/07/2024 & 05/15/2024 & 05/15/2027 & $\\dots$ \\\\\n",
       "\t25 & 91282CKN0 & Note & 7-Year & 04/25/2024 & 04/30/2024 & 04/30/2031 & $\\dots$ \\\\\n",
       "\t26 & 91282CKM2 & Note & 2-Year & 04/24/2024 & 04/30/2024 & 04/30/2026 & $\\dots$ \\\\\n",
       "\t27 & 91282CKP5 & Note & 5-Year & 04/24/2024 & 04/30/2024 & 04/30/2029 & $\\dots$ \\\\\n",
       "\t28 & 91282CKK6 & Note & 2-Year & 04/23/2024 & 04/30/2024 & 04/30/2026 & $\\dots$ \\\\\n",
       "\t29 & 91282CKL4 & Note & 5-Year & 04/18/2024 & 04/30/2024 & 04/15/2029 & $\\dots$ \\\\\n",
       "\t30 & 91282CKJ9 & Note & 3-Year & 04/09/2024 & 04/15/2024 & 04/15/2027 & $\\dots$ \\\\\n",
       "\t$\\dots$ & $\\dots$ & $\\dots$ & $\\dots$ & $\\dots$ & $\\dots$ & $\\dots$ &  \\\\\n",
       "\\end{tabular}\n"
      ],
      "text/plain": [
       "\u001b[1m309×11 DataFrame\u001b[0m\n",
       "\u001b[1m Row \u001b[0m│\u001b[1m CUSIP     \u001b[0m\u001b[1m Security Type \u001b[0m\u001b[1m Security Term \u001b[0m\u001b[1m Auction Date \u001b[0m\u001b[1m Issue Date \u001b[0m\u001b[1m Matu\u001b[0m ⋯\n",
       "     │\u001b[90m String15  \u001b[0m\u001b[90m String7       \u001b[0m\u001b[90m String7       \u001b[0m\u001b[90m String15     \u001b[0m\u001b[90m String15   \u001b[0m\u001b[90m Stri\u001b[0m ⋯\n",
       "─────┼──────────────────────────────────────────────────────────────────────────\n",
       "   1 │ 91282CLJ8  Note           7-Year         08/29/2024    09/03/2024  08/3 ⋯\n",
       "   2 │ 91282CLK5  Note           5-Year         08/28/2024    09/03/2024  08/3\n",
       "   3 │ 91282CLH2  Note           2-Year         08/27/2024    09/03/2024  08/3\n",
       "   4 │ 912810UD8  Bond           20-Year        08/21/2024    09/03/2024  08/1\n",
       "   5 │ 912810UC0  Bond           30-Year        08/08/2024    08/15/2024  08/1 ⋯\n",
       "   6 │ 91282CLF6  Note           10-Year        08/07/2024    08/15/2024  08/1\n",
       "   7 │ 91282CLG4  Note           3-Year         08/06/2024    08/15/2024  08/1\n",
       "   8 │ 91282CLD1  Note           7-Year         07/25/2024    07/31/2024  07/3\n",
       "   9 │ 91282CLA7  Note           2-Year         07/24/2024    07/31/2024  07/3 ⋯\n",
       "  10 │ 91282CLC3  Note           5-Year         07/24/2024    07/31/2024  07/3\n",
       "  11 │ 91282CLB5  Note           2-Year         07/23/2024    07/31/2024  07/3\n",
       "  ⋮  │     ⋮            ⋮              ⋮             ⋮            ⋮            ⋱\n",
       " 300 │ 912828ZP8  Note           3-Year         05/11/2020    05/15/2020  05/1\n",
       " 301 │ 912828ZK9  Note           2-Year         04/28/2020    04/30/2020  04/3 ⋯\n",
       " 302 │ 912828ZN3  Note           7-Year         04/28/2020    04/30/2020  04/3\n",
       " 303 │ 912828ZM5  Note           2-Year         04/27/2020    04/30/2020  04/3\n",
       " 304 │ 912828ZL7  Note           5-Year         04/27/2020    04/30/2020  04/3\n",
       " 305 │ 912828ZJ2  Note           5-Year         04/23/2020    04/30/2020  04/1 ⋯\n",
       " 306 │ 912828ZH6  Note           3-Year         04/06/2020    04/15/2020  04/1\n",
       " 307 │ 912828ZE3  Note           7-Year         03/26/2020    03/31/2020  03/3\n",
       " 308 │ 912828ZF0  Note           5-Year         03/25/2020    03/31/2020  03/3\n",
       " 309 │ 912828ZG8  Note           2-Year         03/24/2020    03/31/2020  03/3 ⋯\n",
       "\u001b[36m                                                  6 columns and 288 rows omitted\u001b[0m"
      ]
     },
     "execution_count": 4,
     "metadata": {},
     "output_type": "execute_result"
    }
   ],
   "source": [
    "notes_bonds_dataset = filter(Symbol(\"Security Type\") => x-> (x == \"Note\" || x == \"Bond\"), dataset)"
   ]
  },
  {
   "cell_type": "markdown",
   "id": "ffdfa7ec-89e0-4d16-823a-d4f870d5e9b2",
   "metadata": {},
   "source": [
    "Finally, we build an [instance of the `DiscreteCompoundingModel` type](https://varnerlab.github.io/VLQuantitativeFinancePackage.jl/dev/fixed/#VLQuantitativeFinancePackage.DiscreteCompoundingModel) and store this discount model in the `discount_model` variable:"
   ]
  },
  {
   "cell_type": "code",
   "execution_count": 5,
   "id": "f521deb3-7d51-44cb-a997-77c15811c0a5",
   "metadata": {},
   "outputs": [],
   "source": [
    "discount_model = DiscreteCompoundingModel();"
   ]
  },
  {
   "cell_type": "markdown",
   "id": "ca651486",
   "metadata": {},
   "source": [
    "___"
   ]
  },
  {
   "cell_type": "markdown",
   "id": "e73e8b52-58a3-4f72-8958-e0fc9abcc565",
   "metadata": {},
   "source": [
    "## Task 1: Compute prices for a Bill, Note, and Bond to check our implementation\n",
    "In this task, we will compute the price of a Treasury bill, note, and bond using the treasury model we created in class. \n",
    "\n",
    "The teaching team has selected a random bill, note, and bond from the dataset. You will construct the corresponding treasury model instance, compute the price for each of these securities, and compare the calculated and observed prices. \n",
    "\n",
    "> __Example:__ Let's compute the price of a `26-Week` T-bill with par value $V_{P}$ = `100 USD` and a value of $\\bar{r}$ = `0.04865.` The observed price for this security is $V_{B}$ = `97.6315 USD`. Assume two compounding periods per year.\n",
    "\n",
    "Create an instance of [the `MyUSTreasuryZeroCouponBondModel` type](https://varnerlab.github.io/VLQuantitativeFinancePackage.jl/dev/fixed/#VLQuantitativeFinancePackage.MyUSTreasuryZeroCouponBondModel) using a [custom `build(...)` method](https://varnerlab.github.io/VLQuantitativeFinancePackage.jl/dev/fixed/#VLQuantitativeFinancePackage.build-Tuple{Type{MyUSTreasuryZeroCouponBondModel},%20NamedTuple}), assuming the data above. Pass the data into [the `build(...)` method](https://varnerlab.github.io/VLQuantitativeFinancePackage.jl/dev/fixed/#VLQuantitativeFinancePackage.build-Tuple{Type{MyUSTreasuryZeroCouponBondModel},%20NamedTuple}), and use the short-cut syntax to compute the price. Save the updated model in the `zero_coupon_model` variable."
   ]
  },
  {
   "cell_type": "code",
   "execution_count": 6,
   "id": "e6854f7a-effb-43e1-af0d-f6b128cce8e9",
   "metadata": {},
   "outputs": [
    {
     "data": {
      "text/plain": [
       "MyUSTreasuryZeroCouponBondModel(100.0, 0.04865, 0.4986301369863014, 97.63169388203484, 2, Dict(0 => -97.63169388203484, 1 => 100.0), Dict(0 => 1.0, 1 => 1.024257554322746))"
      ]
     },
     "execution_count": 6,
     "metadata": {},
     "output_type": "execute_result"
    }
   ],
   "source": [
    "zero_coupon_model = let\n",
    "\n",
    "    # initialize -\n",
    "    zero_coupon_model = nothing;\n",
    "\n",
    "    # TODO: Build a zero_coupon_model instance using the `build(...)` function and the `MyUSTreasuryZeroCouponBondModel` type, \n",
    "    # TODO: Pass in the appropriate parameters for the 26-week bill. \n",
    "    # TODO: Use the `securityterm(...)` function to convert the string \"26-Week\" into a `SecurityTerm` type for the `T` parameter.\n",
    "    # TODO: Finally, pipe the result of the `build(...)` function into the `discount_model` instance to populate the `zero_coupon_model` instance.\n",
    "    # throw(ErrorException(\"TODO: Implement the zero_coupon_model construction logic here. Comment out this line when you implement the logic.\"))\n",
    "\n",
    "    zero_coupon_model = build(MyUSTreasuryZeroCouponBondModel, (\n",
    "        n = 2, par = 100, \n",
    "            T = \"26-Week\" |> securityterm,\n",
    "            rate = 0.04865,\n",
    "    )) |> discount_model;\n",
    "    zero_coupon_model; # return\n",
    "end"
   ]
  },
  {
   "cell_type": "markdown",
   "id": "62f40a66-2242-4d48-8b44-1e2a9a4370dd",
   "metadata": {},
   "source": [
    "Now that we have calculated the price, compare the calculated and observed prices using the [@assert macro](https://docs.julialang.org/en/v1/base/base/#Base.@assert) in combination with [the `isapprox(...)` method](https://docs.julialang.org/en/v1/base/math/#Base.isapprox). \n",
    "\n",
    "> __Test:__ If the computed and observed prices are different, i.e., they have a relative difference tolerance of `rtol`$>$`1e-4`, then the [@assert macro](https://docs.julialang.org/en/v1/base/base/#Base.@assert) will `fail,` resulting in an [AssertionError](https://docs.julialang.org/en/v1/base/base/#Core.AssertionError). Otherwise, the [@assert macro](https://docs.julialang.org/en/v1/base/base/#Base.@assert) will `pass` silently (nothing happens).\n",
    "\n",
    "So, what do we see?"
   ]
  },
  {
   "cell_type": "code",
   "execution_count": 7,
   "id": "b186affa-2f7e-4bbe-9b7d-ba55cbbd5f81",
   "metadata": {},
   "outputs": [
    {
     "data": {
      "text/plain": [
       "97.6315"
      ]
     },
     "execution_count": 7,
     "metadata": {},
     "output_type": "execute_result"
    }
   ],
   "source": [
    "observed_bill_price = let\n",
    "    observed_bill_price = 97.6315;\n",
    "    @assert isapprox(observed_bill_price, zero_coupon_model.price, rtol=1e-4)\n",
    "    observed_bill_price;\n",
    "end"
   ]
  },
  {
   "cell_type": "markdown",
   "id": "faa68886-ac0a-44d7-8ddd-e5b5e6dd6c2e",
   "metadata": {},
   "source": [
    "Next, compute the price of a Treasury Note.\n",
    "\n",
    "> __Example:__ Compute the price of a `7-Year` T-Note with par value $V_{P}$ = `100 USD`, a value of $\\bar{r}$ = `0.04162`, and coupon rate $\\bar{c}$ = `0.04125.` The observed sale price for this security at auction was $V_{B}$ = `98.9288 USD`. Assume two compounding periods per year.\n",
    "\n",
    "Create an [instance of the `MyUSTreasuryCouponSecurityModel` type](https://varnerlab.github.io/VLQuantitativeFinancePackage.jl/dev/fixed/#VLQuantitativeFinancePackage.MyUSTreasuryCouponSecurityModel) using [a custom `build(...)` method](https://varnerlab.github.io/VLQuantitativeFinancePackage.jl/dev/fixed/#VLQuantitativeFinancePackage.build-Tuple{Type{MyUSTreasuryCouponSecurityModel},%20NamedTuple}), assuming the data above. Pass the appropriate data into [the `build(...)` method](https://varnerlab.github.io/VLQuantitativeFinancePackage.jl/dev/fixed/#VLQuantitativeFinancePackage.build-Tuple{Type{MyUSTreasuryCouponSecurityModel},%20NamedTuple}) and use the short-cut syntax to compute the price. Save the updated model in the `note_coupon_model` variable."
   ]
  },
  {
   "cell_type": "code",
   "execution_count": 8,
   "id": "2e22f327-b4f5-4847-8ee4-a318c39eacea",
   "metadata": {},
   "outputs": [],
   "source": [
    "note_coupon_model = let\n",
    "\n",
    "    # initialize -\n",
    "    note_coupon_model = nothing;\n",
    "\n",
    "    # TODO: Build a note_coupon_model instance using the `build(...)` function and the `MyUSTreasuryCouponSecurityModel` type,\n",
    "    # TODO: Pass in the appropriate parameters for the 7-year note (don't forget to use the `securityterm(...)` function for the `T` parameter).\n",
    "    # TODO: Finally, pipe the result of the `build(...)` function into the `discount_model` instance to populate the `note_coupon_model` instance.\n",
    "    # throw(ErrorException(\"TODO: Implement the note_coupon_model construction logic here. Comment out this line when you implement the logic.\"))\n",
    "\n",
    "    note_coupon_model = build(MyUSTreasuryCouponSecurityModel, (\n",
    "        λ = 2, par = 100.0,\n",
    "        T = \"7-Year\" |> securityterm,\n",
    "        rate = 0.04162,\n",
    "        coupon = 0.04125,\n",
    "    )) |> discount_model;\n",
    "    note_coupon_model; # return\n",
    "end;"
   ]
  },
  {
   "cell_type": "markdown",
   "id": "20097ad0-b28a-421d-8061-caec365aaed2",
   "metadata": {},
   "source": [
    "Now that we have calculated the price, compare the calculated and observed prices using the [@assert macro](https://docs.julialang.org/en/v1/base/base/#Base.@assert) in combination with [the `isapprox(...)` method](https://docs.julialang.org/en/v1/base/math/#Base.isapprox). \n",
    "\n",
    "> __Test:__ If the computed and observed prices are different, i.e., they have a relative difference tolerance of `rtol`$>$`1e-4`, then the [@assert macro](https://docs.julialang.org/en/v1/base/base/#Base.@assert) will `fail,` resulting in an [AssertionError](https://docs.julialang.org/en/v1/base/base/#Core.AssertionError). Otherwise, the [@assert macro](https://docs.julialang.org/en/v1/base/base/#Base.@assert) will `pass` silently (nothing happens).\n",
    "\n",
    "So, what do we see?"
   ]
  },
  {
   "cell_type": "code",
   "execution_count": 9,
   "id": "773ad508-e670-4291-b279-53ef944e65a9",
   "metadata": {},
   "outputs": [
    {
     "data": {
      "text/plain": [
       "99.7773"
      ]
     },
     "execution_count": 9,
     "metadata": {},
     "output_type": "execute_result"
    }
   ],
   "source": [
    "observed_note_price = let\n",
    "    observed_note_price = 99.7773;\n",
    "    @assert isapprox(observed_note_price, note_coupon_model.price, rtol=1e-4)\n",
    "    observed_note_price;\n",
    "end"
   ]
  },
  {
   "cell_type": "markdown",
   "id": "bdd1c4c8-514a-45d5-b3bc-6d2a4464c752",
   "metadata": {},
   "source": [
    "Next, compute the price of a Treasury Bond.\n",
    "\n",
    "> __Example:__ Let's compute the price of a `30-Year` T-Bond with par value $V_{P}$ = `100 USD`, a value of $\\bar{r}$ = `0.04314`, and coupon rate $\\bar{c}$ = `0.0425.` The observed sale price for this security at auction was $V_{B}$ = `98.9288 USD`. Assume two compounding periods per year.\n",
    "\n",
    "Create an [instance of the `MyUSTreasuryCouponSecurityModel` type](https://varnerlab.github.io/VLQuantitativeFinancePackage.jl/dev/fixed/#VLQuantitativeFinancePackage.MyUSTreasuryCouponSecurityModel) using [a custom `build(...)` method](https://varnerlab.github.io/VLQuantitativeFinancePackage.jl/dev/fixed/#VLQuantitativeFinancePackage.build-Tuple{Type{MyUSTreasuryCouponSecurityModel},%20NamedTuple}), assuming the data above. Pass the appropriate data into [the `build(...)` method](https://varnerlab.github.io/VLQuantitativeFinancePackage.jl/dev/fixed/#VLQuantitativeFinancePackage.build-Tuple{Type{MyUSTreasuryCouponSecurityModel},%20NamedTuple}) and use the short-cut syntax to compute the price. Save the updated model in the `bond_coupon_model` variable."
   ]
  },
  {
   "cell_type": "code",
   "execution_count": 10,
   "id": "93f5e3eb-2b63-402e-91d1-ac5499500e40",
   "metadata": {},
   "outputs": [],
   "source": [
    "bond_coupon_model = let\n",
    "\n",
    "    # initialize -\n",
    "    bond_coupon_model = nothing;\n",
    "\n",
    "    # TODO: Build a bond_coupon_model instance using the `build(...)` function and the `MyUSTreasuryCouponSecurityModel` type,\n",
    "    # TODO: Pass in the appropriate parameters for the 30-year bond (don't forget to use the `securityterm(...)` function for the `T` parameter).\n",
    "    # TODO: Finally, pipe the result of the `build(...)` function into the `discount_model` instance to populate the `bond_coupon_model` instance.\n",
    "    # throw(ErrorException(\"TODO: Implement the bond_coupon_model construction logic here. Comment out this line when you implement the logic.\"))\n",
    "\n",
    "    bond_coupon_model = build(MyUSTreasuryCouponSecurityModel, (\n",
    "        λ = 2, par = 100.0,    \n",
    "        T = \"30-Year\" |> securityterm,\n",
    "        rate = 0.04314,\n",
    "        coupon = 0.0425,\n",
    "    )) |> discount_model;\n",
    "\n",
    "    bond_coupon_model; # return\n",
    "end;"
   ]
  },
  {
   "cell_type": "markdown",
   "id": "49d86547-e5d4-4d9d-98d8-6d86b4b0b47d",
   "metadata": {},
   "source": [
    "Now that we have calculated the price, compare the calculated and observed prices using the [@assert macro](https://docs.julialang.org/en/v1/base/base/#Base.@assert) in combination with [the `isapprox(...)` method](https://docs.julialang.org/en/v1/base/math/#Base.isapprox). \n",
    "\n",
    "> __Test:__ If the computed and observed prices are different, i.e., they have a relative difference tolerance of `rtol`$>$`1e-4`, then the [@assert macro](https://docs.julialang.org/en/v1/base/base/#Base.@assert) will `fail,` resulting in an [AssertionError](https://docs.julialang.org/en/v1/base/base/#Core.AssertionError). Otherwise, the [@assert macro](https://docs.julialang.org/en/v1/base/base/#Base.@assert) will `pass` silently (nothing happens).\n",
    "\n",
    "So, what do we see?"
   ]
  },
  {
   "cell_type": "code",
   "execution_count": 11,
   "id": "9fc0fd72-17dd-4ff4-8e27-eaa915f7d2e3",
   "metadata": {},
   "outputs": [
    {
     "data": {
      "text/plain": [
       "98.9288"
      ]
     },
     "execution_count": 11,
     "metadata": {},
     "output_type": "execute_result"
    }
   ],
   "source": [
    "observed_bond_price = let\n",
    "    observed_bond_price = 98.9288;\n",
    "    @assert isapprox(observed_bond_price, bond_coupon_model.price, rtol=1e-4)\n",
    "    observed_bond_price;\n",
    "end"
   ]
  },
  {
   "cell_type": "markdown",
   "id": "d4b38812-f871-4af6-b9fd-d4161b038192",
   "metadata": {},
   "source": [
    "## Task 2: Do bills show the price asymmetry property? \n",
    "In class, we showed that notes (and, by extension, bonds) show price change asymmetry. However, we have not explored whether Bills also have this property. In this task, you'll use the treasury bill model that we created above and explore the price asymmetry question by simulation.\n",
    "\n",
    "> __Strategy:__ To simulate the asymmetry of price changes following changes in the yield (discount rate), with all other variables held constant, we'll generate a new rate $\\bar{r}\\leftarrow\\beta\\cdot\\bar{r}$, where $\\beta$ is a perturbation value. If $\\beta<1$, the perturbed interest rate is _less than_ the nominal rate. If $\\beta=1$, the perturbed interest rate _equals_ the nominal rate, and if $\\beta>1$, the perturbed interest rate is _greater than_ the nominal rate. We'll then compute the price and the percentage change in price for each perturbed rate.\n",
    "\n",
    "Let's use the `zero_coupon_model` instance from above for this experiment.\n",
    "\n",
    "* First, specify the number of perturbation values in the `number_of_samples_task_2` variable. For this simulation, let `number_of_samples_task_2 = 7` (odd, so we capture the nominal case as the center data point).\n",
    "* Next, specify the lower bound in the `β₁` variable and the upper bound in the `β₂` variable; let `β₁ = 0.8` and `β₂ = 1.2.`\n",
    "* Finally, compute the perturbation array (stored in the `β::Array{Float64,1}` variable) using the [range function](https://docs.julialang.org/en/v1/base/math/#Base.range) in combination with the [Julia pipe |> operator](https://docs.julialang.org/en/v1/manual/functions/#Function-composition-and-piping), and the [collect function](https://docs.julialang.org/en/v1/base/collections/#Base.collect-Tuple{Type,%20Any}), which converts a range type to a collection, i.e., an array.\n",
    "\n",
    "Build the perturbation array:"
   ]
  },
  {
   "cell_type": "code",
   "execution_count": 12,
   "id": "5ca81fb5-47ef-4f07-a194-4eed8ad11a98",
   "metadata": {},
   "outputs": [],
   "source": [
    "number_of_samples_task_2  = 7;\n",
    "β₁ = 0.8;\n",
    "β₂ = 1.2;\n",
    "β = range(β₁, stop = β₂, length = number_of_samples_task_2) |> collect;"
   ]
  },
  {
   "cell_type": "markdown",
   "id": "b47230a9-6da8-4cd9-b595-d5e995e4edd2",
   "metadata": {},
   "source": [
    "`Finish`: Your job is to complete the implementation of the `Theorem 4` simulation for Bills, which we started below, and analyze the simulation results. We save the simulation results in the `simulation_results_task_2_array::Array{Float64,2}` array and display the results in a table using the `pretty_table(...)` function exported from the [PrettyTables.jl package](https://github.com/ronisbr/PrettyTables.jl).\n",
    "\n",
    "`Hint`: Check out [the Julia `deepcopy(...)` function](https://docs.julialang.org/en/v1/base/copy/#Base.deepcopy). When you complete your implementation and run the notebook, you should see a table similar (numbers different, but similar structure) to the in-class example. \n",
    "\n",
    "What do you see?"
   ]
  },
  {
   "cell_type": "code",
   "execution_count": 13,
   "id": "807b2757-5c65-4631-b5cb-943c7f0a0aba",
   "metadata": {},
   "outputs": [],
   "source": [
    "simulation_results_task_2_array = let\n",
    "    \n",
    "    # initialize -\n",
    "    VB = observed_bill_price;\n",
    "    simulation_results_task_2_array = Array{Float64,2}(undef, number_of_samples_task_2, 3);\n",
    "\n",
    "    # main loop\n",
    "    for i ∈ eachindex(β)\n",
    "        β_value = β[i]\n",
    "       \n",
    "        ### TODO: Build a deep copy of the zero-coupon model and update its rate. Alternatively, build a new model using the zcm parameters, and update the rate\n",
    "        model = deepcopy(zero_coupon_model);\n",
    "        model.rate = β_value*zero_coupon_model.rate\n",
    "        # throw(ErrorException(\"TODO: Implement the logic to create a perturbed model based on the zero_coupon_model and β_value. Comment out this line when you implement the logic.\"))\n",
    "        ### END SOLUTION\n",
    "        \n",
    "        # compute: use short-cut syntax and compute the price\n",
    "        perturbed_price = model |> discount_model |> x-> x.price\n",
    "        \n",
    "        # capture: put data in simulation_results_task_2_array\n",
    "        simulation_results_task_2_array[i,1] = β_value; # col 1: perturbation value\n",
    "        simulation_results_task_2_array[i,2] = 100*((model.rate - zero_coupon_model.rate)/(zero_coupon_model.rate));    # col 2: percentage change in r̄\n",
    "        simulation_results_task_2_array[i,3] = 100*((model.price - VB)/(VB)); # col 3: percentage change in the price of the Bill\n",
    "    end\n",
    "    simulation_results_task_2_array\n",
    "end;"
   ]
  },
  {
   "cell_type": "code",
   "execution_count": 14,
   "id": "e6c62e70-a3b4-45bb-a562-48d686657787",
   "metadata": {},
   "outputs": [
    {
     "name": "stdout",
     "output_type": "stream",
     "text": [
      "=========== ========== ==============\n",
      " \u001b[1m        β \u001b[0m \u001b[1m   Δr̄ (%) \u001b[0m \u001b[1m  ΔPrice (%) \u001b[0m\n",
      "=========== ========== ==============\n",
      "       0.8      -20.0      0.476102\n",
      "  0.866667   -13.3333      0.316965\n",
      "  0.933333   -6.66667      0.158331\n",
      "       1.0        0.0   0.000198586\n",
      "   1.06667    6.66667     -0.157434\n",
      "   1.13333    13.3333     -0.314571\n",
      "       1.2       20.0     -0.471212\n",
      "=========== ========== ==============\n"
     ]
    }
   ],
   "source": [
    "# let's make a table to display the results of the simulation for Task 2\n",
    "pretty_table(simulation_results_task_2_array, header=[\"β\",\"Δr̄ (%)\",\"ΔPrice (%)\"] , tf=tf_simple)"
   ]
  },
  {
   "cell_type": "markdown",
   "id": "3af1c711",
   "metadata": {},
   "source": [
    "#### Does Theorem 4 hold for T-bills?\n",
    "\n",
    "Based on the table above:\n",
    "1. Do you observe price asymmetry in T-bills? (Yes/No). Set `does_theorem_4_hold_for_bills` to `true` or `false` based on your observation.\n",
    "2. Which direction shows larger absolute price changes: rate increases or decreases?\n",
    "3. In one sentence, explain what this tells us about T-bill price sensitivity to yield changes."
   ]
  },
  {
   "cell_type": "code",
   "execution_count": 15,
   "id": "9c3f9f5b-0cbb-4916-be0c-da2a4503eb5e",
   "metadata": {},
   "outputs": [],
   "source": [
    "does_theorem_4_hold_for_bills = true; # update this value {true | false}"
   ]
  },
  {
   "cell_type": "markdown",
   "id": "e29a1da2-4733-4cc9-9271-6efe7ee99606",
   "metadata": {},
   "source": [
    "__Explain your answers here__ to Q2 and Q3 in a few sentences, providing reasoning based on the simulation results. This is a markdown cell, so you can use bullet points, numbered lists, or any other formatting that helps clarify your explanation.\n",
    "\n",
    "Q2 The absolute price changes are larger when rates decrease. For example, at ±20% yield changes, the magnitude is +0.476 for decreases and –0.471 for increases. Similarly, at ±13.3% yield changes, the magnitude is +0.317 vs. –0.315. The price rises are consistently larger than the corresponding declines.\n",
    "\n",
    "Q3 This result indicates that T-bill prices are more sensitive to yield decreases than to equivalent yield increases, confirming asymmetric price behavior."
   ]
  },
  {
   "cell_type": "code",
   "execution_count": 16,
   "id": "c6187c90",
   "metadata": {},
   "outputs": [],
   "source": [
    "did_I_answer_DQ1_flag = true; # update this value {true | false}"
   ]
  },
  {
   "cell_type": "markdown",
   "id": "b755d02e-991b-4532-bd2a-f5e287285ef6",
   "metadata": {},
   "source": [
    "## Task 3: Is price asymmetry a function of maturity?\n",
    "Finally, in class, we showed that coupon securities exhibited price asymmetry, i.e., the absolute percentage change in price was larger for decreases in $\\bar{r}\\downarrow$ compared to the response when $\\bar{r}\\uparrow$ increases. However, are longer-maturity instruments more sensitive to this effect, i.e., do they exhibit larger asymmetry? Let's do some calculations to explore this question.\n",
    "\n",
    "To start, create a hypothetical `T = 20-year` bond with the same parameters as the `30-year` bond we created above and compute its price. All parameters should be the same __except__ the duration. Save the populated model instance in the `short_duration_bond` variable:"
   ]
  },
  {
   "cell_type": "code",
   "execution_count": 17,
   "id": "21aa2f35-97dc-4247-9975-48a623cc41b0",
   "metadata": {},
   "outputs": [
    {
     "data": {
      "text/plain": [
       "MyUSTreasuryCouponSecurityModel(100.0, 0.04314, 0.0425, 20.0, 2, 99.14825074560238, Dict(5 => 1.909933652139833, 16 => 1.51031954661004, 20 => 1.3867440790618604, 35 => 1.0068722223196547, 12 => 1.6449070649110031, 24 => 1.2732796480913555, 28 => 1.1690989611727236, 8 => 1.791487939269013, 17 => 1.4784298154899222, 30 => 1.1202501563507812…), Dict(5 => 1.112604093665355, 16 => 1.4069870212364195, 20 => 1.5323663768137907, 35 => 2.110496200902611, 12 => 1.2918662976956525, 24 => 1.6689185311218726, 28 => 1.817639114030528, 8 => 1.1861648372955673, 17 => 1.4373357312844892, 30 => 1.8968977490904309…))"
      ]
     },
     "execution_count": 17,
     "metadata": {},
     "output_type": "execute_result"
    }
   ],
   "source": [
    "short_duration_bond  = let\n",
    "    \n",
    "    # initialize -\n",
    "    short_duration_bond = nothing;\n",
    "    \n",
    "    # TODO: Build a deep copy of the bond_coupon_model\n",
    "    # TODO: Update its T parameter to \"20-Year\" (don't forget to use the `securityterm(...)` function).\n",
    "    # TODO: Pipe the result into the `discount_model` instance to populate the `short_duration_bond` instance.\n",
    "    # throw(ErrorException(\"TODO: Implement the logic to create a short_duration_bond based on the bond_coupon_model with updated T parameter. Comment out this line when you implement the logic.\"))\n",
    "    short_duration_bond = deepcopy(bond_coupon_model);\n",
    "    short_duration_bond.T = \"20-Year\" |> securityterm;\n",
    "    short_duration_bond |> discount_model;\n",
    "    short_duration_bond; # return\n",
    "end"
   ]
  },
  {
   "cell_type": "markdown",
   "id": "bc0ba7c7-3eec-4024-a589-0ebb619b0231",
   "metadata": {},
   "source": [
    "`Finish`: Next, finish implementing the code block below. This code computes the percentage change in the short- and long-maturity bond prices and stores the simulation data in the `simulation_results_task_3_array::Array{Float64,2}` array. See the `TODO` block."
   ]
  },
  {
   "cell_type": "code",
   "execution_count": 18,
   "id": "c6956b4d-f19d-4a94-8638-120ff379d830",
   "metadata": {},
   "outputs": [],
   "source": [
    "simulation_results_task_3_array = let\n",
    "    \n",
    "    # initialize -\n",
    "    simulation_results_task_3_array = Array{Float64,2}(undef, number_of_samples_task_2, 4);\n",
    "    VB_short = short_duration_bond.price # original\n",
    "    VB_long = bond_coupon_model.price\n",
    "\n",
    "    # main loop -\n",
    "    for i ∈ eachindex(β)\n",
    "        β_value = β[i]\n",
    "    \n",
    "        model_short = deepcopy(short_duration_bond); # create a copy of the short-duration model\n",
    "        model_long = deepcopy(bond_coupon_model); # create a copy of the original bond model (long duration)\n",
    "        \n",
    "        ### TODO: update the rate for the model_short, and model_long instances -\n",
    "        model_short.rate = β_value*short_duration_bond.rate\n",
    "        model_long.rate = β_value*bond_coupon_model.rate\n",
    "        # throw(ErrorException(\"TODO: Implement the logic to update the rate for model_short and model_long based on β_value. Comment out this line when you implement the logic.\"))\n",
    "        ### END \n",
    "        \n",
    "        # compute: use short-cut syntax and compute the price of the short- and long-duration bonds\n",
    "        perturbed_price_short = model_short |> discount_model |> x-> x.price\n",
    "        perturbed_price_long = model_long |> discount_model |> x-> x.price\n",
    "        \n",
    "        # capture: put data in simulation_results_task_3_array\n",
    "        simulation_results_task_3_array[i,1] = β_value; # col 1: store the perturbation value\n",
    "        simulation_results_task_3_array[i,2] = 100*((model_short.rate - short_duration_bond.rate)/(short_duration_bond.rate));    # col 2: percentage change in r̄\n",
    "        simulation_results_task_3_array[i,3] = 100*((model_short.price - VB_short)/(VB_short)); # col 3: percentage change in the price of the short bond\n",
    "        simulation_results_task_3_array[i,4] = 100*((model_long.price - VB_long)/(VB_long)); # col 4: percentage change in the price of the long bond\n",
    "    end\n",
    "    \n",
    "    simulation_results_task_3_array\n",
    "end;"
   ]
  },
  {
   "cell_type": "code",
   "execution_count": 19,
   "id": "124d3276-db40-4d72-861c-f6dbe92bf660",
   "metadata": {},
   "outputs": [
    {
     "name": "stdout",
     "output_type": "stream",
     "text": [
      "=========== ========== ================== ==================\n",
      " \u001b[1m        β \u001b[0m \u001b[1m   Δr̄ (%) \u001b[0m \u001b[1m ΔPrice-short (%) \u001b[0m \u001b[1m ΔPrice-long (%) \u001b[0m\n",
      "=========== ========== ================== ==================\n",
      "       0.8      -20.0            12.4282           16.0974\n",
      "  0.866667   -13.3333            8.07545           10.3548\n",
      "  0.933333   -6.66667            3.93655           4.99867\n",
      "       1.0        0.0                0.0               0.0\n",
      "   1.06667    6.66667           -3.74502          -4.66795\n",
      "   1.13333    13.3333           -7.30872          -9.02979\n",
      "       1.2       20.0           -10.7007          -13.1082\n",
      "=========== ========== ================== ==================\n"
     ]
    }
   ],
   "source": [
    "# let's make a table to display the results of the simulation for Task 3\n",
    "pretty_table(simulation_results_task_3_array, header=[\"β\",\"Δr̄ (%)\", \"ΔPrice-short (%)\", \"ΔPrice-long (%)\"] , tf=tf_simple)"
   ]
  },
  {
   "cell_type": "markdown",
   "id": "0611bd2b",
   "metadata": {},
   "source": [
    "#### Does price asymmetry change with duration?\n",
    "\n",
    "Based on the table above:\n",
    "1. Does price asymmetry change with bond duration/maturity? Set `is_price_asymmetry_func_maturity` to `true` or `false` based on your observation.\n",
    "2. Which bond shows larger absolute price changes for the same yield changes: short-duration (20-year) or long-duration (30-year)?\n",
    "3. Compare the asymmetry pattern between the two bonds - is the asymmetry effect more pronounced in longer-maturity bonds?\n",
    "4. In one sentence, explain how maturity affects the price asymmetry phenomenon in coupon-bearing securities."
   ]
  },
  {
   "cell_type": "code",
   "execution_count": 20,
   "id": "148c6a16-df63-493d-8393-d8ea1823251a",
   "metadata": {},
   "outputs": [],
   "source": [
    "is_price_asymmetry_func_maturity = true; # update this value {true | false}"
   ]
  },
  {
   "cell_type": "markdown",
   "id": "7ea2a9f2-d9e9-4706-bdd9-4cb29e76dd1c",
   "metadata": {},
   "source": [
    "__Explain your answers here__ to Q2, Q3, and Q4 in a few sentences, providing reasoning based on the simulation results. This is a markdown cell, so you can use bullet points, numbered lists, or any other formatting that helps clarify your explanation.\n",
    "\n",
    "Q2 The long-duration (30-year) bond shows larger absolute price changes. For example, when yields decrease by 20%, the 20-year bond price rises by about 12.4%, while the 30-year bond rises by about 16.1%. Similarly, when yields increase by 20%, the 20-year bond falls by about 10.7%, but the 30-year bond falls by about 13.1%.\n",
    "\n",
    "Q3 Yes, the asymmetry is more pronounced for the 30-year bond. The difference between price gains (when yields fall) and price losses (when yields rise) is wider for the long bond (e.g., +16.1% vs. –13.1%) compared to the short bond (+12.4% vs. –10.7%), showing that longer maturities exaggerate the asymmetry effect.\n",
    "\n",
    "Q4 Longer maturity bonds exhibit stronger price asymmetry, meaning they are more sensitive to yield decreases than to equivalent yield increases, amplifying the convexity effect in longer-dated securities."
   ]
  },
  {
   "cell_type": "code",
   "execution_count": 21,
   "id": "6b299e79",
   "metadata": {},
   "outputs": [],
   "source": [
    "did_I_answer_DQ2_flag = true; # update this value {true | false}"
   ]
  },
  {
   "cell_type": "markdown",
   "id": "3e2490e6-aea1-4e8f-903d-522b8ba19607",
   "metadata": {},
   "source": [
    "## Testing\n",
    "In the code block below, we compare your answers to those of the teaching team and give you feedback on which items are the same (which presumably means they are correct) and which are different. \n",
    "\n",
    "`Unhide` the code block below (if you are curious) about how we implemented the tests and what we are testing."
   ]
  },
  {
   "cell_type": "code",
   "execution_count": 22,
   "id": "0f69ab74-c7a8-4927-9053-610d3ed13807",
   "metadata": {},
   "outputs": [
    {
     "name": "stdout",
     "output_type": "stream",
     "text": [
      "\u001b[0m\u001b[1mTest Summary:                       | \u001b[22m\u001b[32m\u001b[1mPass  \u001b[22m\u001b[39m\u001b[36m\u001b[1mTotal  \u001b[22m\u001b[39m\u001b[0m\u001b[1mTime\u001b[22m\n",
      "CHEME 5660 problem set 1 test suite | \u001b[32m  27  \u001b[39m\u001b[36m   27  \u001b[39m\u001b[0m1.5s\n",
      "  include.jl run check              | \u001b[32m   1  \u001b[39m\u001b[36m    1  \u001b[39m\u001b[0m0.9s\n",
      "  zero-coupon model tests           | \u001b[32m   6  \u001b[39m\u001b[36m    6  \u001b[39m\u001b[0m0.1s\n",
      "  note model tests                  | \u001b[32m   7  \u001b[39m\u001b[36m    7  \u001b[39m\u001b[0m0.0s\n",
      "  bond model tests                  | \u001b[32m   7  \u001b[39m\u001b[36m    7  \u001b[39m\u001b[0m0.0s\n",
      "  Task 2 tests                      | \u001b[32m   3  \u001b[39m\u001b[36m    3  \u001b[39m\u001b[0m0.5s\n",
      "  Task 3 tests                      | \u001b[32m   3  \u001b[39m\u001b[36m    3  \u001b[39m\u001b[0m0.0s\n"
     ]
    }
   ],
   "source": [
    "let\n",
    "\n",
    "    # load teaching team solution data -\n",
    "    saved_solution_dict = joinpath(_PATH_TO_SOLN,\"PS1-TeachingTeam-Solution-CHEME-5660-Fall-2025.jld2\") |> load;\n",
    "\n",
    "    @testset verbose = true \"CHEME 5660 problem set 1 test suite\" begin\n",
    "\n",
    "        @testset \"include.jl run check\" begin\n",
    "            @test _DID_THIS_INCLUDE_JL_RUN == true\n",
    "        end\n",
    "\n",
    "        @testset \"zero-coupon model tests\" begin\n",
    "            zero_model_soln = saved_solution_dict[\"zero_coupon_model\"];\n",
    "\n",
    "            # check the data on the zero model -\n",
    "            @test isnothing(zero_coupon_model) == false\n",
    "            @test zero_model_soln.T == zero_coupon_model.T\n",
    "            @test zero_model_soln.n == zero_coupon_model.n\n",
    "            @test zero_model_soln.par == zero_coupon_model.par\n",
    "            @test isapprox(zero_model_soln.rate, zero_coupon_model.rate, rtol=1e-10)  # Use isapprox for rates\n",
    "            @test isapprox(zero_model_soln.price, zero_coupon_model.price, atol=1e-4)\n",
    "        end\n",
    "\n",
    "        @testset \"note model tests\" begin\n",
    "            note_model_soln = saved_solution_dict[\"note_coupon_model\"];\n",
    "\n",
    "            # check the data on the note -\n",
    "            @test isnothing(note_coupon_model) == false\n",
    "            @test note_model_soln.T == note_coupon_model.T\n",
    "            @test note_model_soln.λ == note_coupon_model.λ\n",
    "            @test note_model_soln.par == note_coupon_model.par\n",
    "            @test isapprox(note_model_soln.rate, note_coupon_model.rate, rtol=1e-10)  # Use isapprox for rates\n",
    "            @test isapprox(note_model_soln.coupon, note_coupon_model.coupon, rtol=1e-10)  # Use isapprox for coupon rates\n",
    "            @test isapprox(note_model_soln.price, note_coupon_model.price, atol=1e-4)\n",
    "        end\n",
    "\n",
    "        @testset \"bond model tests\" begin\n",
    "            bond_model_soln = saved_solution_dict[\"bond_coupon_model\"];\n",
    "\n",
    "            # check the data on the bond -\n",
    "            @test isnothing(bond_coupon_model) == false\n",
    "            @test bond_model_soln.T == bond_coupon_model.T\n",
    "            @test bond_model_soln.λ == bond_coupon_model.λ\n",
    "            @test bond_model_soln.par == bond_coupon_model.par\n",
    "            @test isapprox(bond_model_soln.rate, bond_coupon_model.rate, rtol=1e-10)  # Use isapprox for rates\n",
    "            @test isapprox(bond_model_soln.coupon, bond_coupon_model.coupon, rtol=1e-10)  # Use isapprox for coupon rates\n",
    "            @test isapprox(bond_model_soln.price, bond_coupon_model.price, atol=1e-4)\n",
    "        end\n",
    "\n",
    "        @testset \"Task 2 tests\" begin\n",
    "            simulation_results_task_2_soln = saved_solution_dict[\"simulation_results_task_2_array\"];\n",
    "            task_2_flag = saved_solution_dict[\"does_theorem_4_hold_for_bills\"];\n",
    "            \n",
    "            @test isapprox(simulation_results_task_2_soln, simulation_results_task_2_array, rtol=1e-6)  # Use isapprox for array comparison\n",
    "            @test does_theorem_4_hold_for_bills == task_2_flag\n",
    "            @test did_I_answer_DQ1_flag == true\n",
    "        end\n",
    "\n",
    "        @testset \"Task 3 tests\" begin\n",
    "            simulation_results_task_3_soln = saved_solution_dict[\"simulation_results_task_3_array\"];\n",
    "            task_3_flag = saved_solution_dict[\"is_price_asymmetry_func_maturity\"];\n",
    "            \n",
    "            @test isapprox(simulation_results_task_3_soln, simulation_results_task_3_array, rtol=1e-6)  # Use isapprox for array comparison\n",
    "            @test is_price_asymmetry_func_maturity == task_3_flag\n",
    "            @test did_I_answer_DQ2_flag == true\n",
    "        end\n",
    "    end\n",
    "end;"
   ]
  },
  {
   "cell_type": "markdown",
   "id": "9c8c6693-8ce1-48be-9055-34a5c6c62d9f",
   "metadata": {},
   "source": [
    "## Disclaimer and Risks\n",
    "__This content is offered solely for training and informational purposes__. No offer or solicitation to buy or sell securities or derivative products or any investment or trading advice or strategy is made, given, or endorsed by the teaching team. \n",
    "\n",
    "__Trading involves risk__. Carefully review your financial situation before investing in securities, futures contracts, options, or commodity interests. Past performance, whether actual or indicated by historical tests of strategies, is no guarantee of future performance or success. Trading is generally inappropriate for someone with limited resources, investment or trading experience, or a low-risk tolerance.  Only risk capital that is not required for living expenses.\n",
    "\n",
    "__You are fully responsible for any investment or trading decisions you make__. Such decisions should be based solely on evaluating your financial circumstances, investment or trading objectives, risk tolerance, and liquidity needs."
   ]
  }
 ],
 "metadata": {
  "kernelspec": {
   "display_name": "Julia 1.11.6",
   "language": "julia",
   "name": "julia-1.11"
  },
  "language_info": {
   "file_extension": ".jl",
   "mimetype": "application/julia",
   "name": "julia",
   "version": "1.11.6"
  }
 },
 "nbformat": 4,
 "nbformat_minor": 5
}
